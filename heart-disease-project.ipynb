{
 "cells": [
  {
   "cell_type": "markdown",
   "metadata": {},
   "source": [
    "# Heart Disease Predictor\n",
    "\n",
    "This notebook leverages various Python-based machine learning and data science libraries to build a machine learning model capable of classifying whether or not an individual has heart disease based on their medical data.<br>\n",
    "\n",
    "## Problem Definition\n",
    "\n",
    "As this project attempts to predict whether or not an individual has heart disease, it is foundationally a **binary classification** problem.<br>\n",
    "\n",
    "In other words, given a patient's medical information, can we predict whether or not they have heart disease?\n",
    "\n",
    "## Data\n",
    "\n",
    "The original data for this project can be found from the [UCI Machine Learning Repository.](https://archive.ics.uci.edu/ml/datasets/heart+Disease)\n",
    "It can also be found on [Kaggle.](https://www.kaggle.com/ronitf/heart-disease-uci)\n",
    "\n",
    "\n",
    "## Features\n",
    "\n",
    "The features that will be analysed to predict the target variable (heart disease or no heart disease) will be:\n",
    "\n",
    "1. age - age in years \n",
    "2. sex - (1 = male; 0 = female) \n",
    "3. cp - chest pain type \n",
    "    * 0: Typical angina: chest pain related decrease blood supply to the heart\n",
    "    * 1: Atypical angina: chest pain not related to heart\n",
    "    * 2: Non-anginal pain: typically esophageal spasms (non heart related)\n",
    "    * 3: Asymptomatic: chest pain not showing signs of disease\n",
    "4. trestbps - resting blood pressure (in mm Hg on admission to the hospital)\n",
    "    * anything above 130-140 is typically cause for concern\n",
    "5. chol - serum cholestoral in mg/dl \n",
    "    * serum = LDL + HDL + .2 * triglycerides\n",
    "    * above 200 is cause for concern\n",
    "6. fbs - (fasting blood sugar > 120 mg/dl) (1 = true; 0 = false) \n",
    "    * '>126' mg/dL signals diabetes\n",
    "7. restecg - resting electrocardiographic results\n",
    "    * 0: Nothing to note\n",
    "    * 1: ST-T Wave abnormality\n",
    "        - can range from mild symptoms to severe problems\n",
    "        - signals non-normal heart beat\n",
    "    * 2: Possible or definite left ventricular hypertrophy\n",
    "        - Enlarged heart's main pumping chamber\n",
    "8. thalach - maximum heart rate achieved \n",
    "9. exang - exercise induced angina (1 = yes; 0 = no) \n",
    "10. oldpeak - ST depression induced by exercise relative to rest \n",
    "    * looks at stress of heart during excercise\n",
    "    * unhealthy heart will stress more\n",
    "11. slope - the slope of the peak exercise ST segment\n",
    "    * 0: Upsloping: better heart rate with excercise (uncommon)\n",
    "    * 1: Flatsloping: minimal change (typical healthy heart)\n",
    "    * 2: Downslopins: signs of unhealthy heart\n",
    "12. ca - number of major vessels (0-3) colored by flourosopy \n",
    "    * colored vessel means the doctor can see the blood passing through\n",
    "    * the more blood movement the better (no clots)\n",
    "13. thal - thalium stress result\n",
    "    * 1,3: normal\n",
    "    * 6: fixed defect: used to be defect but ok now\n",
    "    * 7: reversable defect: no proper blood movement when excercising \n",
    "14. target - have disease or not (1=yes, 0=no) (= the predicted attribute)"
   ]
  },
  {
   "cell_type": "markdown",
   "metadata": {},
   "source": [
    "### Tools and Libraries\n",
    "\n",
    "In this project, the following tools were used:\n",
    "* pandas for data analysis\n",
    "* NumPy for numerical operations\n",
    "* Matplotlib for data visualization\n",
    "* Scikit-Learn for modelling and evaluation"
   ]
  },
  {
   "cell_type": "code",
   "execution_count": 1,
   "metadata": {},
   "outputs": [],
   "source": [
    "# Exploratory data analysis and plotting libraries\n",
    "import numpy as np\n",
    "import pandas as pd \n",
    "import matplotlib.pyplot as plt\n",
    "import seaborn as sns \n",
    "\n",
    "# Generate plots within notebook\n",
    "%matplotlib inline \n",
    "\n",
    "## Models\n",
    "from sklearn.linear_model import LogisticRegression\n",
    "from sklearn.neighbors import KNeighborsClassifier\n",
    "from sklearn.ensemble import RandomForestClassifier\n",
    "from sklearn import svm\n",
    "from catboost import CatBoostClassifier\n",
    "\n",
    "## Model evaluators\n",
    "from sklearn.model_selection import train_test_split, cross_val_score\n",
    "from sklearn.model_selection import RandomizedSearchCV, GridSearchCV\n",
    "from sklearn.metrics import confusion_matrix, classification_report\n",
    "from sklearn.metrics import precision_score, recall_score, f1_score\n",
    "from sklearn.metrics import plot_roc_curve"
   ]
  },
  {
   "cell_type": "markdown",
   "metadata": {},
   "source": [
    "### Load Data"
   ]
  },
  {
   "cell_type": "code",
   "execution_count": 2,
   "metadata": {},
   "outputs": [
    {
     "data": {
      "text/html": [
       "<div>\n",
       "<style scoped>\n",
       "    .dataframe tbody tr th:only-of-type {\n",
       "        vertical-align: middle;\n",
       "    }\n",
       "\n",
       "    .dataframe tbody tr th {\n",
       "        vertical-align: top;\n",
       "    }\n",
       "\n",
       "    .dataframe thead th {\n",
       "        text-align: right;\n",
       "    }\n",
       "</style>\n",
       "<table border=\"1\" class=\"dataframe\">\n",
       "  <thead>\n",
       "    <tr style=\"text-align: right;\">\n",
       "      <th></th>\n",
       "      <th>age</th>\n",
       "      <th>sex</th>\n",
       "      <th>cp</th>\n",
       "      <th>trestbps</th>\n",
       "      <th>chol</th>\n",
       "      <th>fbs</th>\n",
       "      <th>restecg</th>\n",
       "      <th>thalach</th>\n",
       "      <th>exang</th>\n",
       "      <th>oldpeak</th>\n",
       "      <th>slope</th>\n",
       "      <th>ca</th>\n",
       "      <th>thal</th>\n",
       "      <th>target</th>\n",
       "    </tr>\n",
       "  </thead>\n",
       "  <tbody>\n",
       "    <tr>\n",
       "      <th>0</th>\n",
       "      <td>63</td>\n",
       "      <td>1</td>\n",
       "      <td>3</td>\n",
       "      <td>145</td>\n",
       "      <td>233</td>\n",
       "      <td>1</td>\n",
       "      <td>0</td>\n",
       "      <td>150</td>\n",
       "      <td>0</td>\n",
       "      <td>2.3</td>\n",
       "      <td>0</td>\n",
       "      <td>0</td>\n",
       "      <td>1</td>\n",
       "      <td>1</td>\n",
       "    </tr>\n",
       "    <tr>\n",
       "      <th>1</th>\n",
       "      <td>37</td>\n",
       "      <td>1</td>\n",
       "      <td>2</td>\n",
       "      <td>130</td>\n",
       "      <td>250</td>\n",
       "      <td>0</td>\n",
       "      <td>1</td>\n",
       "      <td>187</td>\n",
       "      <td>0</td>\n",
       "      <td>3.5</td>\n",
       "      <td>0</td>\n",
       "      <td>0</td>\n",
       "      <td>2</td>\n",
       "      <td>1</td>\n",
       "    </tr>\n",
       "    <tr>\n",
       "      <th>2</th>\n",
       "      <td>41</td>\n",
       "      <td>0</td>\n",
       "      <td>1</td>\n",
       "      <td>130</td>\n",
       "      <td>204</td>\n",
       "      <td>0</td>\n",
       "      <td>0</td>\n",
       "      <td>172</td>\n",
       "      <td>0</td>\n",
       "      <td>1.4</td>\n",
       "      <td>2</td>\n",
       "      <td>0</td>\n",
       "      <td>2</td>\n",
       "      <td>1</td>\n",
       "    </tr>\n",
       "    <tr>\n",
       "      <th>3</th>\n",
       "      <td>56</td>\n",
       "      <td>1</td>\n",
       "      <td>1</td>\n",
       "      <td>120</td>\n",
       "      <td>236</td>\n",
       "      <td>0</td>\n",
       "      <td>1</td>\n",
       "      <td>178</td>\n",
       "      <td>0</td>\n",
       "      <td>0.8</td>\n",
       "      <td>2</td>\n",
       "      <td>0</td>\n",
       "      <td>2</td>\n",
       "      <td>1</td>\n",
       "    </tr>\n",
       "    <tr>\n",
       "      <th>4</th>\n",
       "      <td>57</td>\n",
       "      <td>0</td>\n",
       "      <td>0</td>\n",
       "      <td>120</td>\n",
       "      <td>354</td>\n",
       "      <td>0</td>\n",
       "      <td>1</td>\n",
       "      <td>163</td>\n",
       "      <td>1</td>\n",
       "      <td>0.6</td>\n",
       "      <td>2</td>\n",
       "      <td>0</td>\n",
       "      <td>2</td>\n",
       "      <td>1</td>\n",
       "    </tr>\n",
       "    <tr>\n",
       "      <th>...</th>\n",
       "      <td>...</td>\n",
       "      <td>...</td>\n",
       "      <td>...</td>\n",
       "      <td>...</td>\n",
       "      <td>...</td>\n",
       "      <td>...</td>\n",
       "      <td>...</td>\n",
       "      <td>...</td>\n",
       "      <td>...</td>\n",
       "      <td>...</td>\n",
       "      <td>...</td>\n",
       "      <td>...</td>\n",
       "      <td>...</td>\n",
       "      <td>...</td>\n",
       "    </tr>\n",
       "    <tr>\n",
       "      <th>298</th>\n",
       "      <td>57</td>\n",
       "      <td>0</td>\n",
       "      <td>0</td>\n",
       "      <td>140</td>\n",
       "      <td>241</td>\n",
       "      <td>0</td>\n",
       "      <td>1</td>\n",
       "      <td>123</td>\n",
       "      <td>1</td>\n",
       "      <td>0.2</td>\n",
       "      <td>1</td>\n",
       "      <td>0</td>\n",
       "      <td>3</td>\n",
       "      <td>0</td>\n",
       "    </tr>\n",
       "    <tr>\n",
       "      <th>299</th>\n",
       "      <td>45</td>\n",
       "      <td>1</td>\n",
       "      <td>3</td>\n",
       "      <td>110</td>\n",
       "      <td>264</td>\n",
       "      <td>0</td>\n",
       "      <td>1</td>\n",
       "      <td>132</td>\n",
       "      <td>0</td>\n",
       "      <td>1.2</td>\n",
       "      <td>1</td>\n",
       "      <td>0</td>\n",
       "      <td>3</td>\n",
       "      <td>0</td>\n",
       "    </tr>\n",
       "    <tr>\n",
       "      <th>300</th>\n",
       "      <td>68</td>\n",
       "      <td>1</td>\n",
       "      <td>0</td>\n",
       "      <td>144</td>\n",
       "      <td>193</td>\n",
       "      <td>1</td>\n",
       "      <td>1</td>\n",
       "      <td>141</td>\n",
       "      <td>0</td>\n",
       "      <td>3.4</td>\n",
       "      <td>1</td>\n",
       "      <td>2</td>\n",
       "      <td>3</td>\n",
       "      <td>0</td>\n",
       "    </tr>\n",
       "    <tr>\n",
       "      <th>301</th>\n",
       "      <td>57</td>\n",
       "      <td>1</td>\n",
       "      <td>0</td>\n",
       "      <td>130</td>\n",
       "      <td>131</td>\n",
       "      <td>0</td>\n",
       "      <td>1</td>\n",
       "      <td>115</td>\n",
       "      <td>1</td>\n",
       "      <td>1.2</td>\n",
       "      <td>1</td>\n",
       "      <td>1</td>\n",
       "      <td>3</td>\n",
       "      <td>0</td>\n",
       "    </tr>\n",
       "    <tr>\n",
       "      <th>302</th>\n",
       "      <td>57</td>\n",
       "      <td>0</td>\n",
       "      <td>1</td>\n",
       "      <td>130</td>\n",
       "      <td>236</td>\n",
       "      <td>0</td>\n",
       "      <td>0</td>\n",
       "      <td>174</td>\n",
       "      <td>0</td>\n",
       "      <td>0.0</td>\n",
       "      <td>1</td>\n",
       "      <td>1</td>\n",
       "      <td>2</td>\n",
       "      <td>0</td>\n",
       "    </tr>\n",
       "  </tbody>\n",
       "</table>\n",
       "<p>303 rows × 14 columns</p>\n",
       "</div>"
      ],
      "text/plain": [
       "     age  sex  cp  trestbps  chol  fbs  restecg  thalach  exang  oldpeak  \\\n",
       "0     63    1   3       145   233    1        0      150      0      2.3   \n",
       "1     37    1   2       130   250    0        1      187      0      3.5   \n",
       "2     41    0   1       130   204    0        0      172      0      1.4   \n",
       "3     56    1   1       120   236    0        1      178      0      0.8   \n",
       "4     57    0   0       120   354    0        1      163      1      0.6   \n",
       "..   ...  ...  ..       ...   ...  ...      ...      ...    ...      ...   \n",
       "298   57    0   0       140   241    0        1      123      1      0.2   \n",
       "299   45    1   3       110   264    0        1      132      0      1.2   \n",
       "300   68    1   0       144   193    1        1      141      0      3.4   \n",
       "301   57    1   0       130   131    0        1      115      1      1.2   \n",
       "302   57    0   1       130   236    0        0      174      0      0.0   \n",
       "\n",
       "     slope  ca  thal  target  \n",
       "0        0   0     1       1  \n",
       "1        0   0     2       1  \n",
       "2        2   0     2       1  \n",
       "3        2   0     2       1  \n",
       "4        2   0     2       1  \n",
       "..     ...  ..   ...     ...  \n",
       "298      1   0     3       0  \n",
       "299      1   0     3       0  \n",
       "300      1   2     3       0  \n",
       "301      1   1     3       0  \n",
       "302      1   1     2       0  \n",
       "\n",
       "[303 rows x 14 columns]"
      ]
     },
     "execution_count": 2,
     "metadata": {},
     "output_type": "execute_result"
    }
   ],
   "source": [
    "df = pd.read_csv('data/heart-disease.csv')\n",
    "df"
   ]
  },
  {
   "cell_type": "code",
   "execution_count": 3,
   "metadata": {},
   "outputs": [
    {
     "data": {
      "text/plain": [
       "(303, 14)"
      ]
     },
     "execution_count": 3,
     "metadata": {},
     "output_type": "execute_result"
    }
   ],
   "source": [
    "df.shape"
   ]
  },
  {
   "cell_type": "code",
   "execution_count": 4,
   "metadata": {},
   "outputs": [
    {
     "data": {
      "text/html": [
       "<div>\n",
       "<style scoped>\n",
       "    .dataframe tbody tr th:only-of-type {\n",
       "        vertical-align: middle;\n",
       "    }\n",
       "\n",
       "    .dataframe tbody tr th {\n",
       "        vertical-align: top;\n",
       "    }\n",
       "\n",
       "    .dataframe thead th {\n",
       "        text-align: right;\n",
       "    }\n",
       "</style>\n",
       "<table border=\"1\" class=\"dataframe\">\n",
       "  <thead>\n",
       "    <tr style=\"text-align: right;\">\n",
       "      <th></th>\n",
       "      <th>age</th>\n",
       "      <th>sex</th>\n",
       "      <th>cp</th>\n",
       "      <th>trestbps</th>\n",
       "      <th>chol</th>\n",
       "      <th>fbs</th>\n",
       "      <th>restecg</th>\n",
       "      <th>thalach</th>\n",
       "      <th>exang</th>\n",
       "      <th>oldpeak</th>\n",
       "      <th>slope</th>\n",
       "      <th>ca</th>\n",
       "      <th>thal</th>\n",
       "      <th>target</th>\n",
       "    </tr>\n",
       "  </thead>\n",
       "  <tbody>\n",
       "    <tr>\n",
       "      <th>0</th>\n",
       "      <td>63</td>\n",
       "      <td>1</td>\n",
       "      <td>3</td>\n",
       "      <td>145</td>\n",
       "      <td>233</td>\n",
       "      <td>1</td>\n",
       "      <td>0</td>\n",
       "      <td>150</td>\n",
       "      <td>0</td>\n",
       "      <td>2.3</td>\n",
       "      <td>0</td>\n",
       "      <td>0</td>\n",
       "      <td>1</td>\n",
       "      <td>1</td>\n",
       "    </tr>\n",
       "    <tr>\n",
       "      <th>1</th>\n",
       "      <td>37</td>\n",
       "      <td>1</td>\n",
       "      <td>2</td>\n",
       "      <td>130</td>\n",
       "      <td>250</td>\n",
       "      <td>0</td>\n",
       "      <td>1</td>\n",
       "      <td>187</td>\n",
       "      <td>0</td>\n",
       "      <td>3.5</td>\n",
       "      <td>0</td>\n",
       "      <td>0</td>\n",
       "      <td>2</td>\n",
       "      <td>1</td>\n",
       "    </tr>\n",
       "    <tr>\n",
       "      <th>2</th>\n",
       "      <td>41</td>\n",
       "      <td>0</td>\n",
       "      <td>1</td>\n",
       "      <td>130</td>\n",
       "      <td>204</td>\n",
       "      <td>0</td>\n",
       "      <td>0</td>\n",
       "      <td>172</td>\n",
       "      <td>0</td>\n",
       "      <td>1.4</td>\n",
       "      <td>2</td>\n",
       "      <td>0</td>\n",
       "      <td>2</td>\n",
       "      <td>1</td>\n",
       "    </tr>\n",
       "    <tr>\n",
       "      <th>3</th>\n",
       "      <td>56</td>\n",
       "      <td>1</td>\n",
       "      <td>1</td>\n",
       "      <td>120</td>\n",
       "      <td>236</td>\n",
       "      <td>0</td>\n",
       "      <td>1</td>\n",
       "      <td>178</td>\n",
       "      <td>0</td>\n",
       "      <td>0.8</td>\n",
       "      <td>2</td>\n",
       "      <td>0</td>\n",
       "      <td>2</td>\n",
       "      <td>1</td>\n",
       "    </tr>\n",
       "    <tr>\n",
       "      <th>4</th>\n",
       "      <td>57</td>\n",
       "      <td>0</td>\n",
       "      <td>0</td>\n",
       "      <td>120</td>\n",
       "      <td>354</td>\n",
       "      <td>0</td>\n",
       "      <td>1</td>\n",
       "      <td>163</td>\n",
       "      <td>1</td>\n",
       "      <td>0.6</td>\n",
       "      <td>2</td>\n",
       "      <td>0</td>\n",
       "      <td>2</td>\n",
       "      <td>1</td>\n",
       "    </tr>\n",
       "  </tbody>\n",
       "</table>\n",
       "</div>"
      ],
      "text/plain": [
       "   age  sex  cp  trestbps  chol  fbs  restecg  thalach  exang  oldpeak  slope  \\\n",
       "0   63    1   3       145   233    1        0      150      0      2.3      0   \n",
       "1   37    1   2       130   250    0        1      187      0      3.5      0   \n",
       "2   41    0   1       130   204    0        0      172      0      1.4      2   \n",
       "3   56    1   1       120   236    0        1      178      0      0.8      2   \n",
       "4   57    0   0       120   354    0        1      163      1      0.6      2   \n",
       "\n",
       "   ca  thal  target  \n",
       "0   0     1       1  \n",
       "1   0     2       1  \n",
       "2   0     2       1  \n",
       "3   0     2       1  \n",
       "4   0     2       1  "
      ]
     },
     "execution_count": 4,
     "metadata": {},
     "output_type": "execute_result"
    }
   ],
   "source": [
    "## Exploratory Data Analysis\n",
    "\n",
    "df.head()"
   ]
  },
  {
   "cell_type": "code",
   "execution_count": 5,
   "metadata": {},
   "outputs": [
    {
     "data": {
      "text/html": [
       "<div>\n",
       "<style scoped>\n",
       "    .dataframe tbody tr th:only-of-type {\n",
       "        vertical-align: middle;\n",
       "    }\n",
       "\n",
       "    .dataframe tbody tr th {\n",
       "        vertical-align: top;\n",
       "    }\n",
       "\n",
       "    .dataframe thead th {\n",
       "        text-align: right;\n",
       "    }\n",
       "</style>\n",
       "<table border=\"1\" class=\"dataframe\">\n",
       "  <thead>\n",
       "    <tr style=\"text-align: right;\">\n",
       "      <th></th>\n",
       "      <th>age</th>\n",
       "      <th>sex</th>\n",
       "      <th>cp</th>\n",
       "      <th>trestbps</th>\n",
       "      <th>chol</th>\n",
       "      <th>fbs</th>\n",
       "      <th>restecg</th>\n",
       "      <th>thalach</th>\n",
       "      <th>exang</th>\n",
       "      <th>oldpeak</th>\n",
       "      <th>slope</th>\n",
       "      <th>ca</th>\n",
       "      <th>thal</th>\n",
       "      <th>target</th>\n",
       "    </tr>\n",
       "  </thead>\n",
       "  <tbody>\n",
       "    <tr>\n",
       "      <th>298</th>\n",
       "      <td>57</td>\n",
       "      <td>0</td>\n",
       "      <td>0</td>\n",
       "      <td>140</td>\n",
       "      <td>241</td>\n",
       "      <td>0</td>\n",
       "      <td>1</td>\n",
       "      <td>123</td>\n",
       "      <td>1</td>\n",
       "      <td>0.2</td>\n",
       "      <td>1</td>\n",
       "      <td>0</td>\n",
       "      <td>3</td>\n",
       "      <td>0</td>\n",
       "    </tr>\n",
       "    <tr>\n",
       "      <th>299</th>\n",
       "      <td>45</td>\n",
       "      <td>1</td>\n",
       "      <td>3</td>\n",
       "      <td>110</td>\n",
       "      <td>264</td>\n",
       "      <td>0</td>\n",
       "      <td>1</td>\n",
       "      <td>132</td>\n",
       "      <td>0</td>\n",
       "      <td>1.2</td>\n",
       "      <td>1</td>\n",
       "      <td>0</td>\n",
       "      <td>3</td>\n",
       "      <td>0</td>\n",
       "    </tr>\n",
       "    <tr>\n",
       "      <th>300</th>\n",
       "      <td>68</td>\n",
       "      <td>1</td>\n",
       "      <td>0</td>\n",
       "      <td>144</td>\n",
       "      <td>193</td>\n",
       "      <td>1</td>\n",
       "      <td>1</td>\n",
       "      <td>141</td>\n",
       "      <td>0</td>\n",
       "      <td>3.4</td>\n",
       "      <td>1</td>\n",
       "      <td>2</td>\n",
       "      <td>3</td>\n",
       "      <td>0</td>\n",
       "    </tr>\n",
       "    <tr>\n",
       "      <th>301</th>\n",
       "      <td>57</td>\n",
       "      <td>1</td>\n",
       "      <td>0</td>\n",
       "      <td>130</td>\n",
       "      <td>131</td>\n",
       "      <td>0</td>\n",
       "      <td>1</td>\n",
       "      <td>115</td>\n",
       "      <td>1</td>\n",
       "      <td>1.2</td>\n",
       "      <td>1</td>\n",
       "      <td>1</td>\n",
       "      <td>3</td>\n",
       "      <td>0</td>\n",
       "    </tr>\n",
       "    <tr>\n",
       "      <th>302</th>\n",
       "      <td>57</td>\n",
       "      <td>0</td>\n",
       "      <td>1</td>\n",
       "      <td>130</td>\n",
       "      <td>236</td>\n",
       "      <td>0</td>\n",
       "      <td>0</td>\n",
       "      <td>174</td>\n",
       "      <td>0</td>\n",
       "      <td>0.0</td>\n",
       "      <td>1</td>\n",
       "      <td>1</td>\n",
       "      <td>2</td>\n",
       "      <td>0</td>\n",
       "    </tr>\n",
       "  </tbody>\n",
       "</table>\n",
       "</div>"
      ],
      "text/plain": [
       "     age  sex  cp  trestbps  chol  fbs  restecg  thalach  exang  oldpeak  \\\n",
       "298   57    0   0       140   241    0        1      123      1      0.2   \n",
       "299   45    1   3       110   264    0        1      132      0      1.2   \n",
       "300   68    1   0       144   193    1        1      141      0      3.4   \n",
       "301   57    1   0       130   131    0        1      115      1      1.2   \n",
       "302   57    0   1       130   236    0        0      174      0      0.0   \n",
       "\n",
       "     slope  ca  thal  target  \n",
       "298      1   0     3       0  \n",
       "299      1   0     3       0  \n",
       "300      1   2     3       0  \n",
       "301      1   1     3       0  \n",
       "302      1   1     2       0  "
      ]
     },
     "execution_count": 5,
     "metadata": {},
     "output_type": "execute_result"
    }
   ],
   "source": [
    "df.tail()"
   ]
  },
  {
   "cell_type": "code",
   "execution_count": 6,
   "metadata": {},
   "outputs": [
    {
     "data": {
      "text/plain": [
       "1    165\n",
       "0    138\n",
       "Name: target, dtype: int64"
      ]
     },
     "execution_count": 6,
     "metadata": {},
     "output_type": "execute_result"
    }
   ],
   "source": [
    "# Find number of each count\n",
    "df['target'].value_counts()"
   ]
  },
  {
   "cell_type": "code",
   "execution_count": 7,
   "metadata": {},
   "outputs": [
    {
     "name": "stdout",
     "output_type": "stream",
     "text": [
      "<class 'pandas.core.frame.DataFrame'>\n",
      "RangeIndex: 303 entries, 0 to 302\n",
      "Data columns (total 14 columns):\n",
      " #   Column    Non-Null Count  Dtype  \n",
      "---  ------    --------------  -----  \n",
      " 0   age       303 non-null    int64  \n",
      " 1   sex       303 non-null    int64  \n",
      " 2   cp        303 non-null    int64  \n",
      " 3   trestbps  303 non-null    int64  \n",
      " 4   chol      303 non-null    int64  \n",
      " 5   fbs       303 non-null    int64  \n",
      " 6   restecg   303 non-null    int64  \n",
      " 7   thalach   303 non-null    int64  \n",
      " 8   exang     303 non-null    int64  \n",
      " 9   oldpeak   303 non-null    float64\n",
      " 10  slope     303 non-null    int64  \n",
      " 11  ca        303 non-null    int64  \n",
      " 12  thal      303 non-null    int64  \n",
      " 13  target    303 non-null    int64  \n",
      "dtypes: float64(1), int64(13)\n",
      "memory usage: 33.3 KB\n"
     ]
    }
   ],
   "source": [
    "df.info()"
   ]
  },
  {
   "cell_type": "code",
   "execution_count": 8,
   "metadata": {},
   "outputs": [
    {
     "data": {
      "text/plain": [
       "age         0\n",
       "sex         0\n",
       "cp          0\n",
       "trestbps    0\n",
       "chol        0\n",
       "fbs         0\n",
       "restecg     0\n",
       "thalach     0\n",
       "exang       0\n",
       "oldpeak     0\n",
       "slope       0\n",
       "ca          0\n",
       "thal        0\n",
       "target      0\n",
       "dtype: int64"
      ]
     },
     "execution_count": 8,
     "metadata": {},
     "output_type": "execute_result"
    }
   ],
   "source": [
    "# Check for missing avalues\n",
    "df.isna().sum()"
   ]
  },
  {
   "cell_type": "code",
   "execution_count": 9,
   "metadata": {},
   "outputs": [
    {
     "data": {
      "text/html": [
       "<div>\n",
       "<style scoped>\n",
       "    .dataframe tbody tr th:only-of-type {\n",
       "        vertical-align: middle;\n",
       "    }\n",
       "\n",
       "    .dataframe tbody tr th {\n",
       "        vertical-align: top;\n",
       "    }\n",
       "\n",
       "    .dataframe thead th {\n",
       "        text-align: right;\n",
       "    }\n",
       "</style>\n",
       "<table border=\"1\" class=\"dataframe\">\n",
       "  <thead>\n",
       "    <tr style=\"text-align: right;\">\n",
       "      <th></th>\n",
       "      <th>age</th>\n",
       "      <th>sex</th>\n",
       "      <th>cp</th>\n",
       "      <th>trestbps</th>\n",
       "      <th>chol</th>\n",
       "      <th>fbs</th>\n",
       "      <th>restecg</th>\n",
       "      <th>thalach</th>\n",
       "      <th>exang</th>\n",
       "      <th>oldpeak</th>\n",
       "      <th>slope</th>\n",
       "      <th>ca</th>\n",
       "      <th>thal</th>\n",
       "      <th>target</th>\n",
       "    </tr>\n",
       "  </thead>\n",
       "  <tbody>\n",
       "    <tr>\n",
       "      <th>count</th>\n",
       "      <td>303.000000</td>\n",
       "      <td>303.000000</td>\n",
       "      <td>303.000000</td>\n",
       "      <td>303.000000</td>\n",
       "      <td>303.000000</td>\n",
       "      <td>303.000000</td>\n",
       "      <td>303.000000</td>\n",
       "      <td>303.000000</td>\n",
       "      <td>303.000000</td>\n",
       "      <td>303.000000</td>\n",
       "      <td>303.000000</td>\n",
       "      <td>303.000000</td>\n",
       "      <td>303.000000</td>\n",
       "      <td>303.000000</td>\n",
       "    </tr>\n",
       "    <tr>\n",
       "      <th>mean</th>\n",
       "      <td>54.366337</td>\n",
       "      <td>0.683168</td>\n",
       "      <td>0.966997</td>\n",
       "      <td>131.623762</td>\n",
       "      <td>246.264026</td>\n",
       "      <td>0.148515</td>\n",
       "      <td>0.528053</td>\n",
       "      <td>149.646865</td>\n",
       "      <td>0.326733</td>\n",
       "      <td>1.039604</td>\n",
       "      <td>1.399340</td>\n",
       "      <td>0.729373</td>\n",
       "      <td>2.313531</td>\n",
       "      <td>0.544554</td>\n",
       "    </tr>\n",
       "    <tr>\n",
       "      <th>std</th>\n",
       "      <td>9.082101</td>\n",
       "      <td>0.466011</td>\n",
       "      <td>1.032052</td>\n",
       "      <td>17.538143</td>\n",
       "      <td>51.830751</td>\n",
       "      <td>0.356198</td>\n",
       "      <td>0.525860</td>\n",
       "      <td>22.905161</td>\n",
       "      <td>0.469794</td>\n",
       "      <td>1.161075</td>\n",
       "      <td>0.616226</td>\n",
       "      <td>1.022606</td>\n",
       "      <td>0.612277</td>\n",
       "      <td>0.498835</td>\n",
       "    </tr>\n",
       "    <tr>\n",
       "      <th>min</th>\n",
       "      <td>29.000000</td>\n",
       "      <td>0.000000</td>\n",
       "      <td>0.000000</td>\n",
       "      <td>94.000000</td>\n",
       "      <td>126.000000</td>\n",
       "      <td>0.000000</td>\n",
       "      <td>0.000000</td>\n",
       "      <td>71.000000</td>\n",
       "      <td>0.000000</td>\n",
       "      <td>0.000000</td>\n",
       "      <td>0.000000</td>\n",
       "      <td>0.000000</td>\n",
       "      <td>0.000000</td>\n",
       "      <td>0.000000</td>\n",
       "    </tr>\n",
       "    <tr>\n",
       "      <th>25%</th>\n",
       "      <td>47.500000</td>\n",
       "      <td>0.000000</td>\n",
       "      <td>0.000000</td>\n",
       "      <td>120.000000</td>\n",
       "      <td>211.000000</td>\n",
       "      <td>0.000000</td>\n",
       "      <td>0.000000</td>\n",
       "      <td>133.500000</td>\n",
       "      <td>0.000000</td>\n",
       "      <td>0.000000</td>\n",
       "      <td>1.000000</td>\n",
       "      <td>0.000000</td>\n",
       "      <td>2.000000</td>\n",
       "      <td>0.000000</td>\n",
       "    </tr>\n",
       "    <tr>\n",
       "      <th>50%</th>\n",
       "      <td>55.000000</td>\n",
       "      <td>1.000000</td>\n",
       "      <td>1.000000</td>\n",
       "      <td>130.000000</td>\n",
       "      <td>240.000000</td>\n",
       "      <td>0.000000</td>\n",
       "      <td>1.000000</td>\n",
       "      <td>153.000000</td>\n",
       "      <td>0.000000</td>\n",
       "      <td>0.800000</td>\n",
       "      <td>1.000000</td>\n",
       "      <td>0.000000</td>\n",
       "      <td>2.000000</td>\n",
       "      <td>1.000000</td>\n",
       "    </tr>\n",
       "    <tr>\n",
       "      <th>75%</th>\n",
       "      <td>61.000000</td>\n",
       "      <td>1.000000</td>\n",
       "      <td>2.000000</td>\n",
       "      <td>140.000000</td>\n",
       "      <td>274.500000</td>\n",
       "      <td>0.000000</td>\n",
       "      <td>1.000000</td>\n",
       "      <td>166.000000</td>\n",
       "      <td>1.000000</td>\n",
       "      <td>1.600000</td>\n",
       "      <td>2.000000</td>\n",
       "      <td>1.000000</td>\n",
       "      <td>3.000000</td>\n",
       "      <td>1.000000</td>\n",
       "    </tr>\n",
       "    <tr>\n",
       "      <th>max</th>\n",
       "      <td>77.000000</td>\n",
       "      <td>1.000000</td>\n",
       "      <td>3.000000</td>\n",
       "      <td>200.000000</td>\n",
       "      <td>564.000000</td>\n",
       "      <td>1.000000</td>\n",
       "      <td>2.000000</td>\n",
       "      <td>202.000000</td>\n",
       "      <td>1.000000</td>\n",
       "      <td>6.200000</td>\n",
       "      <td>2.000000</td>\n",
       "      <td>4.000000</td>\n",
       "      <td>3.000000</td>\n",
       "      <td>1.000000</td>\n",
       "    </tr>\n",
       "  </tbody>\n",
       "</table>\n",
       "</div>"
      ],
      "text/plain": [
       "              age         sex          cp    trestbps        chol         fbs  \\\n",
       "count  303.000000  303.000000  303.000000  303.000000  303.000000  303.000000   \n",
       "mean    54.366337    0.683168    0.966997  131.623762  246.264026    0.148515   \n",
       "std      9.082101    0.466011    1.032052   17.538143   51.830751    0.356198   \n",
       "min     29.000000    0.000000    0.000000   94.000000  126.000000    0.000000   \n",
       "25%     47.500000    0.000000    0.000000  120.000000  211.000000    0.000000   \n",
       "50%     55.000000    1.000000    1.000000  130.000000  240.000000    0.000000   \n",
       "75%     61.000000    1.000000    2.000000  140.000000  274.500000    0.000000   \n",
       "max     77.000000    1.000000    3.000000  200.000000  564.000000    1.000000   \n",
       "\n",
       "          restecg     thalach       exang     oldpeak       slope          ca  \\\n",
       "count  303.000000  303.000000  303.000000  303.000000  303.000000  303.000000   \n",
       "mean     0.528053  149.646865    0.326733    1.039604    1.399340    0.729373   \n",
       "std      0.525860   22.905161    0.469794    1.161075    0.616226    1.022606   \n",
       "min      0.000000   71.000000    0.000000    0.000000    0.000000    0.000000   \n",
       "25%      0.000000  133.500000    0.000000    0.000000    1.000000    0.000000   \n",
       "50%      1.000000  153.000000    0.000000    0.800000    1.000000    0.000000   \n",
       "75%      1.000000  166.000000    1.000000    1.600000    2.000000    1.000000   \n",
       "max      2.000000  202.000000    1.000000    6.200000    2.000000    4.000000   \n",
       "\n",
       "             thal      target  \n",
       "count  303.000000  303.000000  \n",
       "mean     2.313531    0.544554  \n",
       "std      0.612277    0.498835  \n",
       "min      0.000000    0.000000  \n",
       "25%      2.000000    0.000000  \n",
       "50%      2.000000    1.000000  \n",
       "75%      3.000000    1.000000  \n",
       "max      3.000000    1.000000  "
      ]
     },
     "execution_count": 9,
     "metadata": {},
     "output_type": "execute_result"
    }
   ],
   "source": [
    "df.describe()"
   ]
  },
  {
   "cell_type": "markdown",
   "metadata": {},
   "source": [
    "### Heart Disease Frequency According to Sex"
   ]
  },
  {
   "cell_type": "code",
   "execution_count": 10,
   "metadata": {},
   "outputs": [
    {
     "data": {
      "text/plain": [
       "1    207\n",
       "0     96\n",
       "Name: sex, dtype: int64"
      ]
     },
     "execution_count": 10,
     "metadata": {},
     "output_type": "execute_result"
    }
   ],
   "source": [
    "df.sex.value_counts()"
   ]
  },
  {
   "cell_type": "code",
   "execution_count": 11,
   "metadata": {},
   "outputs": [
    {
     "data": {
      "text/html": [
       "<div>\n",
       "<style scoped>\n",
       "    .dataframe tbody tr th:only-of-type {\n",
       "        vertical-align: middle;\n",
       "    }\n",
       "\n",
       "    .dataframe tbody tr th {\n",
       "        vertical-align: top;\n",
       "    }\n",
       "\n",
       "    .dataframe thead th {\n",
       "        text-align: right;\n",
       "    }\n",
       "</style>\n",
       "<table border=\"1\" class=\"dataframe\">\n",
       "  <thead>\n",
       "    <tr style=\"text-align: right;\">\n",
       "      <th>sex</th>\n",
       "      <th>0</th>\n",
       "      <th>1</th>\n",
       "    </tr>\n",
       "    <tr>\n",
       "      <th>target</th>\n",
       "      <th></th>\n",
       "      <th></th>\n",
       "    </tr>\n",
       "  </thead>\n",
       "  <tbody>\n",
       "    <tr>\n",
       "      <th>0</th>\n",
       "      <td>24</td>\n",
       "      <td>114</td>\n",
       "    </tr>\n",
       "    <tr>\n",
       "      <th>1</th>\n",
       "      <td>72</td>\n",
       "      <td>93</td>\n",
       "    </tr>\n",
       "  </tbody>\n",
       "</table>\n",
       "</div>"
      ],
      "text/plain": [
       "sex      0    1\n",
       "target         \n",
       "0       24  114\n",
       "1       72   93"
      ]
     },
     "execution_count": 11,
     "metadata": {},
     "output_type": "execute_result"
    }
   ],
   "source": [
    "# Compare target column with sex column\n",
    "pd.crosstab(df.target, df.sex)"
   ]
  },
  {
   "cell_type": "markdown",
   "metadata": {},
   "source": [
    "For this dataset, 75% of females and 45% of males have heart disease. As a baseline, solely looking at the sex feature, there is a 68% chance an individual may have heart disease."
   ]
  },
  {
   "cell_type": "code",
   "execution_count": 12,
   "metadata": {},
   "outputs": [
    {
     "data": {
      "text/plain": [
       "(array([0, 1]), <a list of 2 Text xticklabel objects>)"
      ]
     },
     "execution_count": 12,
     "metadata": {},
     "output_type": "execute_result"
    },
    {
     "data": {
      "image/png": "[encoded data removed]",
      "text/plain": [
       "<Figure size 720x432 with 1 Axes>"
      ]
     },
     "metadata": {
      "needs_background": "light"
     },
     "output_type": "display_data"
    }
   ],
   "source": [
    "# Create a plot of above crosstab\n",
    "pd.crosstab(df.target, df.sex).plot(kind='bar',\n",
    "                                   figsize=(10, 6),\n",
    "                                   color=['salmon', 'lightblue'])\n",
    "\n",
    "plt.title('Heart Disease Frequency According to Sex')\n",
    "plt.xlabel('0 = No Heart Disease, 1 = Heart Disease')\n",
    "plt.ylabel('Percentage')\n",
    "plt.legend(['Female', 'Male'])\n",
    "plt.xticks(rotation=0)"
   ]
  },
  {
   "cell_type": "markdown",
   "metadata": {},
   "source": [
    "### Heart Disease Frequency According to Age vs. Cholesterol Levels"
   ]
  },
  {
   "cell_type": "code",
   "execution_count": 13,
   "metadata": {},
   "outputs": [
    {
     "data": {
      "text/plain": [
       "<matplotlib.legend.Legend at 0x22b92d4e3a0>"
      ]
     },
     "execution_count": 13,
     "metadata": {},
     "output_type": "execute_result"
    },
    {
     "data": {
      "image/png": "[encoded data removed]",
      "text/plain": [
       "<Figure size 720x432 with 1 Axes>"
      ]
     },
     "metadata": {
      "needs_background": "light"
     },
     "output_type": "display_data"
    }
   ],
   "source": [
    "# Create figure\n",
    "plt.figure(figsize=(10, 6))\n",
    "\n",
    "# Create scatter plot with target=1\n",
    "plt.scatter(df.age[df.target==1],\n",
    "            df.chol[df.target==1],\n",
    "            c='salmon')\n",
    "\n",
    "# Create scatter plot with target=0\n",
    "plt.scatter(df.age[df.target==0],\n",
    "            df.chol[df.target==0],\n",
    "            c='lightblue')\n",
    "\n",
    "plt.title('Heart Disease Frequency According to Age vs. Max Heart Rate')\n",
    "plt.xlabel('Age')\n",
    "plt.ylabel('Chol')\n",
    "plt.legend(['Heart Disease', 'No Heart Disease'])"
   ]
  },
  {
   "cell_type": "markdown",
   "metadata": {},
   "source": [
    "### Heart Disease Frequency According to Age vs. Cholesterol"
   ]
  },
  {
   "cell_type": "code",
   "execution_count": 14,
   "metadata": {},
   "outputs": [
    {
     "data": {
      "text/plain": [
       "<matplotlib.legend.Legend at 0x22b92c10fd0>"
      ]
     },
     "execution_count": 14,
     "metadata": {},
     "output_type": "execute_result"
    },
    {
     "data": {
      "image/png": "[encoded data removed]",
      "text/plain": [
       "<Figure size 720x432 with 1 Axes>"
      ]
     },
     "metadata": {
      "needs_background": "light"
     },
     "output_type": "display_data"
    }
   ],
   "source": [
    "# Create figure\n",
    "plt.figure(figsize=(10, 6))\n",
    "\n",
    "# Create scatter plot with target=1\n",
    "plt.scatter(df.age[df.target==1],\n",
    "            df.chol[df.target==1],\n",
    "            c='salmon')\n",
    "\n",
    "# Create scatter plot with target=0\n",
    "plt.scatter(df.age[df.target==0],\n",
    "            df.chol[df.target==0],\n",
    "            c='lightblue')\n",
    "\n",
    "plt.title('Heart Disease Frequency According to Age vs. Cholesterol')\n",
    "plt.xlabel('Age')\n",
    "plt.ylabel('Cholesterol (mg/dl)')\n",
    "plt.legend(['Heart Disease', 'No Heart Disease'])"
   ]
  },
  {
   "cell_type": "code",
   "execution_count": 15,
   "metadata": {},
   "outputs": [
    {
     "data": {
      "text/plain": [
       "<matplotlib.axes._subplots.AxesSubplot at 0x22b92c73fd0>"
      ]
     },
     "execution_count": 15,
     "metadata": {},
     "output_type": "execute_result"
    },
    {
     "data": {
      "image/png": "[encoded data removed]",
      "text/plain": [
       "<Figure size 432x288 with 1 Axes>"
      ]
     },
     "metadata": {
      "needs_background": "light"
     },
     "output_type": "display_data"
    }
   ],
   "source": [
    "# Check distribution of age\n",
    "df.age.plot.hist()"
   ]
  },
  {
   "cell_type": "markdown",
   "metadata": {},
   "source": [
    "### Heart Disease Frequency According to Chest Pain Type"
   ]
  },
  {
   "cell_type": "code",
   "execution_count": 16,
   "metadata": {},
   "outputs": [
    {
     "data": {
      "text/html": [
       "<div>\n",
       "<style scoped>\n",
       "    .dataframe tbody tr th:only-of-type {\n",
       "        vertical-align: middle;\n",
       "    }\n",
       "\n",
       "    .dataframe tbody tr th {\n",
       "        vertical-align: top;\n",
       "    }\n",
       "\n",
       "    .dataframe thead th {\n",
       "        text-align: right;\n",
       "    }\n",
       "</style>\n",
       "<table border=\"1\" class=\"dataframe\">\n",
       "  <thead>\n",
       "    <tr style=\"text-align: right;\">\n",
       "      <th>target</th>\n",
       "      <th>0</th>\n",
       "      <th>1</th>\n",
       "    </tr>\n",
       "    <tr>\n",
       "      <th>cp</th>\n",
       "      <th></th>\n",
       "      <th></th>\n",
       "    </tr>\n",
       "  </thead>\n",
       "  <tbody>\n",
       "    <tr>\n",
       "      <th>0</th>\n",
       "      <td>104</td>\n",
       "      <td>39</td>\n",
       "    </tr>\n",
       "    <tr>\n",
       "      <th>1</th>\n",
       "      <td>9</td>\n",
       "      <td>41</td>\n",
       "    </tr>\n",
       "    <tr>\n",
       "      <th>2</th>\n",
       "      <td>18</td>\n",
       "      <td>69</td>\n",
       "    </tr>\n",
       "    <tr>\n",
       "      <th>3</th>\n",
       "      <td>7</td>\n",
       "      <td>16</td>\n",
       "    </tr>\n",
       "  </tbody>\n",
       "</table>\n",
       "</div>"
      ],
      "text/plain": [
       "target    0   1\n",
       "cp             \n",
       "0       104  39\n",
       "1         9  41\n",
       "2        18  69\n",
       "3         7  16"
      ]
     },
     "execution_count": 16,
     "metadata": {},
     "output_type": "execute_result"
    }
   ],
   "source": [
    "pd.crosstab(df.cp, df.target)"
   ]
  },
  {
   "cell_type": "code",
   "execution_count": 17,
   "metadata": {},
   "outputs": [
    {
     "data": {
      "text/plain": [
       "(array([0, 1, 2, 3]), <a list of 4 Text xticklabel objects>)"
      ]
     },
     "execution_count": 17,
     "metadata": {},
     "output_type": "execute_result"
    },
    {
     "data": {
      "image/png": "[encoded data removed]",
      "text/plain": [
       "<Figure size 720x432 with 1 Axes>"
      ]
     },
     "metadata": {
      "needs_background": "light"
     },
     "output_type": "display_data"
    }
   ],
   "source": [
    "# Create a new plot of above crosstab\n",
    "pd.crosstab(df.cp, df.target).plot(kind='bar', \n",
    "                                   figsize=(10,6), \n",
    "                                   color=['lightblue', 'salmon'])\n",
    "\n",
    "\n",
    "plt.title('Heart Disease Frequency According to Chest Pain Type')\n",
    "plt.xlabel('Chest Pain Type')\n",
    "plt.ylabel('Frequency')\n",
    "plt.legend(['No Disease', 'Disease'])\n",
    "plt.xticks(rotation = 0)"
   ]
  },
  {
   "cell_type": "code",
   "execution_count": 18,
   "metadata": {},
   "outputs": [
    {
     "data": {
      "image/png": "[encoded data removed]",
      "text/plain": [
       "<Figure size 1080x720 with 2 Axes>"
      ]
     },
     "metadata": {
      "needs_background": "light"
     },
     "output_type": "display_data"
    }
   ],
   "source": [
    "# Build correlation matrix\n",
    "corr_matrix = df.corr()\n",
    "plt.figure(figsize=(15, 10))\n",
    "sns.heatmap(corr_matrix, \n",
    "            annot=True, \n",
    "            linewidths=0.5, \n",
    "            fmt= \".2f\", \n",
    "            cmap='YlGnBu');"
   ]
  },
  {
   "cell_type": "markdown",
   "metadata": {},
   "source": [
    "It appears that target is the most positively correlated to the cp, thalach, and exang features.<br>\n",
    "Additionally, the target is the most negatively correlated to the exang, oldpeak, and ca features."
   ]
  },
  {
   "cell_type": "markdown",
   "metadata": {},
   "source": [
    "## 5. Modelling "
   ]
  },
  {
   "cell_type": "code",
   "execution_count": 19,
   "metadata": {},
   "outputs": [
    {
     "data": {
      "text/html": [
       "<div>\n",
       "<style scoped>\n",
       "    .dataframe tbody tr th:only-of-type {\n",
       "        vertical-align: middle;\n",
       "    }\n",
       "\n",
       "    .dataframe tbody tr th {\n",
       "        vertical-align: top;\n",
       "    }\n",
       "\n",
       "    .dataframe thead th {\n",
       "        text-align: right;\n",
       "    }\n",
       "</style>\n",
       "<table border=\"1\" class=\"dataframe\">\n",
       "  <thead>\n",
       "    <tr style=\"text-align: right;\">\n",
       "      <th></th>\n",
       "      <th>age</th>\n",
       "      <th>sex</th>\n",
       "      <th>cp</th>\n",
       "      <th>trestbps</th>\n",
       "      <th>chol</th>\n",
       "      <th>fbs</th>\n",
       "      <th>restecg</th>\n",
       "      <th>thalach</th>\n",
       "      <th>exang</th>\n",
       "      <th>oldpeak</th>\n",
       "      <th>slope</th>\n",
       "      <th>ca</th>\n",
       "      <th>thal</th>\n",
       "      <th>target</th>\n",
       "    </tr>\n",
       "  </thead>\n",
       "  <tbody>\n",
       "    <tr>\n",
       "      <th>0</th>\n",
       "      <td>63</td>\n",
       "      <td>1</td>\n",
       "      <td>3</td>\n",
       "      <td>145</td>\n",
       "      <td>233</td>\n",
       "      <td>1</td>\n",
       "      <td>0</td>\n",
       "      <td>150</td>\n",
       "      <td>0</td>\n",
       "      <td>2.3</td>\n",
       "      <td>0</td>\n",
       "      <td>0</td>\n",
       "      <td>1</td>\n",
       "      <td>1</td>\n",
       "    </tr>\n",
       "    <tr>\n",
       "      <th>1</th>\n",
       "      <td>37</td>\n",
       "      <td>1</td>\n",
       "      <td>2</td>\n",
       "      <td>130</td>\n",
       "      <td>250</td>\n",
       "      <td>0</td>\n",
       "      <td>1</td>\n",
       "      <td>187</td>\n",
       "      <td>0</td>\n",
       "      <td>3.5</td>\n",
       "      <td>0</td>\n",
       "      <td>0</td>\n",
       "      <td>2</td>\n",
       "      <td>1</td>\n",
       "    </tr>\n",
       "    <tr>\n",
       "      <th>2</th>\n",
       "      <td>41</td>\n",
       "      <td>0</td>\n",
       "      <td>1</td>\n",
       "      <td>130</td>\n",
       "      <td>204</td>\n",
       "      <td>0</td>\n",
       "      <td>0</td>\n",
       "      <td>172</td>\n",
       "      <td>0</td>\n",
       "      <td>1.4</td>\n",
       "      <td>2</td>\n",
       "      <td>0</td>\n",
       "      <td>2</td>\n",
       "      <td>1</td>\n",
       "    </tr>\n",
       "    <tr>\n",
       "      <th>3</th>\n",
       "      <td>56</td>\n",
       "      <td>1</td>\n",
       "      <td>1</td>\n",
       "      <td>120</td>\n",
       "      <td>236</td>\n",
       "      <td>0</td>\n",
       "      <td>1</td>\n",
       "      <td>178</td>\n",
       "      <td>0</td>\n",
       "      <td>0.8</td>\n",
       "      <td>2</td>\n",
       "      <td>0</td>\n",
       "      <td>2</td>\n",
       "      <td>1</td>\n",
       "    </tr>\n",
       "    <tr>\n",
       "      <th>4</th>\n",
       "      <td>57</td>\n",
       "      <td>0</td>\n",
       "      <td>0</td>\n",
       "      <td>120</td>\n",
       "      <td>354</td>\n",
       "      <td>0</td>\n",
       "      <td>1</td>\n",
       "      <td>163</td>\n",
       "      <td>1</td>\n",
       "      <td>0.6</td>\n",
       "      <td>2</td>\n",
       "      <td>0</td>\n",
       "      <td>2</td>\n",
       "      <td>1</td>\n",
       "    </tr>\n",
       "  </tbody>\n",
       "</table>\n",
       "</div>"
      ],
      "text/plain": [
       "   age  sex  cp  trestbps  chol  fbs  restecg  thalach  exang  oldpeak  slope  \\\n",
       "0   63    1   3       145   233    1        0      150      0      2.3      0   \n",
       "1   37    1   2       130   250    0        1      187      0      3.5      0   \n",
       "2   41    0   1       130   204    0        0      172      0      1.4      2   \n",
       "3   56    1   1       120   236    0        1      178      0      0.8      2   \n",
       "4   57    0   0       120   354    0        1      163      1      0.6      2   \n",
       "\n",
       "   ca  thal  target  \n",
       "0   0     1       1  \n",
       "1   0     2       1  \n",
       "2   0     2       1  \n",
       "3   0     2       1  \n",
       "4   0     2       1  "
      ]
     },
     "execution_count": 19,
     "metadata": {},
     "output_type": "execute_result"
    }
   ],
   "source": [
    "df.head()"
   ]
  },
  {
   "cell_type": "code",
   "execution_count": 20,
   "metadata": {},
   "outputs": [],
   "source": [
    "# Split data to x and y\n",
    "x = df.drop('target', axis=1)\n",
    "y = df.target.values"
   ]
  },
  {
   "cell_type": "code",
   "execution_count": 21,
   "metadata": {},
   "outputs": [
    {
     "data": {
      "text/html": [
       "<div>\n",
       "<style scoped>\n",
       "    .dataframe tbody tr th:only-of-type {\n",
       "        vertical-align: middle;\n",
       "    }\n",
       "\n",
       "    .dataframe tbody tr th {\n",
       "        vertical-align: top;\n",
       "    }\n",
       "\n",
       "    .dataframe thead th {\n",
       "        text-align: right;\n",
       "    }\n",
       "</style>\n",
       "<table border=\"1\" class=\"dataframe\">\n",
       "  <thead>\n",
       "    <tr style=\"text-align: right;\">\n",
       "      <th></th>\n",
       "      <th>age</th>\n",
       "      <th>sex</th>\n",
       "      <th>cp</th>\n",
       "      <th>trestbps</th>\n",
       "      <th>chol</th>\n",
       "      <th>fbs</th>\n",
       "      <th>restecg</th>\n",
       "      <th>thalach</th>\n",
       "      <th>exang</th>\n",
       "      <th>oldpeak</th>\n",
       "      <th>slope</th>\n",
       "      <th>ca</th>\n",
       "      <th>thal</th>\n",
       "    </tr>\n",
       "  </thead>\n",
       "  <tbody>\n",
       "    <tr>\n",
       "      <th>0</th>\n",
       "      <td>63</td>\n",
       "      <td>1</td>\n",
       "      <td>3</td>\n",
       "      <td>145</td>\n",
       "      <td>233</td>\n",
       "      <td>1</td>\n",
       "      <td>0</td>\n",
       "      <td>150</td>\n",
       "      <td>0</td>\n",
       "      <td>2.3</td>\n",
       "      <td>0</td>\n",
       "      <td>0</td>\n",
       "      <td>1</td>\n",
       "    </tr>\n",
       "    <tr>\n",
       "      <th>1</th>\n",
       "      <td>37</td>\n",
       "      <td>1</td>\n",
       "      <td>2</td>\n",
       "      <td>130</td>\n",
       "      <td>250</td>\n",
       "      <td>0</td>\n",
       "      <td>1</td>\n",
       "      <td>187</td>\n",
       "      <td>0</td>\n",
       "      <td>3.5</td>\n",
       "      <td>0</td>\n",
       "      <td>0</td>\n",
       "      <td>2</td>\n",
       "    </tr>\n",
       "    <tr>\n",
       "      <th>2</th>\n",
       "      <td>41</td>\n",
       "      <td>0</td>\n",
       "      <td>1</td>\n",
       "      <td>130</td>\n",
       "      <td>204</td>\n",
       "      <td>0</td>\n",
       "      <td>0</td>\n",
       "      <td>172</td>\n",
       "      <td>0</td>\n",
       "      <td>1.4</td>\n",
       "      <td>2</td>\n",
       "      <td>0</td>\n",
       "      <td>2</td>\n",
       "    </tr>\n",
       "    <tr>\n",
       "      <th>3</th>\n",
       "      <td>56</td>\n",
       "      <td>1</td>\n",
       "      <td>1</td>\n",
       "      <td>120</td>\n",
       "      <td>236</td>\n",
       "      <td>0</td>\n",
       "      <td>1</td>\n",
       "      <td>178</td>\n",
       "      <td>0</td>\n",
       "      <td>0.8</td>\n",
       "      <td>2</td>\n",
       "      <td>0</td>\n",
       "      <td>2</td>\n",
       "    </tr>\n",
       "    <tr>\n",
       "      <th>4</th>\n",
       "      <td>57</td>\n",
       "      <td>0</td>\n",
       "      <td>0</td>\n",
       "      <td>120</td>\n",
       "      <td>354</td>\n",
       "      <td>0</td>\n",
       "      <td>1</td>\n",
       "      <td>163</td>\n",
       "      <td>1</td>\n",
       "      <td>0.6</td>\n",
       "      <td>2</td>\n",
       "      <td>0</td>\n",
       "      <td>2</td>\n",
       "    </tr>\n",
       "  </tbody>\n",
       "</table>\n",
       "</div>"
      ],
      "text/plain": [
       "   age  sex  cp  trestbps  chol  fbs  restecg  thalach  exang  oldpeak  slope  \\\n",
       "0   63    1   3       145   233    1        0      150      0      2.3      0   \n",
       "1   37    1   2       130   250    0        1      187      0      3.5      0   \n",
       "2   41    0   1       130   204    0        0      172      0      1.4      2   \n",
       "3   56    1   1       120   236    0        1      178      0      0.8      2   \n",
       "4   57    0   0       120   354    0        1      163      1      0.6      2   \n",
       "\n",
       "   ca  thal  \n",
       "0   0     1  \n",
       "1   0     2  \n",
       "2   0     2  \n",
       "3   0     2  \n",
       "4   0     2  "
      ]
     },
     "execution_count": 21,
     "metadata": {},
     "output_type": "execute_result"
    }
   ],
   "source": [
    "x.head()"
   ]
  },
  {
   "cell_type": "code",
   "execution_count": 22,
   "metadata": {},
   "outputs": [
    {
     "data": {
      "text/plain": [
       "array([1, 1, 1, 1, 1, 1, 1, 1, 1, 1, 1, 1, 1, 1, 1, 1, 1, 1, 1, 1, 1, 1,\n",
       "       1, 1, 1, 1, 1, 1, 1, 1, 1, 1, 1, 1, 1, 1, 1, 1, 1, 1, 1, 1, 1, 1,\n",
       "       1, 1, 1, 1, 1, 1, 1, 1, 1, 1, 1, 1, 1, 1, 1, 1, 1, 1, 1, 1, 1, 1,\n",
       "       1, 1, 1, 1, 1, 1, 1, 1, 1, 1, 1, 1, 1, 1, 1, 1, 1, 1, 1, 1, 1, 1,\n",
       "       1, 1, 1, 1, 1, 1, 1, 1, 1, 1, 1, 1, 1, 1, 1, 1, 1, 1, 1, 1, 1, 1,\n",
       "       1, 1, 1, 1, 1, 1, 1, 1, 1, 1, 1, 1, 1, 1, 1, 1, 1, 1, 1, 1, 1, 1,\n",
       "       1, 1, 1, 1, 1, 1, 1, 1, 1, 1, 1, 1, 1, 1, 1, 1, 1, 1, 1, 1, 1, 1,\n",
       "       1, 1, 1, 1, 1, 1, 1, 1, 1, 1, 1, 0, 0, 0, 0, 0, 0, 0, 0, 0, 0, 0,\n",
       "       0, 0, 0, 0, 0, 0, 0, 0, 0, 0, 0, 0, 0, 0, 0, 0, 0, 0, 0, 0, 0, 0,\n",
       "       0, 0, 0, 0, 0, 0, 0, 0, 0, 0, 0, 0, 0, 0, 0, 0, 0, 0, 0, 0, 0, 0,\n",
       "       0, 0, 0, 0, 0, 0, 0, 0, 0, 0, 0, 0, 0, 0, 0, 0, 0, 0, 0, 0, 0, 0,\n",
       "       0, 0, 0, 0, 0, 0, 0, 0, 0, 0, 0, 0, 0, 0, 0, 0, 0, 0, 0, 0, 0, 0,\n",
       "       0, 0, 0, 0, 0, 0, 0, 0, 0, 0, 0, 0, 0, 0, 0, 0, 0, 0, 0, 0, 0, 0,\n",
       "       0, 0, 0, 0, 0, 0, 0, 0, 0, 0, 0, 0, 0, 0, 0, 0, 0], dtype=int64)"
      ]
     },
     "execution_count": 22,
     "metadata": {},
     "output_type": "execute_result"
    }
   ],
   "source": [
    "y"
   ]
  },
  {
   "cell_type": "code",
   "execution_count": 23,
   "metadata": {},
   "outputs": [],
   "source": [
    "np.random.seed(42)\n",
    "\n",
    "# Split training and testing sets\n",
    "x_train, x_test, y_train, y_test = train_test_split(x, \n",
    "                                                    y, \n",
    "                                                    test_size = 0.2) "
   ]
  },
  {
   "cell_type": "code",
   "execution_count": 24,
   "metadata": {},
   "outputs": [
    {
     "data": {
      "text/html": [
       "<div>\n",
       "<style scoped>\n",
       "    .dataframe tbody tr th:only-of-type {\n",
       "        vertical-align: middle;\n",
       "    }\n",
       "\n",
       "    .dataframe tbody tr th {\n",
       "        vertical-align: top;\n",
       "    }\n",
       "\n",
       "    .dataframe thead th {\n",
       "        text-align: right;\n",
       "    }\n",
       "</style>\n",
       "<table border=\"1\" class=\"dataframe\">\n",
       "  <thead>\n",
       "    <tr style=\"text-align: right;\">\n",
       "      <th></th>\n",
       "      <th>age</th>\n",
       "      <th>sex</th>\n",
       "      <th>cp</th>\n",
       "      <th>trestbps</th>\n",
       "      <th>chol</th>\n",
       "      <th>fbs</th>\n",
       "      <th>restecg</th>\n",
       "      <th>thalach</th>\n",
       "      <th>exang</th>\n",
       "      <th>oldpeak</th>\n",
       "      <th>slope</th>\n",
       "      <th>ca</th>\n",
       "      <th>thal</th>\n",
       "    </tr>\n",
       "  </thead>\n",
       "  <tbody>\n",
       "    <tr>\n",
       "      <th>132</th>\n",
       "      <td>42</td>\n",
       "      <td>1</td>\n",
       "      <td>1</td>\n",
       "      <td>120</td>\n",
       "      <td>295</td>\n",
       "      <td>0</td>\n",
       "      <td>1</td>\n",
       "      <td>162</td>\n",
       "      <td>0</td>\n",
       "      <td>0.0</td>\n",
       "      <td>2</td>\n",
       "      <td>0</td>\n",
       "      <td>2</td>\n",
       "    </tr>\n",
       "    <tr>\n",
       "      <th>202</th>\n",
       "      <td>58</td>\n",
       "      <td>1</td>\n",
       "      <td>0</td>\n",
       "      <td>150</td>\n",
       "      <td>270</td>\n",
       "      <td>0</td>\n",
       "      <td>0</td>\n",
       "      <td>111</td>\n",
       "      <td>1</td>\n",
       "      <td>0.8</td>\n",
       "      <td>2</td>\n",
       "      <td>0</td>\n",
       "      <td>3</td>\n",
       "    </tr>\n",
       "    <tr>\n",
       "      <th>196</th>\n",
       "      <td>46</td>\n",
       "      <td>1</td>\n",
       "      <td>2</td>\n",
       "      <td>150</td>\n",
       "      <td>231</td>\n",
       "      <td>0</td>\n",
       "      <td>1</td>\n",
       "      <td>147</td>\n",
       "      <td>0</td>\n",
       "      <td>3.6</td>\n",
       "      <td>1</td>\n",
       "      <td>0</td>\n",
       "      <td>2</td>\n",
       "    </tr>\n",
       "    <tr>\n",
       "      <th>75</th>\n",
       "      <td>55</td>\n",
       "      <td>0</td>\n",
       "      <td>1</td>\n",
       "      <td>135</td>\n",
       "      <td>250</td>\n",
       "      <td>0</td>\n",
       "      <td>0</td>\n",
       "      <td>161</td>\n",
       "      <td>0</td>\n",
       "      <td>1.4</td>\n",
       "      <td>1</td>\n",
       "      <td>0</td>\n",
       "      <td>2</td>\n",
       "    </tr>\n",
       "    <tr>\n",
       "      <th>176</th>\n",
       "      <td>60</td>\n",
       "      <td>1</td>\n",
       "      <td>0</td>\n",
       "      <td>117</td>\n",
       "      <td>230</td>\n",
       "      <td>1</td>\n",
       "      <td>1</td>\n",
       "      <td>160</td>\n",
       "      <td>1</td>\n",
       "      <td>1.4</td>\n",
       "      <td>2</td>\n",
       "      <td>2</td>\n",
       "      <td>3</td>\n",
       "    </tr>\n",
       "    <tr>\n",
       "      <th>...</th>\n",
       "      <td>...</td>\n",
       "      <td>...</td>\n",
       "      <td>...</td>\n",
       "      <td>...</td>\n",
       "      <td>...</td>\n",
       "      <td>...</td>\n",
       "      <td>...</td>\n",
       "      <td>...</td>\n",
       "      <td>...</td>\n",
       "      <td>...</td>\n",
       "      <td>...</td>\n",
       "      <td>...</td>\n",
       "      <td>...</td>\n",
       "    </tr>\n",
       "    <tr>\n",
       "      <th>188</th>\n",
       "      <td>50</td>\n",
       "      <td>1</td>\n",
       "      <td>2</td>\n",
       "      <td>140</td>\n",
       "      <td>233</td>\n",
       "      <td>0</td>\n",
       "      <td>1</td>\n",
       "      <td>163</td>\n",
       "      <td>0</td>\n",
       "      <td>0.6</td>\n",
       "      <td>1</td>\n",
       "      <td>1</td>\n",
       "      <td>3</td>\n",
       "    </tr>\n",
       "    <tr>\n",
       "      <th>71</th>\n",
       "      <td>51</td>\n",
       "      <td>1</td>\n",
       "      <td>2</td>\n",
       "      <td>94</td>\n",
       "      <td>227</td>\n",
       "      <td>0</td>\n",
       "      <td>1</td>\n",
       "      <td>154</td>\n",
       "      <td>1</td>\n",
       "      <td>0.0</td>\n",
       "      <td>2</td>\n",
       "      <td>1</td>\n",
       "      <td>3</td>\n",
       "    </tr>\n",
       "    <tr>\n",
       "      <th>106</th>\n",
       "      <td>69</td>\n",
       "      <td>1</td>\n",
       "      <td>3</td>\n",
       "      <td>160</td>\n",
       "      <td>234</td>\n",
       "      <td>1</td>\n",
       "      <td>0</td>\n",
       "      <td>131</td>\n",
       "      <td>0</td>\n",
       "      <td>0.1</td>\n",
       "      <td>1</td>\n",
       "      <td>1</td>\n",
       "      <td>2</td>\n",
       "    </tr>\n",
       "    <tr>\n",
       "      <th>270</th>\n",
       "      <td>46</td>\n",
       "      <td>1</td>\n",
       "      <td>0</td>\n",
       "      <td>120</td>\n",
       "      <td>249</td>\n",
       "      <td>0</td>\n",
       "      <td>0</td>\n",
       "      <td>144</td>\n",
       "      <td>0</td>\n",
       "      <td>0.8</td>\n",
       "      <td>2</td>\n",
       "      <td>0</td>\n",
       "      <td>3</td>\n",
       "    </tr>\n",
       "    <tr>\n",
       "      <th>102</th>\n",
       "      <td>63</td>\n",
       "      <td>0</td>\n",
       "      <td>1</td>\n",
       "      <td>140</td>\n",
       "      <td>195</td>\n",
       "      <td>0</td>\n",
       "      <td>1</td>\n",
       "      <td>179</td>\n",
       "      <td>0</td>\n",
       "      <td>0.0</td>\n",
       "      <td>2</td>\n",
       "      <td>2</td>\n",
       "      <td>2</td>\n",
       "    </tr>\n",
       "  </tbody>\n",
       "</table>\n",
       "<p>242 rows × 13 columns</p>\n",
       "</div>"
      ],
      "text/plain": [
       "     age  sex  cp  trestbps  chol  fbs  restecg  thalach  exang  oldpeak  \\\n",
       "132   42    1   1       120   295    0        1      162      0      0.0   \n",
       "202   58    1   0       150   270    0        0      111      1      0.8   \n",
       "196   46    1   2       150   231    0        1      147      0      3.6   \n",
       "75    55    0   1       135   250    0        0      161      0      1.4   \n",
       "176   60    1   0       117   230    1        1      160      1      1.4   \n",
       "..   ...  ...  ..       ...   ...  ...      ...      ...    ...      ...   \n",
       "188   50    1   2       140   233    0        1      163      0      0.6   \n",
       "71    51    1   2        94   227    0        1      154      1      0.0   \n",
       "106   69    1   3       160   234    1        0      131      0      0.1   \n",
       "270   46    1   0       120   249    0        0      144      0      0.8   \n",
       "102   63    0   1       140   195    0        1      179      0      0.0   \n",
       "\n",
       "     slope  ca  thal  \n",
       "132      2   0     2  \n",
       "202      2   0     3  \n",
       "196      1   0     2  \n",
       "75       1   0     2  \n",
       "176      2   2     3  \n",
       "..     ...  ..   ...  \n",
       "188      1   1     3  \n",
       "71       2   1     3  \n",
       "106      1   1     2  \n",
       "270      2   0     3  \n",
       "102      2   2     2  \n",
       "\n",
       "[242 rows x 13 columns]"
      ]
     },
     "execution_count": 24,
     "metadata": {},
     "output_type": "execute_result"
    }
   ],
   "source": [
    "x_train"
   ]
  },
  {
   "cell_type": "code",
   "execution_count": 25,
   "metadata": {},
   "outputs": [
    {
     "data": {
      "text/plain": [
       "(array([1, 0, 0, 1, 0, 1, 1, 1, 0, 1, 1, 0, 1, 0, 1, 0, 0, 0, 1, 1, 0, 1,\n",
       "        1, 1, 0, 0, 1, 1, 1, 1, 1, 1, 1, 1, 1, 1, 1, 1, 0, 1, 1, 1, 0, 0,\n",
       "        1, 1, 1, 1, 0, 1, 0, 0, 1, 0, 1, 0, 1, 1, 0, 0, 0, 0, 0, 0, 0, 1,\n",
       "        0, 0, 0, 1, 1, 0, 0, 1, 1, 0, 1, 0, 0, 0, 0, 0, 1, 1, 1, 0, 1, 0,\n",
       "        0, 1, 1, 1, 1, 0, 1, 1, 0, 1, 0, 0, 1, 0, 1, 0, 1, 1, 1, 1, 1, 0,\n",
       "        1, 0, 1, 1, 0, 0, 1, 1, 0, 1, 1, 0, 1, 0, 1, 0, 0, 1, 0, 1, 0, 1,\n",
       "        1, 1, 1, 0, 0, 0, 1, 0, 0, 0, 1, 0, 1, 1, 1, 0, 1, 0, 0, 1, 1, 1,\n",
       "        1, 0, 1, 1, 0, 1, 1, 0, 1, 1, 1, 0, 0, 1, 1, 0, 1, 1, 0, 0, 1, 0,\n",
       "        0, 0, 0, 1, 1, 1, 0, 0, 0, 0, 1, 1, 0, 1, 0, 0, 0, 1, 1, 1, 1, 1,\n",
       "        1, 0, 1, 1, 1, 0, 0, 1, 1, 0, 0, 1, 0, 0, 1, 1, 0, 0, 0, 0, 0, 1,\n",
       "        1, 0, 0, 1, 1, 0, 0, 0, 1, 1, 1, 1, 1, 0, 1, 0, 1, 0, 1, 1, 0, 1],\n",
       "       dtype=int64),\n",
       " 242)"
      ]
     },
     "execution_count": 25,
     "metadata": {},
     "output_type": "execute_result"
    }
   ],
   "source": [
    "y_train, len(y_train)"
   ]
  },
  {
   "cell_type": "code",
   "execution_count": 26,
   "metadata": {},
   "outputs": [
    {
     "data": {
      "text/html": [
       "<div>\n",
       "<style scoped>\n",
       "    .dataframe tbody tr th:only-of-type {\n",
       "        vertical-align: middle;\n",
       "    }\n",
       "\n",
       "    .dataframe tbody tr th {\n",
       "        vertical-align: top;\n",
       "    }\n",
       "\n",
       "    .dataframe thead th {\n",
       "        text-align: right;\n",
       "    }\n",
       "</style>\n",
       "<table border=\"1\" class=\"dataframe\">\n",
       "  <thead>\n",
       "    <tr style=\"text-align: right;\">\n",
       "      <th></th>\n",
       "      <th>age</th>\n",
       "      <th>sex</th>\n",
       "      <th>cp</th>\n",
       "      <th>trestbps</th>\n",
       "      <th>chol</th>\n",
       "      <th>fbs</th>\n",
       "      <th>restecg</th>\n",
       "      <th>thalach</th>\n",
       "      <th>exang</th>\n",
       "      <th>oldpeak</th>\n",
       "      <th>slope</th>\n",
       "      <th>ca</th>\n",
       "      <th>thal</th>\n",
       "    </tr>\n",
       "  </thead>\n",
       "  <tbody>\n",
       "    <tr>\n",
       "      <th>179</th>\n",
       "      <td>57</td>\n",
       "      <td>1</td>\n",
       "      <td>0</td>\n",
       "      <td>150</td>\n",
       "      <td>276</td>\n",
       "      <td>0</td>\n",
       "      <td>0</td>\n",
       "      <td>112</td>\n",
       "      <td>1</td>\n",
       "      <td>0.6</td>\n",
       "      <td>1</td>\n",
       "      <td>1</td>\n",
       "      <td>1</td>\n",
       "    </tr>\n",
       "    <tr>\n",
       "      <th>228</th>\n",
       "      <td>59</td>\n",
       "      <td>1</td>\n",
       "      <td>3</td>\n",
       "      <td>170</td>\n",
       "      <td>288</td>\n",
       "      <td>0</td>\n",
       "      <td>0</td>\n",
       "      <td>159</td>\n",
       "      <td>0</td>\n",
       "      <td>0.2</td>\n",
       "      <td>1</td>\n",
       "      <td>0</td>\n",
       "      <td>3</td>\n",
       "    </tr>\n",
       "    <tr>\n",
       "      <th>111</th>\n",
       "      <td>57</td>\n",
       "      <td>1</td>\n",
       "      <td>2</td>\n",
       "      <td>150</td>\n",
       "      <td>126</td>\n",
       "      <td>1</td>\n",
       "      <td>1</td>\n",
       "      <td>173</td>\n",
       "      <td>0</td>\n",
       "      <td>0.2</td>\n",
       "      <td>2</td>\n",
       "      <td>1</td>\n",
       "      <td>3</td>\n",
       "    </tr>\n",
       "    <tr>\n",
       "      <th>246</th>\n",
       "      <td>56</td>\n",
       "      <td>0</td>\n",
       "      <td>0</td>\n",
       "      <td>134</td>\n",
       "      <td>409</td>\n",
       "      <td>0</td>\n",
       "      <td>0</td>\n",
       "      <td>150</td>\n",
       "      <td>1</td>\n",
       "      <td>1.9</td>\n",
       "      <td>1</td>\n",
       "      <td>2</td>\n",
       "      <td>3</td>\n",
       "    </tr>\n",
       "    <tr>\n",
       "      <th>60</th>\n",
       "      <td>71</td>\n",
       "      <td>0</td>\n",
       "      <td>2</td>\n",
       "      <td>110</td>\n",
       "      <td>265</td>\n",
       "      <td>1</td>\n",
       "      <td>0</td>\n",
       "      <td>130</td>\n",
       "      <td>0</td>\n",
       "      <td>0.0</td>\n",
       "      <td>2</td>\n",
       "      <td>1</td>\n",
       "      <td>2</td>\n",
       "    </tr>\n",
       "    <tr>\n",
       "      <th>...</th>\n",
       "      <td>...</td>\n",
       "      <td>...</td>\n",
       "      <td>...</td>\n",
       "      <td>...</td>\n",
       "      <td>...</td>\n",
       "      <td>...</td>\n",
       "      <td>...</td>\n",
       "      <td>...</td>\n",
       "      <td>...</td>\n",
       "      <td>...</td>\n",
       "      <td>...</td>\n",
       "      <td>...</td>\n",
       "      <td>...</td>\n",
       "    </tr>\n",
       "    <tr>\n",
       "      <th>249</th>\n",
       "      <td>69</td>\n",
       "      <td>1</td>\n",
       "      <td>2</td>\n",
       "      <td>140</td>\n",
       "      <td>254</td>\n",
       "      <td>0</td>\n",
       "      <td>0</td>\n",
       "      <td>146</td>\n",
       "      <td>0</td>\n",
       "      <td>2.0</td>\n",
       "      <td>1</td>\n",
       "      <td>3</td>\n",
       "      <td>3</td>\n",
       "    </tr>\n",
       "    <tr>\n",
       "      <th>104</th>\n",
       "      <td>50</td>\n",
       "      <td>1</td>\n",
       "      <td>2</td>\n",
       "      <td>129</td>\n",
       "      <td>196</td>\n",
       "      <td>0</td>\n",
       "      <td>1</td>\n",
       "      <td>163</td>\n",
       "      <td>0</td>\n",
       "      <td>0.0</td>\n",
       "      <td>2</td>\n",
       "      <td>0</td>\n",
       "      <td>2</td>\n",
       "    </tr>\n",
       "    <tr>\n",
       "      <th>300</th>\n",
       "      <td>68</td>\n",
       "      <td>1</td>\n",
       "      <td>0</td>\n",
       "      <td>144</td>\n",
       "      <td>193</td>\n",
       "      <td>1</td>\n",
       "      <td>1</td>\n",
       "      <td>141</td>\n",
       "      <td>0</td>\n",
       "      <td>3.4</td>\n",
       "      <td>1</td>\n",
       "      <td>2</td>\n",
       "      <td>3</td>\n",
       "    </tr>\n",
       "    <tr>\n",
       "      <th>193</th>\n",
       "      <td>60</td>\n",
       "      <td>1</td>\n",
       "      <td>0</td>\n",
       "      <td>145</td>\n",
       "      <td>282</td>\n",
       "      <td>0</td>\n",
       "      <td>0</td>\n",
       "      <td>142</td>\n",
       "      <td>1</td>\n",
       "      <td>2.8</td>\n",
       "      <td>1</td>\n",
       "      <td>2</td>\n",
       "      <td>3</td>\n",
       "    </tr>\n",
       "    <tr>\n",
       "      <th>184</th>\n",
       "      <td>50</td>\n",
       "      <td>1</td>\n",
       "      <td>0</td>\n",
       "      <td>150</td>\n",
       "      <td>243</td>\n",
       "      <td>0</td>\n",
       "      <td>0</td>\n",
       "      <td>128</td>\n",
       "      <td>0</td>\n",
       "      <td>2.6</td>\n",
       "      <td>1</td>\n",
       "      <td>0</td>\n",
       "      <td>3</td>\n",
       "    </tr>\n",
       "  </tbody>\n",
       "</table>\n",
       "<p>61 rows × 13 columns</p>\n",
       "</div>"
      ],
      "text/plain": [
       "     age  sex  cp  trestbps  chol  fbs  restecg  thalach  exang  oldpeak  \\\n",
       "179   57    1   0       150   276    0        0      112      1      0.6   \n",
       "228   59    1   3       170   288    0        0      159      0      0.2   \n",
       "111   57    1   2       150   126    1        1      173      0      0.2   \n",
       "246   56    0   0       134   409    0        0      150      1      1.9   \n",
       "60    71    0   2       110   265    1        0      130      0      0.0   \n",
       "..   ...  ...  ..       ...   ...  ...      ...      ...    ...      ...   \n",
       "249   69    1   2       140   254    0        0      146      0      2.0   \n",
       "104   50    1   2       129   196    0        1      163      0      0.0   \n",
       "300   68    1   0       144   193    1        1      141      0      3.4   \n",
       "193   60    1   0       145   282    0        0      142      1      2.8   \n",
       "184   50    1   0       150   243    0        0      128      0      2.6   \n",
       "\n",
       "     slope  ca  thal  \n",
       "179      1   1     1  \n",
       "228      1   0     3  \n",
       "111      2   1     3  \n",
       "246      1   2     3  \n",
       "60       2   1     2  \n",
       "..     ...  ..   ...  \n",
       "249      1   3     3  \n",
       "104      2   0     2  \n",
       "300      1   2     3  \n",
       "193      1   2     3  \n",
       "184      1   0     3  \n",
       "\n",
       "[61 rows x 13 columns]"
      ]
     },
     "execution_count": 26,
     "metadata": {},
     "output_type": "execute_result"
    }
   ],
   "source": [
    "x_test"
   ]
  },
  {
   "cell_type": "code",
   "execution_count": 27,
   "metadata": {},
   "outputs": [
    {
     "data": {
      "text/plain": [
       "(array([0, 0, 1, 0, 1, 1, 1, 0, 0, 1, 1, 1, 1, 0, 1, 1, 1, 0, 0, 0, 1, 0,\n",
       "        0, 1, 1, 0, 0, 1, 0, 1, 1, 0, 0, 1, 1, 0, 1, 1, 1, 1, 1, 1, 1, 1,\n",
       "        1, 0, 0, 1, 0, 0, 0, 0, 1, 1, 0, 0, 0, 1, 0, 0, 0], dtype=int64),\n",
       " 61)"
      ]
     },
     "execution_count": 27,
     "metadata": {},
     "output_type": "execute_result"
    }
   ],
   "source": [
    "y_test, len(y_test)"
   ]
  },
  {
   "cell_type": "markdown",
   "metadata": {},
   "source": [
    "### Potential models\n",
    "According to the [Scikit-Learn algorithm cheat sheet](https://scikit-learn.org/stable/tutorial/machine_learning_map/index.html), as well as various other sources from the internet, the models that will be experimented on for this classification problem are:\n",
    "1. `LinearSVC`\n",
    "2. `K-Nearest Neighbors`\n",
    "3. `RandomForest` \n",
    "4. `Logistic Regression`\n",
    "5. `CatBoost`"
   ]
  },
  {
   "cell_type": "code",
   "execution_count": 28,
   "metadata": {},
   "outputs": [],
   "source": [
    "# Put models in dictionary\n",
    "models = {'LinearSVC': svm.SVC(), \n",
    "          'KNN': KNeighborsClassifier(), \n",
    "          'Random Forest': RandomForestClassifier(),\n",
    "          'Logistic Regression': LogisticRegression(),\n",
    "          'CatBoost': CatBoostClassifier(),\n",
    "         }\n",
    "\n",
    "# Create function to fit and score models\n",
    "def fit_and_score(models, x_train, x_test, y_train, y_test):\n",
    "    \"\"\"\n",
    "    This function fits and evaluates machine learning models passed in as a parameter\n",
    "    \"\"\"\n",
    "    np.random.seed(42)\n",
    "    \n",
    "    model_scores = {}\n",
    "    \n",
    "    # Iterate through models - fit them to the data and evaluate the model\n",
    "    for name, model in models.items():\n",
    "        model.fit(x_train, y_train)\n",
    "        model_scores[name] = model.score(x_test, y_test)\n",
    "        \n",
    "    return model_scores"
   ]
  },
  {
   "cell_type": "code",
   "execution_count": 29,
   "metadata": {},
   "outputs": [
    {
     "name": "stderr",
     "output_type": "stream",
     "text": [
      "C:\\Users\\Tyler\\Desktop\\machine-learning\\heart-disease-project\\env\\lib\\site-packages\\sklearn\\linear_model\\_logistic.py:938: ConvergenceWarning: lbfgs failed to converge (status=1):\n",
      "STOP: TOTAL NO. of ITERATIONS REACHED LIMIT.\n",
      "\n",
      "Increase the number of iterations (max_iter) or scale the data as shown in:\n",
      "    https://scikit-learn.org/stable/modules/preprocessing.html\n",
      "Please also refer to the documentation for alternative solver options:\n",
      "    https://scikit-learn.org/stable/modules/linear_model.html#logistic-regression\n",
      "  n_iter_i = _check_optimize_result(\n"
     ]
    },
    {
     "name": "stdout",
     "output_type": "stream",
     "text": [
      "Learning rate set to 0.005621\n",
      "0:\tlearn: 0.6884219\ttotal: 54.4ms\tremaining: 54.3s\n",
      "1:\tlearn: 0.6846992\ttotal: 56.2ms\tremaining: 28.1s\n",
      "2:\tlearn: 0.6804482\ttotal: 57.7ms\tremaining: 19.2s\n",
      "3:\tlearn: 0.6762280\ttotal: 59.1ms\tremaining: 14.7s\n",
      "4:\tlearn: 0.6716854\ttotal: 60.4ms\tremaining: 12s\n",
      "5:\tlearn: 0.6672902\ttotal: 62.2ms\tremaining: 10.3s\n",
      "6:\tlearn: 0.6640072\ttotal: 64.1ms\tremaining: 9.09s\n",
      "7:\tlearn: 0.6602127\ttotal: 65.5ms\tremaining: 8.12s\n",
      "8:\tlearn: 0.6563948\ttotal: 67.7ms\tremaining: 7.46s\n",
      "9:\tlearn: 0.6525316\ttotal: 69.2ms\tremaining: 6.85s\n",
      "10:\tlearn: 0.6483925\ttotal: 70.4ms\tremaining: 6.33s\n",
      "11:\tlearn: 0.6449119\ttotal: 72.2ms\tremaining: 5.95s\n",
      "12:\tlearn: 0.6413090\ttotal: 73.7ms\tremaining: 5.6s\n",
      "13:\tlearn: 0.6374641\ttotal: 75.4ms\tremaining: 5.31s\n",
      "14:\tlearn: 0.6335822\ttotal: 76.8ms\tremaining: 5.04s\n",
      "15:\tlearn: 0.6288496\ttotal: 78.3ms\tremaining: 4.82s\n",
      "16:\tlearn: 0.6250951\ttotal: 80.6ms\tremaining: 4.66s\n",
      "17:\tlearn: 0.6209988\ttotal: 82.2ms\tremaining: 4.48s\n",
      "18:\tlearn: 0.6182407\ttotal: 83.5ms\tremaining: 4.31s\n",
      "19:\tlearn: 0.6146885\ttotal: 84.8ms\tremaining: 4.15s\n",
      "20:\tlearn: 0.6112580\ttotal: 86.1ms\tremaining: 4.01s\n",
      "21:\tlearn: 0.6082727\ttotal: 87.6ms\tremaining: 3.9s\n",
      "22:\tlearn: 0.6042493\ttotal: 89.3ms\tremaining: 3.79s\n",
      "23:\tlearn: 0.6012802\ttotal: 91.6ms\tremaining: 3.73s\n",
      "24:\tlearn: 0.5972361\ttotal: 93ms\tremaining: 3.63s\n",
      "25:\tlearn: 0.5939734\ttotal: 94.3ms\tremaining: 3.53s\n",
      "26:\tlearn: 0.5906674\ttotal: 95.6ms\tremaining: 3.45s\n",
      "27:\tlearn: 0.5868390\ttotal: 97.5ms\tremaining: 3.38s\n",
      "28:\tlearn: 0.5834556\ttotal: 99.1ms\tremaining: 3.32s\n",
      "29:\tlearn: 0.5798316\ttotal: 100ms\tremaining: 3.25s\n",
      "30:\tlearn: 0.5777257\ttotal: 102ms\tremaining: 3.2s\n",
      "31:\tlearn: 0.5752542\ttotal: 105ms\tremaining: 3.16s\n",
      "32:\tlearn: 0.5724875\ttotal: 106ms\tremaining: 3.1s\n",
      "33:\tlearn: 0.5708036\ttotal: 107ms\tremaining: 3.04s\n",
      "34:\tlearn: 0.5674613\ttotal: 108ms\tremaining: 2.99s\n",
      "35:\tlearn: 0.5642878\ttotal: 110ms\tremaining: 2.95s\n",
      "36:\tlearn: 0.5622347\ttotal: 112ms\tremaining: 2.91s\n",
      "37:\tlearn: 0.5606506\ttotal: 113ms\tremaining: 2.86s\n",
      "38:\tlearn: 0.5581801\ttotal: 115ms\tremaining: 2.83s\n",
      "39:\tlearn: 0.5555523\ttotal: 116ms\tremaining: 2.79s\n",
      "40:\tlearn: 0.5527688\ttotal: 118ms\tremaining: 2.75s\n",
      "41:\tlearn: 0.5511804\ttotal: 119ms\tremaining: 2.71s\n",
      "42:\tlearn: 0.5483321\ttotal: 120ms\tremaining: 2.68s\n",
      "43:\tlearn: 0.5453617\ttotal: 122ms\tremaining: 2.65s\n",
      "44:\tlearn: 0.5425260\ttotal: 123ms\tremaining: 2.62s\n",
      "45:\tlearn: 0.5395272\ttotal: 125ms\tremaining: 2.59s\n",
      "46:\tlearn: 0.5371047\ttotal: 127ms\tremaining: 2.57s\n",
      "47:\tlearn: 0.5351085\ttotal: 128ms\tremaining: 2.54s\n",
      "48:\tlearn: 0.5324767\ttotal: 130ms\tremaining: 2.52s\n",
      "49:\tlearn: 0.5300801\ttotal: 132ms\tremaining: 2.5s\n",
      "50:\tlearn: 0.5274837\ttotal: 133ms\tremaining: 2.48s\n",
      "51:\tlearn: 0.5256513\ttotal: 135ms\tremaining: 2.46s\n",
      "52:\tlearn: 0.5227075\ttotal: 137ms\tremaining: 2.45s\n",
      "53:\tlearn: 0.5202730\ttotal: 139ms\tremaining: 2.43s\n",
      "54:\tlearn: 0.5175202\ttotal: 140ms\tremaining: 2.41s\n",
      "55:\tlearn: 0.5151113\ttotal: 142ms\tremaining: 2.39s\n",
      "56:\tlearn: 0.5130912\ttotal: 144ms\tremaining: 2.38s\n",
      "57:\tlearn: 0.5106161\ttotal: 145ms\tremaining: 2.35s\n",
      "58:\tlearn: 0.5084038\ttotal: 147ms\tremaining: 2.35s\n",
      "59:\tlearn: 0.5064813\ttotal: 150ms\tremaining: 2.35s\n",
      "60:\tlearn: 0.5038737\ttotal: 151ms\tremaining: 2.33s\n",
      "61:\tlearn: 0.5018474\ttotal: 153ms\tremaining: 2.31s\n",
      "62:\tlearn: 0.4992070\ttotal: 155ms\tremaining: 2.3s\n",
      "63:\tlearn: 0.4967694\ttotal: 157ms\tremaining: 2.3s\n",
      "64:\tlearn: 0.4944956\ttotal: 160ms\tremaining: 2.3s\n",
      "65:\tlearn: 0.4919413\ttotal: 162ms\tremaining: 2.29s\n",
      "66:\tlearn: 0.4897338\ttotal: 163ms\tremaining: 2.27s\n",
      "67:\tlearn: 0.4874804\ttotal: 165ms\tremaining: 2.26s\n",
      "68:\tlearn: 0.4857090\ttotal: 166ms\tremaining: 2.24s\n",
      "69:\tlearn: 0.4834018\ttotal: 167ms\tremaining: 2.22s\n",
      "70:\tlearn: 0.4817313\ttotal: 168ms\tremaining: 2.2s\n",
      "71:\tlearn: 0.4797357\ttotal: 170ms\tremaining: 2.19s\n",
      "72:\tlearn: 0.4783886\ttotal: 171ms\tremaining: 2.17s\n",
      "73:\tlearn: 0.4768170\ttotal: 172ms\tremaining: 2.16s\n",
      "74:\tlearn: 0.4746734\ttotal: 174ms\tremaining: 2.14s\n",
      "75:\tlearn: 0.4730601\ttotal: 175ms\tremaining: 2.13s\n",
      "76:\tlearn: 0.4707788\ttotal: 176ms\tremaining: 2.12s\n",
      "77:\tlearn: 0.4690917\ttotal: 178ms\tremaining: 2.1s\n",
      "78:\tlearn: 0.4666240\ttotal: 180ms\tremaining: 2.09s\n",
      "79:\tlearn: 0.4646559\ttotal: 181ms\tremaining: 2.08s\n",
      "80:\tlearn: 0.4625645\ttotal: 183ms\tremaining: 2.08s\n",
      "81:\tlearn: 0.4606513\ttotal: 185ms\tremaining: 2.07s\n",
      "82:\tlearn: 0.4587257\ttotal: 186ms\tremaining: 2.06s\n",
      "83:\tlearn: 0.4576947\ttotal: 187ms\tremaining: 2.04s\n",
      "84:\tlearn: 0.4564413\ttotal: 189ms\tremaining: 2.03s\n",
      "85:\tlearn: 0.4547546\ttotal: 191ms\tremaining: 2.03s\n",
      "86:\tlearn: 0.4528300\ttotal: 194ms\tremaining: 2.04s\n",
      "87:\tlearn: 0.4517657\ttotal: 195ms\tremaining: 2.02s\n",
      "88:\tlearn: 0.4502896\ttotal: 197ms\tremaining: 2.01s\n",
      "89:\tlearn: 0.4486835\ttotal: 198ms\tremaining: 2s\n",
      "90:\tlearn: 0.4472739\ttotal: 199ms\tremaining: 1.99s\n",
      "91:\tlearn: 0.4455104\ttotal: 201ms\tremaining: 1.98s\n",
      "92:\tlearn: 0.4438941\ttotal: 203ms\tremaining: 1.98s\n",
      "93:\tlearn: 0.4431257\ttotal: 204ms\tremaining: 1.97s\n",
      "94:\tlearn: 0.4413653\ttotal: 206ms\tremaining: 1.96s\n",
      "95:\tlearn: 0.4395945\ttotal: 207ms\tremaining: 1.95s\n",
      "96:\tlearn: 0.4378532\ttotal: 209ms\tremaining: 1.94s\n",
      "97:\tlearn: 0.4359042\ttotal: 210ms\tremaining: 1.93s\n",
      "98:\tlearn: 0.4342829\ttotal: 212ms\tremaining: 1.93s\n",
      "99:\tlearn: 0.4332133\ttotal: 213ms\tremaining: 1.92s\n",
      "100:\tlearn: 0.4314809\ttotal: 215ms\tremaining: 1.91s\n",
      "101:\tlearn: 0.4307406\ttotal: 216ms\tremaining: 1.9s\n",
      "102:\tlearn: 0.4293018\ttotal: 217ms\tremaining: 1.89s\n",
      "103:\tlearn: 0.4278951\ttotal: 219ms\tremaining: 1.88s\n",
      "104:\tlearn: 0.4265759\ttotal: 220ms\tremaining: 1.88s\n",
      "105:\tlearn: 0.4251059\ttotal: 222ms\tremaining: 1.87s\n",
      "106:\tlearn: 0.4239925\ttotal: 224ms\tremaining: 1.87s\n",
      "107:\tlearn: 0.4222699\ttotal: 226ms\tremaining: 1.86s\n",
      "108:\tlearn: 0.4211667\ttotal: 227ms\tremaining: 1.85s\n",
      "109:\tlearn: 0.4202248\ttotal: 229ms\tremaining: 1.85s\n",
      "110:\tlearn: 0.4198594\ttotal: 230ms\tremaining: 1.84s\n",
      "111:\tlearn: 0.4179838\ttotal: 231ms\tremaining: 1.83s\n",
      "112:\tlearn: 0.4159945\ttotal: 233ms\tremaining: 1.83s\n",
      "113:\tlearn: 0.4142427\ttotal: 235ms\tremaining: 1.83s\n",
      "114:\tlearn: 0.4124179\ttotal: 237ms\tremaining: 1.82s\n",
      "115:\tlearn: 0.4109907\ttotal: 238ms\tremaining: 1.81s\n",
      "116:\tlearn: 0.4095346\ttotal: 239ms\tremaining: 1.81s\n",
      "117:\tlearn: 0.4084236\ttotal: 241ms\tremaining: 1.8s\n",
      "118:\tlearn: 0.4070921\ttotal: 242ms\tremaining: 1.79s\n",
      "119:\tlearn: 0.4057320\ttotal: 243ms\tremaining: 1.78s\n",
      "120:\tlearn: 0.4042910\ttotal: 246ms\tremaining: 1.79s\n",
      "121:\tlearn: 0.4026004\ttotal: 248ms\tremaining: 1.78s\n",
      "122:\tlearn: 0.4014355\ttotal: 249ms\tremaining: 1.78s\n",
      "123:\tlearn: 0.3998864\ttotal: 251ms\tremaining: 1.77s\n",
      "124:\tlearn: 0.3987020\ttotal: 253ms\tremaining: 1.77s\n",
      "125:\tlearn: 0.3984041\ttotal: 253ms\tremaining: 1.76s\n",
      "126:\tlearn: 0.3974049\ttotal: 255ms\tremaining: 1.75s\n",
      "127:\tlearn: 0.3964408\ttotal: 258ms\tremaining: 1.75s\n",
      "128:\tlearn: 0.3952997\ttotal: 259ms\tremaining: 1.75s\n",
      "129:\tlearn: 0.3935080\ttotal: 260ms\tremaining: 1.74s\n",
      "130:\tlearn: 0.3919582\ttotal: 262ms\tremaining: 1.74s\n",
      "131:\tlearn: 0.3903310\ttotal: 263ms\tremaining: 1.73s\n",
      "132:\tlearn: 0.3890571\ttotal: 265ms\tremaining: 1.72s\n",
      "133:\tlearn: 0.3881705\ttotal: 266ms\tremaining: 1.72s\n",
      "134:\tlearn: 0.3873128\ttotal: 269ms\tremaining: 1.72s\n",
      "135:\tlearn: 0.3861936\ttotal: 270ms\tremaining: 1.72s\n",
      "136:\tlearn: 0.3849629\ttotal: 272ms\tremaining: 1.71s\n",
      "137:\tlearn: 0.3838819\ttotal: 273ms\tremaining: 1.71s\n",
      "138:\tlearn: 0.3829926\ttotal: 274ms\tremaining: 1.7s\n",
      "139:\tlearn: 0.3817218\ttotal: 276ms\tremaining: 1.69s\n",
      "140:\tlearn: 0.3802766\ttotal: 277ms\tremaining: 1.69s\n",
      "141:\tlearn: 0.3790059\ttotal: 279ms\tremaining: 1.69s\n",
      "142:\tlearn: 0.3779260\ttotal: 281ms\tremaining: 1.68s\n",
      "143:\tlearn: 0.3762595\ttotal: 282ms\tremaining: 1.68s\n",
      "144:\tlearn: 0.3750602\ttotal: 284ms\tremaining: 1.67s\n",
      "145:\tlearn: 0.3740053\ttotal: 285ms\tremaining: 1.67s\n",
      "146:\tlearn: 0.3730355\ttotal: 286ms\tremaining: 1.66s\n",
      "147:\tlearn: 0.3719427\ttotal: 288ms\tremaining: 1.66s\n",
      "148:\tlearn: 0.3706965\ttotal: 290ms\tremaining: 1.66s\n",
      "149:\tlearn: 0.3700717\ttotal: 291ms\tremaining: 1.65s\n",
      "150:\tlearn: 0.3690844\ttotal: 292ms\tremaining: 1.64s\n",
      "151:\tlearn: 0.3677405\ttotal: 294ms\tremaining: 1.64s\n",
      "152:\tlearn: 0.3668268\ttotal: 295ms\tremaining: 1.63s\n",
      "153:\tlearn: 0.3658461\ttotal: 296ms\tremaining: 1.63s\n",
      "154:\tlearn: 0.3647646\ttotal: 298ms\tremaining: 1.62s\n",
      "155:\tlearn: 0.3638406\ttotal: 300ms\tremaining: 1.62s\n",
      "156:\tlearn: 0.3629157\ttotal: 302ms\tremaining: 1.62s\n",
      "157:\tlearn: 0.3615676\ttotal: 303ms\tremaining: 1.61s\n",
      "158:\tlearn: 0.3601817\ttotal: 305ms\tremaining: 1.61s\n",
      "159:\tlearn: 0.3590606\ttotal: 306ms\tremaining: 1.61s\n",
      "160:\tlearn: 0.3580920\ttotal: 307ms\tremaining: 1.6s\n",
      "161:\tlearn: 0.3569267\ttotal: 308ms\tremaining: 1.59s\n",
      "162:\tlearn: 0.3561300\ttotal: 310ms\tremaining: 1.59s\n"
     ]
    },
    {
     "name": "stdout",
     "output_type": "stream",
     "text": [
      "163:\tlearn: 0.3550590\ttotal: 312ms\tremaining: 1.59s\n",
      "164:\tlearn: 0.3539735\ttotal: 313ms\tremaining: 1.58s\n",
      "165:\tlearn: 0.3526535\ttotal: 314ms\tremaining: 1.58s\n",
      "166:\tlearn: 0.3519230\ttotal: 316ms\tremaining: 1.57s\n",
      "167:\tlearn: 0.3507364\ttotal: 317ms\tremaining: 1.57s\n",
      "168:\tlearn: 0.3495513\ttotal: 319ms\tremaining: 1.57s\n",
      "169:\tlearn: 0.3486210\ttotal: 321ms\tremaining: 1.57s\n",
      "170:\tlearn: 0.3478275\ttotal: 323ms\tremaining: 1.56s\n",
      "171:\tlearn: 0.3464660\ttotal: 324ms\tremaining: 1.56s\n",
      "172:\tlearn: 0.3455328\ttotal: 326ms\tremaining: 1.56s\n",
      "173:\tlearn: 0.3446498\ttotal: 327ms\tremaining: 1.55s\n",
      "174:\tlearn: 0.3434897\ttotal: 329ms\tremaining: 1.55s\n",
      "175:\tlearn: 0.3430380\ttotal: 330ms\tremaining: 1.54s\n",
      "176:\tlearn: 0.3423960\ttotal: 332ms\tremaining: 1.54s\n",
      "177:\tlearn: 0.3422223\ttotal: 333ms\tremaining: 1.54s\n",
      "178:\tlearn: 0.3414984\ttotal: 336ms\tremaining: 1.54s\n",
      "179:\tlearn: 0.3401987\ttotal: 338ms\tremaining: 1.54s\n",
      "180:\tlearn: 0.3397404\ttotal: 339ms\tremaining: 1.53s\n",
      "181:\tlearn: 0.3389218\ttotal: 341ms\tremaining: 1.53s\n",
      "182:\tlearn: 0.3379466\ttotal: 343ms\tremaining: 1.53s\n",
      "183:\tlearn: 0.3372058\ttotal: 345ms\tremaining: 1.53s\n",
      "184:\tlearn: 0.3369136\ttotal: 346ms\tremaining: 1.52s\n",
      "185:\tlearn: 0.3357838\ttotal: 347ms\tremaining: 1.52s\n",
      "186:\tlearn: 0.3350566\ttotal: 348ms\tremaining: 1.51s\n",
      "187:\tlearn: 0.3339879\ttotal: 350ms\tremaining: 1.51s\n",
      "188:\tlearn: 0.3334208\ttotal: 351ms\tremaining: 1.51s\n",
      "189:\tlearn: 0.3322101\ttotal: 353ms\tremaining: 1.5s\n",
      "190:\tlearn: 0.3318436\ttotal: 354ms\tremaining: 1.5s\n",
      "191:\tlearn: 0.3311233\ttotal: 355ms\tremaining: 1.5s\n",
      "192:\tlearn: 0.3301187\ttotal: 357ms\tremaining: 1.49s\n",
      "193:\tlearn: 0.3294087\ttotal: 358ms\tremaining: 1.49s\n",
      "194:\tlearn: 0.3287585\ttotal: 360ms\tremaining: 1.48s\n",
      "195:\tlearn: 0.3276402\ttotal: 361ms\tremaining: 1.48s\n",
      "196:\tlearn: 0.3268327\ttotal: 363ms\tremaining: 1.48s\n",
      "197:\tlearn: 0.3260096\ttotal: 365ms\tremaining: 1.48s\n",
      "198:\tlearn: 0.3250287\ttotal: 366ms\tremaining: 1.47s\n",
      "199:\tlearn: 0.3246849\ttotal: 367ms\tremaining: 1.47s\n",
      "200:\tlearn: 0.3239244\ttotal: 368ms\tremaining: 1.46s\n",
      "201:\tlearn: 0.3230601\ttotal: 370ms\tremaining: 1.46s\n",
      "202:\tlearn: 0.3218867\ttotal: 371ms\tremaining: 1.46s\n",
      "203:\tlearn: 0.3211467\ttotal: 373ms\tremaining: 1.45s\n",
      "204:\tlearn: 0.3207712\ttotal: 374ms\tremaining: 1.45s\n",
      "205:\tlearn: 0.3199743\ttotal: 376ms\tremaining: 1.45s\n",
      "206:\tlearn: 0.3192023\ttotal: 377ms\tremaining: 1.45s\n",
      "207:\tlearn: 0.3183557\ttotal: 379ms\tremaining: 1.44s\n",
      "208:\tlearn: 0.3176068\ttotal: 380ms\tremaining: 1.44s\n",
      "209:\tlearn: 0.3167791\ttotal: 381ms\tremaining: 1.43s\n",
      "210:\tlearn: 0.3161975\ttotal: 383ms\tremaining: 1.43s\n",
      "211:\tlearn: 0.3153618\ttotal: 384ms\tremaining: 1.43s\n",
      "212:\tlearn: 0.3148271\ttotal: 385ms\tremaining: 1.42s\n",
      "213:\tlearn: 0.3140681\ttotal: 387ms\tremaining: 1.42s\n",
      "214:\tlearn: 0.3134454\ttotal: 388ms\tremaining: 1.42s\n",
      "215:\tlearn: 0.3124547\ttotal: 390ms\tremaining: 1.41s\n",
      "216:\tlearn: 0.3119324\ttotal: 391ms\tremaining: 1.41s\n",
      "217:\tlearn: 0.3111921\ttotal: 393ms\tremaining: 1.41s\n",
      "218:\tlearn: 0.3106581\ttotal: 395ms\tremaining: 1.41s\n",
      "219:\tlearn: 0.3096729\ttotal: 396ms\tremaining: 1.41s\n",
      "220:\tlearn: 0.3087859\ttotal: 398ms\tremaining: 1.4s\n",
      "221:\tlearn: 0.3080927\ttotal: 400ms\tremaining: 1.4s\n",
      "222:\tlearn: 0.3077567\ttotal: 401ms\tremaining: 1.4s\n",
      "223:\tlearn: 0.3068514\ttotal: 403ms\tremaining: 1.4s\n",
      "224:\tlearn: 0.3061142\ttotal: 404ms\tremaining: 1.39s\n",
      "225:\tlearn: 0.3053532\ttotal: 406ms\tremaining: 1.39s\n",
      "226:\tlearn: 0.3050101\ttotal: 408ms\tremaining: 1.39s\n",
      "227:\tlearn: 0.3044096\ttotal: 409ms\tremaining: 1.39s\n",
      "228:\tlearn: 0.3036790\ttotal: 411ms\tremaining: 1.38s\n",
      "229:\tlearn: 0.3029396\ttotal: 413ms\tremaining: 1.38s\n",
      "230:\tlearn: 0.3023481\ttotal: 414ms\tremaining: 1.38s\n",
      "231:\tlearn: 0.3019374\ttotal: 416ms\tremaining: 1.38s\n",
      "232:\tlearn: 0.3011900\ttotal: 418ms\tremaining: 1.37s\n",
      "233:\tlearn: 0.3005185\ttotal: 420ms\tremaining: 1.37s\n",
      "234:\tlearn: 0.2999282\ttotal: 421ms\tremaining: 1.37s\n",
      "235:\tlearn: 0.2989617\ttotal: 422ms\tremaining: 1.37s\n",
      "236:\tlearn: 0.2983288\ttotal: 424ms\tremaining: 1.36s\n",
      "237:\tlearn: 0.2974186\ttotal: 426ms\tremaining: 1.36s\n",
      "238:\tlearn: 0.2967187\ttotal: 428ms\tremaining: 1.36s\n",
      "239:\tlearn: 0.2959042\ttotal: 430ms\tremaining: 1.36s\n",
      "240:\tlearn: 0.2953726\ttotal: 431ms\tremaining: 1.36s\n",
      "241:\tlearn: 0.2947652\ttotal: 433ms\tremaining: 1.35s\n",
      "242:\tlearn: 0.2940728\ttotal: 434ms\tremaining: 1.35s\n",
      "243:\tlearn: 0.2932435\ttotal: 436ms\tremaining: 1.35s\n",
      "244:\tlearn: 0.2924460\ttotal: 437ms\tremaining: 1.35s\n",
      "245:\tlearn: 0.2919825\ttotal: 438ms\tremaining: 1.34s\n",
      "246:\tlearn: 0.2915173\ttotal: 440ms\tremaining: 1.34s\n",
      "247:\tlearn: 0.2909224\ttotal: 442ms\tremaining: 1.34s\n",
      "248:\tlearn: 0.2905292\ttotal: 443ms\tremaining: 1.34s\n",
      "249:\tlearn: 0.2899059\ttotal: 444ms\tremaining: 1.33s\n",
      "250:\tlearn: 0.2893056\ttotal: 446ms\tremaining: 1.33s\n",
      "251:\tlearn: 0.2886597\ttotal: 447ms\tremaining: 1.33s\n",
      "252:\tlearn: 0.2879527\ttotal: 448ms\tremaining: 1.32s\n",
      "253:\tlearn: 0.2872447\ttotal: 450ms\tremaining: 1.32s\n",
      "254:\tlearn: 0.2867080\ttotal: 452ms\tremaining: 1.32s\n",
      "255:\tlearn: 0.2860443\ttotal: 453ms\tremaining: 1.32s\n",
      "256:\tlearn: 0.2853458\ttotal: 454ms\tremaining: 1.31s\n",
      "257:\tlearn: 0.2846458\ttotal: 455ms\tremaining: 1.31s\n",
      "258:\tlearn: 0.2841930\ttotal: 457ms\tremaining: 1.31s\n",
      "259:\tlearn: 0.2836258\ttotal: 458ms\tremaining: 1.3s\n",
      "260:\tlearn: 0.2830974\ttotal: 459ms\tremaining: 1.3s\n",
      "261:\tlearn: 0.2825288\ttotal: 462ms\tremaining: 1.3s\n",
      "262:\tlearn: 0.2819432\ttotal: 463ms\tremaining: 1.3s\n",
      "263:\tlearn: 0.2813131\ttotal: 465ms\tremaining: 1.29s\n",
      "264:\tlearn: 0.2806125\ttotal: 466ms\tremaining: 1.29s\n",
      "265:\tlearn: 0.2800353\ttotal: 467ms\tremaining: 1.29s\n",
      "266:\tlearn: 0.2792874\ttotal: 470ms\tremaining: 1.29s\n",
      "267:\tlearn: 0.2787927\ttotal: 472ms\tremaining: 1.29s\n",
      "268:\tlearn: 0.2780463\ttotal: 473ms\tremaining: 1.28s\n",
      "269:\tlearn: 0.2773433\ttotal: 474ms\tremaining: 1.28s\n",
      "270:\tlearn: 0.2768860\ttotal: 476ms\tremaining: 1.28s\n",
      "271:\tlearn: 0.2765006\ttotal: 477ms\tremaining: 1.28s\n",
      "272:\tlearn: 0.2760610\ttotal: 479ms\tremaining: 1.27s\n",
      "273:\tlearn: 0.2757626\ttotal: 480ms\tremaining: 1.27s\n",
      "274:\tlearn: 0.2754302\ttotal: 481ms\tremaining: 1.27s\n",
      "275:\tlearn: 0.2748640\ttotal: 483ms\tremaining: 1.27s\n",
      "276:\tlearn: 0.2746047\ttotal: 485ms\tremaining: 1.26s\n",
      "277:\tlearn: 0.2739447\ttotal: 486ms\tremaining: 1.26s\n",
      "278:\tlearn: 0.2734597\ttotal: 501ms\tremaining: 1.29s\n",
      "279:\tlearn: 0.2728541\ttotal: 503ms\tremaining: 1.29s\n",
      "280:\tlearn: 0.2722408\ttotal: 504ms\tremaining: 1.29s\n",
      "281:\tlearn: 0.2716156\ttotal: 506ms\tremaining: 1.29s\n",
      "282:\tlearn: 0.2710919\ttotal: 508ms\tremaining: 1.29s\n",
      "283:\tlearn: 0.2707103\ttotal: 509ms\tremaining: 1.28s\n",
      "284:\tlearn: 0.2701189\ttotal: 510ms\tremaining: 1.28s\n",
      "285:\tlearn: 0.2694988\ttotal: 512ms\tremaining: 1.28s\n",
      "286:\tlearn: 0.2689808\ttotal: 513ms\tremaining: 1.27s\n",
      "287:\tlearn: 0.2684204\ttotal: 514ms\tremaining: 1.27s\n",
      "288:\tlearn: 0.2679204\ttotal: 516ms\tremaining: 1.27s\n",
      "289:\tlearn: 0.2675726\ttotal: 518ms\tremaining: 1.27s\n",
      "290:\tlearn: 0.2670900\ttotal: 519ms\tremaining: 1.26s\n",
      "291:\tlearn: 0.2663542\ttotal: 520ms\tremaining: 1.26s\n",
      "292:\tlearn: 0.2658796\ttotal: 522ms\tremaining: 1.26s\n",
      "293:\tlearn: 0.2653425\ttotal: 523ms\tremaining: 1.25s\n",
      "294:\tlearn: 0.2646682\ttotal: 524ms\tremaining: 1.25s\n",
      "295:\tlearn: 0.2641675\ttotal: 525ms\tremaining: 1.25s\n",
      "296:\tlearn: 0.2636938\ttotal: 527ms\tremaining: 1.25s\n",
      "297:\tlearn: 0.2632871\ttotal: 528ms\tremaining: 1.24s\n",
      "298:\tlearn: 0.2626576\ttotal: 530ms\tremaining: 1.24s\n",
      "299:\tlearn: 0.2625128\ttotal: 531ms\tremaining: 1.24s\n",
      "300:\tlearn: 0.2621232\ttotal: 532ms\tremaining: 1.24s\n",
      "301:\tlearn: 0.2616902\ttotal: 534ms\tremaining: 1.23s\n",
      "302:\tlearn: 0.2611575\ttotal: 535ms\tremaining: 1.23s\n",
      "303:\tlearn: 0.2604399\ttotal: 536ms\tremaining: 1.23s\n",
      "304:\tlearn: 0.2600187\ttotal: 537ms\tremaining: 1.22s\n",
      "305:\tlearn: 0.2597833\ttotal: 539ms\tremaining: 1.22s\n",
      "306:\tlearn: 0.2591543\ttotal: 541ms\tremaining: 1.22s\n",
      "307:\tlearn: 0.2585014\ttotal: 542ms\tremaining: 1.22s\n",
      "308:\tlearn: 0.2582021\ttotal: 543ms\tremaining: 1.21s\n",
      "309:\tlearn: 0.2576934\ttotal: 544ms\tremaining: 1.21s\n",
      "310:\tlearn: 0.2573945\ttotal: 545ms\tremaining: 1.21s\n",
      "311:\tlearn: 0.2569027\ttotal: 547ms\tremaining: 1.21s\n",
      "312:\tlearn: 0.2566703\ttotal: 548ms\tremaining: 1.2s\n",
      "313:\tlearn: 0.2560701\ttotal: 549ms\tremaining: 1.2s\n",
      "314:\tlearn: 0.2554071\ttotal: 551ms\tremaining: 1.2s\n",
      "315:\tlearn: 0.2549984\ttotal: 552ms\tremaining: 1.19s\n",
      "316:\tlearn: 0.2544576\ttotal: 553ms\tremaining: 1.19s\n",
      "317:\tlearn: 0.2541086\ttotal: 554ms\tremaining: 1.19s\n",
      "318:\tlearn: 0.2537884\ttotal: 555ms\tremaining: 1.19s\n",
      "319:\tlearn: 0.2533959\ttotal: 557ms\tremaining: 1.18s\n",
      "320:\tlearn: 0.2528727\ttotal: 558ms\tremaining: 1.18s\n",
      "321:\tlearn: 0.2524858\ttotal: 559ms\tremaining: 1.18s\n",
      "322:\tlearn: 0.2520715\ttotal: 560ms\tremaining: 1.17s\n",
      "323:\tlearn: 0.2514055\ttotal: 562ms\tremaining: 1.17s\n",
      "324:\tlearn: 0.2509579\ttotal: 563ms\tremaining: 1.17s\n",
      "325:\tlearn: 0.2504068\ttotal: 564ms\tremaining: 1.17s\n",
      "326:\tlearn: 0.2501737\ttotal: 566ms\tremaining: 1.16s\n",
      "327:\tlearn: 0.2497623\ttotal: 567ms\tremaining: 1.16s\n",
      "328:\tlearn: 0.2492445\ttotal: 568ms\tremaining: 1.16s\n",
      "329:\tlearn: 0.2489948\ttotal: 569ms\tremaining: 1.16s\n",
      "330:\tlearn: 0.2485878\ttotal: 571ms\tremaining: 1.15s\n",
      "331:\tlearn: 0.2480932\ttotal: 572ms\tremaining: 1.15s\n",
      "332:\tlearn: 0.2478183\ttotal: 573ms\tremaining: 1.15s\n",
      "333:\tlearn: 0.2475150\ttotal: 574ms\tremaining: 1.15s\n",
      "334:\tlearn: 0.2469752\ttotal: 576ms\tremaining: 1.14s\n",
      "335:\tlearn: 0.2463911\ttotal: 577ms\tremaining: 1.14s\n",
      "336:\tlearn: 0.2458407\ttotal: 578ms\tremaining: 1.14s\n",
      "337:\tlearn: 0.2454070\ttotal: 579ms\tremaining: 1.13s\n",
      "338:\tlearn: 0.2451115\ttotal: 581ms\tremaining: 1.13s\n",
      "339:\tlearn: 0.2445737\ttotal: 582ms\tremaining: 1.13s\n",
      "340:\tlearn: 0.2445276\ttotal: 582ms\tremaining: 1.13s\n",
      "341:\tlearn: 0.2440330\ttotal: 584ms\tremaining: 1.12s\n",
      "342:\tlearn: 0.2436989\ttotal: 585ms\tremaining: 1.12s\n",
      "343:\tlearn: 0.2433128\ttotal: 586ms\tremaining: 1.12s\n",
      "344:\tlearn: 0.2428303\ttotal: 587ms\tremaining: 1.11s\n",
      "345:\tlearn: 0.2421255\ttotal: 589ms\tremaining: 1.11s\n",
      "346:\tlearn: 0.2416603\ttotal: 590ms\tremaining: 1.11s\n",
      "347:\tlearn: 0.2414143\ttotal: 591ms\tremaining: 1.11s\n",
      "348:\tlearn: 0.2411108\ttotal: 592ms\tremaining: 1.1s\n",
      "349:\tlearn: 0.2406538\ttotal: 593ms\tremaining: 1.1s\n",
      "350:\tlearn: 0.2404155\ttotal: 595ms\tremaining: 1.1s\n",
      "351:\tlearn: 0.2397076\ttotal: 596ms\tremaining: 1.1s\n",
      "352:\tlearn: 0.2395077\ttotal: 597ms\tremaining: 1.09s\n",
      "353:\tlearn: 0.2391044\ttotal: 598ms\tremaining: 1.09s\n",
      "354:\tlearn: 0.2388488\ttotal: 599ms\tremaining: 1.09s\n",
      "355:\tlearn: 0.2383034\ttotal: 601ms\tremaining: 1.09s\n",
      "356:\tlearn: 0.2379672\ttotal: 602ms\tremaining: 1.08s\n",
      "357:\tlearn: 0.2377575\ttotal: 603ms\tremaining: 1.08s\n",
      "358:\tlearn: 0.2372036\ttotal: 604ms\tremaining: 1.08s\n",
      "359:\tlearn: 0.2367398\ttotal: 605ms\tremaining: 1.08s\n",
      "360:\tlearn: 0.2364241\ttotal: 607ms\tremaining: 1.07s\n",
      "361:\tlearn: 0.2361184\ttotal: 608ms\tremaining: 1.07s\n",
      "362:\tlearn: 0.2359735\ttotal: 609ms\tremaining: 1.07s\n",
      "363:\tlearn: 0.2356299\ttotal: 610ms\tremaining: 1.07s\n",
      "364:\tlearn: 0.2352520\ttotal: 612ms\tremaining: 1.06s\n",
      "365:\tlearn: 0.2348505\ttotal: 613ms\tremaining: 1.06s\n",
      "366:\tlearn: 0.2343784\ttotal: 614ms\tremaining: 1.06s\n",
      "367:\tlearn: 0.2339084\ttotal: 616ms\tremaining: 1.06s\n",
      "368:\tlearn: 0.2335440\ttotal: 617ms\tremaining: 1.05s\n",
      "369:\tlearn: 0.2331855\ttotal: 618ms\tremaining: 1.05s\n",
      "370:\tlearn: 0.2328300\ttotal: 619ms\tremaining: 1.05s\n"
     ]
    },
    {
     "name": "stdout",
     "output_type": "stream",
     "text": [
      "371:\tlearn: 0.2325790\ttotal: 621ms\tremaining: 1.05s\n",
      "372:\tlearn: 0.2321144\ttotal: 622ms\tremaining: 1.04s\n",
      "373:\tlearn: 0.2316463\ttotal: 623ms\tremaining: 1.04s\n",
      "374:\tlearn: 0.2312880\ttotal: 625ms\tremaining: 1.04s\n",
      "375:\tlearn: 0.2309978\ttotal: 626ms\tremaining: 1.04s\n",
      "376:\tlearn: 0.2305797\ttotal: 627ms\tremaining: 1.04s\n",
      "377:\tlearn: 0.2302671\ttotal: 628ms\tremaining: 1.03s\n",
      "378:\tlearn: 0.2298799\ttotal: 629ms\tremaining: 1.03s\n",
      "379:\tlearn: 0.2295009\ttotal: 631ms\tremaining: 1.03s\n",
      "380:\tlearn: 0.2289493\ttotal: 632ms\tremaining: 1.03s\n",
      "381:\tlearn: 0.2285010\ttotal: 633ms\tremaining: 1.02s\n",
      "382:\tlearn: 0.2283052\ttotal: 635ms\tremaining: 1.02s\n",
      "383:\tlearn: 0.2280532\ttotal: 636ms\tremaining: 1.02s\n",
      "384:\tlearn: 0.2278749\ttotal: 637ms\tremaining: 1.02s\n",
      "385:\tlearn: 0.2276692\ttotal: 638ms\tremaining: 1.01s\n",
      "386:\tlearn: 0.2273141\ttotal: 640ms\tremaining: 1.01s\n",
      "387:\tlearn: 0.2269729\ttotal: 641ms\tremaining: 1.01s\n",
      "388:\tlearn: 0.2265096\ttotal: 643ms\tremaining: 1.01s\n",
      "389:\tlearn: 0.2261179\ttotal: 644ms\tremaining: 1.01s\n",
      "390:\tlearn: 0.2257620\ttotal: 645ms\tremaining: 1s\n",
      "391:\tlearn: 0.2254125\ttotal: 646ms\tremaining: 1s\n",
      "392:\tlearn: 0.2250504\ttotal: 648ms\tremaining: 1s\n",
      "393:\tlearn: 0.2248149\ttotal: 649ms\tremaining: 998ms\n",
      "394:\tlearn: 0.2245912\ttotal: 650ms\tremaining: 996ms\n",
      "395:\tlearn: 0.2242488\ttotal: 651ms\tremaining: 993ms\n",
      "396:\tlearn: 0.2240126\ttotal: 653ms\tremaining: 992ms\n",
      "397:\tlearn: 0.2237290\ttotal: 654ms\tremaining: 989ms\n",
      "398:\tlearn: 0.2235486\ttotal: 655ms\tremaining: 987ms\n",
      "399:\tlearn: 0.2230899\ttotal: 656ms\tremaining: 985ms\n",
      "400:\tlearn: 0.2227817\ttotal: 658ms\tremaining: 982ms\n",
      "401:\tlearn: 0.2224752\ttotal: 659ms\tremaining: 980ms\n",
      "402:\tlearn: 0.2221171\ttotal: 660ms\tremaining: 978ms\n",
      "403:\tlearn: 0.2216990\ttotal: 661ms\tremaining: 975ms\n",
      "404:\tlearn: 0.2212887\ttotal: 662ms\tremaining: 973ms\n",
      "405:\tlearn: 0.2210836\ttotal: 664ms\tremaining: 971ms\n",
      "406:\tlearn: 0.2206963\ttotal: 665ms\tremaining: 969ms\n",
      "407:\tlearn: 0.2204430\ttotal: 666ms\tremaining: 967ms\n",
      "408:\tlearn: 0.2200194\ttotal: 667ms\tremaining: 964ms\n",
      "409:\tlearn: 0.2197708\ttotal: 669ms\tremaining: 962ms\n",
      "410:\tlearn: 0.2194428\ttotal: 670ms\tremaining: 960ms\n",
      "411:\tlearn: 0.2192668\ttotal: 671ms\tremaining: 958ms\n",
      "412:\tlearn: 0.2190240\ttotal: 672ms\tremaining: 956ms\n",
      "413:\tlearn: 0.2188813\ttotal: 673ms\tremaining: 953ms\n",
      "414:\tlearn: 0.2183656\ttotal: 675ms\tremaining: 951ms\n",
      "415:\tlearn: 0.2180103\ttotal: 676ms\tremaining: 949ms\n",
      "416:\tlearn: 0.2174519\ttotal: 677ms\tremaining: 947ms\n",
      "417:\tlearn: 0.2169278\ttotal: 678ms\tremaining: 944ms\n",
      "418:\tlearn: 0.2167950\ttotal: 680ms\tremaining: 942ms\n",
      "419:\tlearn: 0.2164727\ttotal: 681ms\tremaining: 940ms\n",
      "420:\tlearn: 0.2161532\ttotal: 682ms\tremaining: 938ms\n",
      "421:\tlearn: 0.2158076\ttotal: 683ms\tremaining: 936ms\n",
      "422:\tlearn: 0.2154589\ttotal: 685ms\tremaining: 934ms\n",
      "423:\tlearn: 0.2153139\ttotal: 686ms\tremaining: 932ms\n",
      "424:\tlearn: 0.2151828\ttotal: 687ms\tremaining: 930ms\n",
      "425:\tlearn: 0.2148322\ttotal: 689ms\tremaining: 928ms\n",
      "426:\tlearn: 0.2146235\ttotal: 690ms\tremaining: 926ms\n",
      "427:\tlearn: 0.2145950\ttotal: 691ms\tremaining: 923ms\n",
      "428:\tlearn: 0.2142286\ttotal: 692ms\tremaining: 921ms\n",
      "429:\tlearn: 0.2137649\ttotal: 693ms\tremaining: 919ms\n",
      "430:\tlearn: 0.2134738\ttotal: 695ms\tremaining: 918ms\n",
      "431:\tlearn: 0.2131132\ttotal: 697ms\tremaining: 916ms\n",
      "432:\tlearn: 0.2127643\ttotal: 698ms\tremaining: 914ms\n",
      "433:\tlearn: 0.2124698\ttotal: 699ms\tremaining: 912ms\n",
      "434:\tlearn: 0.2122251\ttotal: 700ms\tremaining: 910ms\n",
      "435:\tlearn: 0.2118288\ttotal: 702ms\tremaining: 908ms\n",
      "436:\tlearn: 0.2115600\ttotal: 703ms\tremaining: 906ms\n",
      "437:\tlearn: 0.2115058\ttotal: 704ms\tremaining: 903ms\n",
      "438:\tlearn: 0.2110905\ttotal: 705ms\tremaining: 901ms\n",
      "439:\tlearn: 0.2107237\ttotal: 707ms\tremaining: 899ms\n",
      "440:\tlearn: 0.2103350\ttotal: 708ms\tremaining: 897ms\n",
      "441:\tlearn: 0.2101210\ttotal: 709ms\tremaining: 895ms\n",
      "442:\tlearn: 0.2097248\ttotal: 710ms\tremaining: 893ms\n",
      "443:\tlearn: 0.2095565\ttotal: 711ms\tremaining: 891ms\n",
      "444:\tlearn: 0.2092524\ttotal: 713ms\tremaining: 889ms\n",
      "445:\tlearn: 0.2088577\ttotal: 714ms\tremaining: 887ms\n",
      "446:\tlearn: 0.2087177\ttotal: 715ms\tremaining: 885ms\n",
      "447:\tlearn: 0.2083429\ttotal: 716ms\tremaining: 883ms\n",
      "448:\tlearn: 0.2081122\ttotal: 727ms\tremaining: 893ms\n",
      "449:\tlearn: 0.2079164\ttotal: 729ms\tremaining: 891ms\n",
      "450:\tlearn: 0.2077417\ttotal: 730ms\tremaining: 888ms\n",
      "451:\tlearn: 0.2074225\ttotal: 731ms\tremaining: 886ms\n",
      "452:\tlearn: 0.2071804\ttotal: 732ms\tremaining: 884ms\n",
      "453:\tlearn: 0.2068888\ttotal: 734ms\tremaining: 882ms\n",
      "454:\tlearn: 0.2064882\ttotal: 735ms\tremaining: 880ms\n",
      "455:\tlearn: 0.2063003\ttotal: 736ms\tremaining: 878ms\n",
      "456:\tlearn: 0.2061602\ttotal: 738ms\tremaining: 876ms\n",
      "457:\tlearn: 0.2057411\ttotal: 739ms\tremaining: 874ms\n",
      "458:\tlearn: 0.2053569\ttotal: 740ms\tremaining: 872ms\n",
      "459:\tlearn: 0.2049943\ttotal: 741ms\tremaining: 870ms\n",
      "460:\tlearn: 0.2046044\ttotal: 742ms\tremaining: 868ms\n",
      "461:\tlearn: 0.2043495\ttotal: 743ms\tremaining: 866ms\n",
      "462:\tlearn: 0.2038800\ttotal: 745ms\tremaining: 864ms\n",
      "463:\tlearn: 0.2036153\ttotal: 746ms\tremaining: 862ms\n",
      "464:\tlearn: 0.2032469\ttotal: 747ms\tremaining: 860ms\n",
      "465:\tlearn: 0.2028504\ttotal: 748ms\tremaining: 858ms\n",
      "466:\tlearn: 0.2026126\ttotal: 750ms\tremaining: 855ms\n",
      "467:\tlearn: 0.2022789\ttotal: 751ms\tremaining: 853ms\n",
      "468:\tlearn: 0.2020440\ttotal: 752ms\tremaining: 851ms\n",
      "469:\tlearn: 0.2016875\ttotal: 753ms\tremaining: 849ms\n",
      "470:\tlearn: 0.2014080\ttotal: 754ms\tremaining: 847ms\n",
      "471:\tlearn: 0.2011514\ttotal: 756ms\tremaining: 845ms\n",
      "472:\tlearn: 0.2009425\ttotal: 757ms\tremaining: 844ms\n",
      "473:\tlearn: 0.2007617\ttotal: 758ms\tremaining: 842ms\n",
      "474:\tlearn: 0.2005781\ttotal: 760ms\tremaining: 840ms\n",
      "475:\tlearn: 0.2002206\ttotal: 761ms\tremaining: 838ms\n",
      "476:\tlearn: 0.1999232\ttotal: 762ms\tremaining: 836ms\n",
      "477:\tlearn: 0.1997176\ttotal: 763ms\tremaining: 834ms\n",
      "478:\tlearn: 0.1993435\ttotal: 764ms\tremaining: 831ms\n",
      "479:\tlearn: 0.1989678\ttotal: 766ms\tremaining: 829ms\n",
      "480:\tlearn: 0.1985527\ttotal: 767ms\tremaining: 828ms\n",
      "481:\tlearn: 0.1983658\ttotal: 783ms\tremaining: 841ms\n",
      "482:\tlearn: 0.1981410\ttotal: 784ms\tremaining: 840ms\n",
      "483:\tlearn: 0.1978022\ttotal: 786ms\tremaining: 838ms\n",
      "484:\tlearn: 0.1974663\ttotal: 787ms\tremaining: 836ms\n",
      "485:\tlearn: 0.1972715\ttotal: 789ms\tremaining: 834ms\n",
      "486:\tlearn: 0.1971756\ttotal: 790ms\tremaining: 832ms\n",
      "487:\tlearn: 0.1970269\ttotal: 791ms\tremaining: 830ms\n",
      "488:\tlearn: 0.1968926\ttotal: 793ms\tremaining: 828ms\n",
      "489:\tlearn: 0.1964629\ttotal: 794ms\tremaining: 826ms\n",
      "490:\tlearn: 0.1963121\ttotal: 795ms\tremaining: 824ms\n",
      "491:\tlearn: 0.1960253\ttotal: 797ms\tremaining: 822ms\n",
      "492:\tlearn: 0.1957312\ttotal: 798ms\tremaining: 820ms\n",
      "493:\tlearn: 0.1955982\ttotal: 799ms\tremaining: 818ms\n",
      "494:\tlearn: 0.1954241\ttotal: 800ms\tremaining: 816ms\n",
      "495:\tlearn: 0.1950687\ttotal: 801ms\tremaining: 814ms\n",
      "496:\tlearn: 0.1947756\ttotal: 803ms\tremaining: 813ms\n",
      "497:\tlearn: 0.1945808\ttotal: 804ms\tremaining: 811ms\n",
      "498:\tlearn: 0.1944052\ttotal: 805ms\tremaining: 809ms\n",
      "499:\tlearn: 0.1940540\ttotal: 807ms\tremaining: 807ms\n",
      "500:\tlearn: 0.1938070\ttotal: 808ms\tremaining: 805ms\n",
      "501:\tlearn: 0.1935002\ttotal: 809ms\tremaining: 803ms\n",
      "502:\tlearn: 0.1932299\ttotal: 810ms\tremaining: 801ms\n",
      "503:\tlearn: 0.1928678\ttotal: 812ms\tremaining: 799ms\n",
      "504:\tlearn: 0.1926295\ttotal: 813ms\tremaining: 797ms\n",
      "505:\tlearn: 0.1924302\ttotal: 814ms\tremaining: 795ms\n",
      "506:\tlearn: 0.1921051\ttotal: 816ms\tremaining: 793ms\n",
      "507:\tlearn: 0.1919423\ttotal: 817ms\tremaining: 791ms\n",
      "508:\tlearn: 0.1915465\ttotal: 818ms\tremaining: 789ms\n",
      "509:\tlearn: 0.1913122\ttotal: 819ms\tremaining: 787ms\n",
      "510:\tlearn: 0.1911327\ttotal: 820ms\tremaining: 785ms\n",
      "511:\tlearn: 0.1908090\ttotal: 821ms\tremaining: 783ms\n",
      "512:\tlearn: 0.1907410\ttotal: 822ms\tremaining: 781ms\n",
      "513:\tlearn: 0.1904852\ttotal: 824ms\tremaining: 779ms\n",
      "514:\tlearn: 0.1900700\ttotal: 825ms\tremaining: 777ms\n",
      "515:\tlearn: 0.1899113\ttotal: 826ms\tremaining: 775ms\n",
      "516:\tlearn: 0.1896993\ttotal: 828ms\tremaining: 773ms\n",
      "517:\tlearn: 0.1895251\ttotal: 829ms\tremaining: 771ms\n",
      "518:\tlearn: 0.1891594\ttotal: 830ms\tremaining: 769ms\n",
      "519:\tlearn: 0.1889160\ttotal: 831ms\tremaining: 767ms\n",
      "520:\tlearn: 0.1886876\ttotal: 833ms\tremaining: 765ms\n",
      "521:\tlearn: 0.1883086\ttotal: 834ms\tremaining: 764ms\n",
      "522:\tlearn: 0.1879372\ttotal: 835ms\tremaining: 762ms\n",
      "523:\tlearn: 0.1877249\ttotal: 836ms\tremaining: 760ms\n",
      "524:\tlearn: 0.1873883\ttotal: 838ms\tremaining: 758ms\n",
      "525:\tlearn: 0.1872379\ttotal: 839ms\tremaining: 756ms\n",
      "526:\tlearn: 0.1869702\ttotal: 840ms\tremaining: 754ms\n",
      "527:\tlearn: 0.1867470\ttotal: 841ms\tremaining: 752ms\n",
      "528:\tlearn: 0.1865101\ttotal: 843ms\tremaining: 750ms\n",
      "529:\tlearn: 0.1862188\ttotal: 844ms\tremaining: 748ms\n",
      "530:\tlearn: 0.1859320\ttotal: 845ms\tremaining: 746ms\n",
      "531:\tlearn: 0.1855756\ttotal: 846ms\tremaining: 744ms\n",
      "532:\tlearn: 0.1854109\ttotal: 848ms\tremaining: 743ms\n",
      "533:\tlearn: 0.1849044\ttotal: 849ms\tremaining: 741ms\n",
      "534:\tlearn: 0.1847475\ttotal: 850ms\tremaining: 739ms\n",
      "535:\tlearn: 0.1845546\ttotal: 852ms\tremaining: 737ms\n",
      "536:\tlearn: 0.1842422\ttotal: 853ms\tremaining: 735ms\n",
      "537:\tlearn: 0.1841026\ttotal: 854ms\tremaining: 733ms\n",
      "538:\tlearn: 0.1838421\ttotal: 855ms\tremaining: 732ms\n",
      "539:\tlearn: 0.1833711\ttotal: 857ms\tremaining: 730ms\n",
      "540:\tlearn: 0.1830110\ttotal: 858ms\tremaining: 728ms\n",
      "541:\tlearn: 0.1828300\ttotal: 859ms\tremaining: 726ms\n",
      "542:\tlearn: 0.1825824\ttotal: 860ms\tremaining: 724ms\n",
      "543:\tlearn: 0.1824889\ttotal: 862ms\tremaining: 722ms\n",
      "544:\tlearn: 0.1821247\ttotal: 863ms\tremaining: 721ms\n",
      "545:\tlearn: 0.1818624\ttotal: 864ms\tremaining: 719ms\n",
      "546:\tlearn: 0.1815900\ttotal: 866ms\tremaining: 717ms\n",
      "547:\tlearn: 0.1813913\ttotal: 867ms\tremaining: 715ms\n",
      "548:\tlearn: 0.1811233\ttotal: 868ms\tremaining: 713ms\n",
      "549:\tlearn: 0.1807960\ttotal: 872ms\tremaining: 714ms\n",
      "550:\tlearn: 0.1804474\ttotal: 874ms\tremaining: 712ms\n",
      "551:\tlearn: 0.1800942\ttotal: 876ms\tremaining: 711ms\n",
      "552:\tlearn: 0.1799851\ttotal: 877ms\tremaining: 709ms\n",
      "553:\tlearn: 0.1797029\ttotal: 878ms\tremaining: 707ms\n",
      "554:\tlearn: 0.1795288\ttotal: 879ms\tremaining: 705ms\n",
      "555:\tlearn: 0.1791589\ttotal: 881ms\tremaining: 703ms\n",
      "556:\tlearn: 0.1790916\ttotal: 883ms\tremaining: 702ms\n",
      "557:\tlearn: 0.1787271\ttotal: 884ms\tremaining: 700ms\n",
      "558:\tlearn: 0.1784945\ttotal: 885ms\tremaining: 698ms\n",
      "559:\tlearn: 0.1782417\ttotal: 886ms\tremaining: 696ms\n",
      "560:\tlearn: 0.1781289\ttotal: 888ms\tremaining: 695ms\n",
      "561:\tlearn: 0.1779941\ttotal: 889ms\tremaining: 693ms\n",
      "562:\tlearn: 0.1777163\ttotal: 890ms\tremaining: 691ms\n",
      "563:\tlearn: 0.1774858\ttotal: 891ms\tremaining: 689ms\n",
      "564:\tlearn: 0.1772133\ttotal: 893ms\tremaining: 687ms\n",
      "565:\tlearn: 0.1770726\ttotal: 894ms\tremaining: 686ms\n",
      "566:\tlearn: 0.1768432\ttotal: 896ms\tremaining: 684ms\n",
      "567:\tlearn: 0.1765667\ttotal: 897ms\tremaining: 682ms\n",
      "568:\tlearn: 0.1763495\ttotal: 899ms\tremaining: 681ms\n",
      "569:\tlearn: 0.1760568\ttotal: 900ms\tremaining: 679ms\n",
      "570:\tlearn: 0.1757888\ttotal: 901ms\tremaining: 677ms\n",
      "571:\tlearn: 0.1754338\ttotal: 903ms\tremaining: 675ms\n",
      "572:\tlearn: 0.1751642\ttotal: 905ms\tremaining: 674ms\n",
      "573:\tlearn: 0.1749640\ttotal: 906ms\tremaining: 672ms\n",
      "574:\tlearn: 0.1747783\ttotal: 907ms\tremaining: 671ms\n",
      "575:\tlearn: 0.1745443\ttotal: 909ms\tremaining: 669ms\n",
      "576:\tlearn: 0.1742287\ttotal: 910ms\tremaining: 667ms\n",
      "577:\tlearn: 0.1738587\ttotal: 911ms\tremaining: 665ms\n",
      "578:\tlearn: 0.1736812\ttotal: 913ms\tremaining: 664ms\n",
      "579:\tlearn: 0.1734588\ttotal: 914ms\tremaining: 662ms\n",
      "580:\tlearn: 0.1730505\ttotal: 916ms\tremaining: 660ms\n",
      "581:\tlearn: 0.1727831\ttotal: 917ms\tremaining: 659ms\n",
      "582:\tlearn: 0.1725381\ttotal: 919ms\tremaining: 657ms\n",
      "583:\tlearn: 0.1723696\ttotal: 920ms\tremaining: 655ms\n",
      "584:\tlearn: 0.1722166\ttotal: 921ms\tremaining: 654ms\n",
      "585:\tlearn: 0.1720354\ttotal: 922ms\tremaining: 652ms\n",
      "586:\tlearn: 0.1717117\ttotal: 924ms\tremaining: 650ms\n",
      "587:\tlearn: 0.1715517\ttotal: 925ms\tremaining: 648ms\n",
      "588:\tlearn: 0.1714111\ttotal: 926ms\tremaining: 646ms\n",
      "589:\tlearn: 0.1711205\ttotal: 928ms\tremaining: 645ms\n",
      "590:\tlearn: 0.1708725\ttotal: 929ms\tremaining: 643ms\n",
      "591:\tlearn: 0.1706977\ttotal: 930ms\tremaining: 641ms\n",
      "592:\tlearn: 0.1704609\ttotal: 932ms\tremaining: 639ms\n",
      "593:\tlearn: 0.1701200\ttotal: 933ms\tremaining: 638ms\n",
      "594:\tlearn: 0.1700260\ttotal: 934ms\tremaining: 636ms\n",
      "595:\tlearn: 0.1698235\ttotal: 935ms\tremaining: 634ms\n",
      "596:\tlearn: 0.1696384\ttotal: 936ms\tremaining: 632ms\n",
      "597:\tlearn: 0.1695988\ttotal: 937ms\tremaining: 630ms\n",
      "598:\tlearn: 0.1693630\ttotal: 939ms\tremaining: 628ms\n",
      "599:\tlearn: 0.1692529\ttotal: 940ms\tremaining: 627ms\n"
     ]
    },
    {
     "name": "stdout",
     "output_type": "stream",
     "text": [
      "600:\tlearn: 0.1691730\ttotal: 942ms\tremaining: 625ms\n",
      "601:\tlearn: 0.1689899\ttotal: 943ms\tremaining: 624ms\n",
      "602:\tlearn: 0.1686613\ttotal: 945ms\tremaining: 622ms\n",
      "603:\tlearn: 0.1684002\ttotal: 946ms\tremaining: 620ms\n",
      "604:\tlearn: 0.1682152\ttotal: 947ms\tremaining: 618ms\n",
      "605:\tlearn: 0.1680343\ttotal: 948ms\tremaining: 617ms\n",
      "606:\tlearn: 0.1677642\ttotal: 950ms\tremaining: 615ms\n",
      "607:\tlearn: 0.1676470\ttotal: 951ms\tremaining: 613ms\n",
      "608:\tlearn: 0.1675305\ttotal: 952ms\tremaining: 612ms\n",
      "609:\tlearn: 0.1671817\ttotal: 954ms\tremaining: 610ms\n",
      "610:\tlearn: 0.1671398\ttotal: 955ms\tremaining: 608ms\n",
      "611:\tlearn: 0.1670068\ttotal: 956ms\tremaining: 606ms\n",
      "612:\tlearn: 0.1668815\ttotal: 958ms\tremaining: 605ms\n",
      "613:\tlearn: 0.1666197\ttotal: 959ms\tremaining: 603ms\n",
      "614:\tlearn: 0.1663885\ttotal: 960ms\tremaining: 601ms\n",
      "615:\tlearn: 0.1661393\ttotal: 961ms\tremaining: 599ms\n",
      "616:\tlearn: 0.1659556\ttotal: 963ms\tremaining: 598ms\n",
      "617:\tlearn: 0.1658758\ttotal: 964ms\tremaining: 596ms\n",
      "618:\tlearn: 0.1657383\ttotal: 965ms\tremaining: 594ms\n",
      "619:\tlearn: 0.1655088\ttotal: 967ms\tremaining: 592ms\n",
      "620:\tlearn: 0.1653468\ttotal: 968ms\tremaining: 591ms\n",
      "621:\tlearn: 0.1650355\ttotal: 969ms\tremaining: 589ms\n",
      "622:\tlearn: 0.1648361\ttotal: 971ms\tremaining: 588ms\n",
      "623:\tlearn: 0.1646566\ttotal: 973ms\tremaining: 586ms\n",
      "624:\tlearn: 0.1643818\ttotal: 974ms\tremaining: 584ms\n",
      "625:\tlearn: 0.1640929\ttotal: 976ms\tremaining: 583ms\n",
      "626:\tlearn: 0.1638657\ttotal: 977ms\tremaining: 581ms\n",
      "627:\tlearn: 0.1636531\ttotal: 978ms\tremaining: 580ms\n",
      "628:\tlearn: 0.1634055\ttotal: 980ms\tremaining: 578ms\n",
      "629:\tlearn: 0.1631022\ttotal: 981ms\tremaining: 576ms\n",
      "630:\tlearn: 0.1628131\ttotal: 983ms\tremaining: 575ms\n",
      "631:\tlearn: 0.1626773\ttotal: 984ms\tremaining: 573ms\n",
      "632:\tlearn: 0.1622505\ttotal: 985ms\tremaining: 571ms\n",
      "633:\tlearn: 0.1619959\ttotal: 987ms\tremaining: 570ms\n",
      "634:\tlearn: 0.1617266\ttotal: 988ms\tremaining: 568ms\n",
      "635:\tlearn: 0.1615918\ttotal: 989ms\tremaining: 566ms\n",
      "636:\tlearn: 0.1612971\ttotal: 991ms\tremaining: 565ms\n",
      "637:\tlearn: 0.1611821\ttotal: 992ms\tremaining: 563ms\n",
      "638:\tlearn: 0.1610867\ttotal: 993ms\tremaining: 561ms\n",
      "639:\tlearn: 0.1609778\ttotal: 995ms\tremaining: 560ms\n",
      "640:\tlearn: 0.1607839\ttotal: 996ms\tremaining: 558ms\n",
      "641:\tlearn: 0.1605762\ttotal: 998ms\tremaining: 556ms\n",
      "642:\tlearn: 0.1602761\ttotal: 999ms\tremaining: 555ms\n",
      "643:\tlearn: 0.1600994\ttotal: 1s\tremaining: 553ms\n",
      "644:\tlearn: 0.1598426\ttotal: 1s\tremaining: 551ms\n",
      "645:\tlearn: 0.1596718\ttotal: 1s\tremaining: 550ms\n",
      "646:\tlearn: 0.1595510\ttotal: 1s\tremaining: 548ms\n",
      "647:\tlearn: 0.1594146\ttotal: 1s\tremaining: 546ms\n",
      "648:\tlearn: 0.1592647\ttotal: 1.01s\tremaining: 545ms\n",
      "649:\tlearn: 0.1589701\ttotal: 1.01s\tremaining: 543ms\n",
      "650:\tlearn: 0.1587727\ttotal: 1.01s\tremaining: 541ms\n",
      "651:\tlearn: 0.1586095\ttotal: 1.01s\tremaining: 540ms\n",
      "652:\tlearn: 0.1583788\ttotal: 1.01s\tremaining: 538ms\n",
      "653:\tlearn: 0.1581368\ttotal: 1.01s\tremaining: 536ms\n",
      "654:\tlearn: 0.1580149\ttotal: 1.01s\tremaining: 535ms\n",
      "655:\tlearn: 0.1578273\ttotal: 1.02s\tremaining: 533ms\n",
      "656:\tlearn: 0.1576036\ttotal: 1.02s\tremaining: 532ms\n",
      "657:\tlearn: 0.1572969\ttotal: 1.02s\tremaining: 530ms\n",
      "658:\tlearn: 0.1571244\ttotal: 1.02s\tremaining: 528ms\n",
      "659:\tlearn: 0.1568132\ttotal: 1.02s\tremaining: 527ms\n",
      "660:\tlearn: 0.1566370\ttotal: 1.02s\tremaining: 525ms\n",
      "661:\tlearn: 0.1565168\ttotal: 1.02s\tremaining: 523ms\n",
      "662:\tlearn: 0.1563379\ttotal: 1.03s\tremaining: 522ms\n",
      "663:\tlearn: 0.1561052\ttotal: 1.03s\tremaining: 520ms\n",
      "664:\tlearn: 0.1558546\ttotal: 1.03s\tremaining: 519ms\n",
      "665:\tlearn: 0.1556346\ttotal: 1.03s\tremaining: 517ms\n",
      "666:\tlearn: 0.1554375\ttotal: 1.03s\tremaining: 515ms\n",
      "667:\tlearn: 0.1552899\ttotal: 1.03s\tremaining: 514ms\n",
      "668:\tlearn: 0.1551418\ttotal: 1.03s\tremaining: 512ms\n",
      "669:\tlearn: 0.1550470\ttotal: 1.04s\tremaining: 510ms\n",
      "670:\tlearn: 0.1547955\ttotal: 1.04s\tremaining: 509ms\n",
      "671:\tlearn: 0.1546612\ttotal: 1.04s\tremaining: 507ms\n",
      "672:\tlearn: 0.1544213\ttotal: 1.04s\tremaining: 505ms\n",
      "673:\tlearn: 0.1543158\ttotal: 1.04s\tremaining: 504ms\n",
      "674:\tlearn: 0.1541931\ttotal: 1.04s\tremaining: 502ms\n",
      "675:\tlearn: 0.1540921\ttotal: 1.04s\tremaining: 500ms\n",
      "676:\tlearn: 0.1538999\ttotal: 1.04s\tremaining: 499ms\n",
      "677:\tlearn: 0.1536703\ttotal: 1.05s\tremaining: 497ms\n",
      "678:\tlearn: 0.1535383\ttotal: 1.05s\tremaining: 495ms\n",
      "679:\tlearn: 0.1533291\ttotal: 1.05s\tremaining: 494ms\n",
      "680:\tlearn: 0.1531806\ttotal: 1.05s\tremaining: 492ms\n",
      "681:\tlearn: 0.1530494\ttotal: 1.05s\tremaining: 491ms\n",
      "682:\tlearn: 0.1528040\ttotal: 1.05s\tremaining: 489ms\n",
      "683:\tlearn: 0.1526050\ttotal: 1.05s\tremaining: 487ms\n",
      "684:\tlearn: 0.1523826\ttotal: 1.05s\tremaining: 486ms\n",
      "685:\tlearn: 0.1520456\ttotal: 1.06s\tremaining: 484ms\n",
      "686:\tlearn: 0.1516773\ttotal: 1.06s\tremaining: 482ms\n",
      "687:\tlearn: 0.1515184\ttotal: 1.06s\tremaining: 481ms\n",
      "688:\tlearn: 0.1512627\ttotal: 1.06s\tremaining: 479ms\n",
      "689:\tlearn: 0.1510970\ttotal: 1.06s\tremaining: 477ms\n",
      "690:\tlearn: 0.1509995\ttotal: 1.06s\tremaining: 476ms\n",
      "691:\tlearn: 0.1507670\ttotal: 1.06s\tremaining: 474ms\n",
      "692:\tlearn: 0.1506808\ttotal: 1.07s\tremaining: 472ms\n",
      "693:\tlearn: 0.1504595\ttotal: 1.07s\tremaining: 471ms\n",
      "694:\tlearn: 0.1502941\ttotal: 1.07s\tremaining: 469ms\n",
      "695:\tlearn: 0.1501264\ttotal: 1.07s\tremaining: 468ms\n",
      "696:\tlearn: 0.1498762\ttotal: 1.07s\tremaining: 466ms\n",
      "697:\tlearn: 0.1496898\ttotal: 1.07s\tremaining: 464ms\n",
      "698:\tlearn: 0.1494803\ttotal: 1.07s\tremaining: 463ms\n",
      "699:\tlearn: 0.1494708\ttotal: 1.07s\tremaining: 461ms\n",
      "700:\tlearn: 0.1493960\ttotal: 1.08s\tremaining: 459ms\n",
      "701:\tlearn: 0.1492055\ttotal: 1.08s\tremaining: 458ms\n",
      "702:\tlearn: 0.1490233\ttotal: 1.08s\tremaining: 456ms\n",
      "703:\tlearn: 0.1487576\ttotal: 1.08s\tremaining: 454ms\n",
      "704:\tlearn: 0.1486226\ttotal: 1.08s\tremaining: 453ms\n",
      "705:\tlearn: 0.1484913\ttotal: 1.08s\tremaining: 451ms\n",
      "706:\tlearn: 0.1483920\ttotal: 1.08s\tremaining: 449ms\n",
      "707:\tlearn: 0.1481992\ttotal: 1.08s\tremaining: 448ms\n",
      "708:\tlearn: 0.1479744\ttotal: 1.09s\tremaining: 446ms\n",
      "709:\tlearn: 0.1477331\ttotal: 1.09s\tremaining: 445ms\n",
      "710:\tlearn: 0.1474922\ttotal: 1.09s\tremaining: 443ms\n",
      "711:\tlearn: 0.1472932\ttotal: 1.09s\tremaining: 441ms\n",
      "712:\tlearn: 0.1470963\ttotal: 1.09s\tremaining: 440ms\n",
      "713:\tlearn: 0.1470293\ttotal: 1.09s\tremaining: 438ms\n",
      "714:\tlearn: 0.1468843\ttotal: 1.09s\tremaining: 437ms\n",
      "715:\tlearn: 0.1467890\ttotal: 1.1s\tremaining: 435ms\n",
      "716:\tlearn: 0.1465120\ttotal: 1.1s\tremaining: 433ms\n",
      "717:\tlearn: 0.1462842\ttotal: 1.1s\tremaining: 432ms\n",
      "718:\tlearn: 0.1460787\ttotal: 1.1s\tremaining: 430ms\n",
      "719:\tlearn: 0.1457877\ttotal: 1.1s\tremaining: 429ms\n",
      "720:\tlearn: 0.1455887\ttotal: 1.1s\tremaining: 427ms\n",
      "721:\tlearn: 0.1454694\ttotal: 1.1s\tremaining: 425ms\n",
      "722:\tlearn: 0.1453134\ttotal: 1.1s\tremaining: 424ms\n",
      "723:\tlearn: 0.1451567\ttotal: 1.11s\tremaining: 422ms\n",
      "724:\tlearn: 0.1450087\ttotal: 1.11s\tremaining: 420ms\n",
      "725:\tlearn: 0.1448347\ttotal: 1.11s\tremaining: 419ms\n",
      "726:\tlearn: 0.1446626\ttotal: 1.11s\tremaining: 417ms\n",
      "727:\tlearn: 0.1445337\ttotal: 1.11s\tremaining: 416ms\n",
      "728:\tlearn: 0.1443677\ttotal: 1.11s\tremaining: 414ms\n",
      "729:\tlearn: 0.1441630\ttotal: 1.11s\tremaining: 412ms\n",
      "730:\tlearn: 0.1440778\ttotal: 1.12s\tremaining: 411ms\n",
      "731:\tlearn: 0.1439680\ttotal: 1.12s\tremaining: 409ms\n",
      "732:\tlearn: 0.1437055\ttotal: 1.12s\tremaining: 408ms\n",
      "733:\tlearn: 0.1434990\ttotal: 1.12s\tremaining: 406ms\n",
      "734:\tlearn: 0.1433313\ttotal: 1.12s\tremaining: 404ms\n",
      "735:\tlearn: 0.1430873\ttotal: 1.12s\tremaining: 403ms\n",
      "736:\tlearn: 0.1428855\ttotal: 1.12s\tremaining: 401ms\n",
      "737:\tlearn: 0.1427667\ttotal: 1.13s\tremaining: 400ms\n",
      "738:\tlearn: 0.1426224\ttotal: 1.13s\tremaining: 398ms\n",
      "739:\tlearn: 0.1424222\ttotal: 1.13s\tremaining: 396ms\n",
      "740:\tlearn: 0.1422129\ttotal: 1.13s\tremaining: 395ms\n",
      "741:\tlearn: 0.1419563\ttotal: 1.13s\tremaining: 393ms\n",
      "742:\tlearn: 0.1417714\ttotal: 1.13s\tremaining: 392ms\n",
      "743:\tlearn: 0.1416088\ttotal: 1.13s\tremaining: 390ms\n",
      "744:\tlearn: 0.1414124\ttotal: 1.13s\tremaining: 388ms\n",
      "745:\tlearn: 0.1413329\ttotal: 1.14s\tremaining: 387ms\n",
      "746:\tlearn: 0.1411088\ttotal: 1.14s\tremaining: 385ms\n",
      "747:\tlearn: 0.1409322\ttotal: 1.14s\tremaining: 383ms\n",
      "748:\tlearn: 0.1408003\ttotal: 1.14s\tremaining: 382ms\n",
      "749:\tlearn: 0.1405542\ttotal: 1.14s\tremaining: 380ms\n",
      "750:\tlearn: 0.1403747\ttotal: 1.14s\tremaining: 379ms\n",
      "751:\tlearn: 0.1402011\ttotal: 1.14s\tremaining: 377ms\n",
      "752:\tlearn: 0.1399259\ttotal: 1.14s\tremaining: 375ms\n",
      "753:\tlearn: 0.1397720\ttotal: 1.15s\tremaining: 374ms\n",
      "754:\tlearn: 0.1395978\ttotal: 1.15s\tremaining: 372ms\n",
      "755:\tlearn: 0.1393155\ttotal: 1.15s\tremaining: 370ms\n",
      "756:\tlearn: 0.1392645\ttotal: 1.15s\tremaining: 369ms\n",
      "757:\tlearn: 0.1391511\ttotal: 1.15s\tremaining: 367ms\n",
      "758:\tlearn: 0.1390691\ttotal: 1.15s\tremaining: 366ms\n",
      "759:\tlearn: 0.1389130\ttotal: 1.15s\tremaining: 364ms\n",
      "760:\tlearn: 0.1387978\ttotal: 1.15s\tremaining: 362ms\n",
      "761:\tlearn: 0.1387133\ttotal: 1.16s\tremaining: 361ms\n",
      "762:\tlearn: 0.1385375\ttotal: 1.16s\tremaining: 359ms\n",
      "763:\tlearn: 0.1382641\ttotal: 1.16s\tremaining: 358ms\n",
      "764:\tlearn: 0.1381327\ttotal: 1.16s\tremaining: 356ms\n",
      "765:\tlearn: 0.1379782\ttotal: 1.16s\tremaining: 354ms\n",
      "766:\tlearn: 0.1378533\ttotal: 1.16s\tremaining: 353ms\n",
      "767:\tlearn: 0.1377874\ttotal: 1.16s\tremaining: 351ms\n",
      "768:\tlearn: 0.1376495\ttotal: 1.16s\tremaining: 350ms\n",
      "769:\tlearn: 0.1375240\ttotal: 1.17s\tremaining: 348ms\n",
      "770:\tlearn: 0.1373187\ttotal: 1.17s\tremaining: 346ms\n",
      "771:\tlearn: 0.1371267\ttotal: 1.17s\tremaining: 345ms\n",
      "772:\tlearn: 0.1369451\ttotal: 1.17s\tremaining: 343ms\n",
      "773:\tlearn: 0.1366491\ttotal: 1.17s\tremaining: 342ms\n",
      "774:\tlearn: 0.1364800\ttotal: 1.17s\tremaining: 340ms\n",
      "775:\tlearn: 0.1363270\ttotal: 1.17s\tremaining: 339ms\n",
      "776:\tlearn: 0.1362414\ttotal: 1.17s\tremaining: 337ms\n",
      "777:\tlearn: 0.1362086\ttotal: 1.17s\tremaining: 335ms\n",
      "778:\tlearn: 0.1359923\ttotal: 1.18s\tremaining: 334ms\n",
      "779:\tlearn: 0.1357329\ttotal: 1.18s\tremaining: 332ms\n",
      "780:\tlearn: 0.1356131\ttotal: 1.18s\tremaining: 330ms\n",
      "781:\tlearn: 0.1355093\ttotal: 1.18s\tremaining: 329ms\n",
      "782:\tlearn: 0.1354212\ttotal: 1.18s\tremaining: 327ms\n",
      "783:\tlearn: 0.1352269\ttotal: 1.18s\tremaining: 326ms\n",
      "784:\tlearn: 0.1350864\ttotal: 1.18s\tremaining: 324ms\n",
      "785:\tlearn: 0.1349791\ttotal: 1.18s\tremaining: 323ms\n",
      "786:\tlearn: 0.1349530\ttotal: 1.19s\tremaining: 321ms\n",
      "787:\tlearn: 0.1346817\ttotal: 1.19s\tremaining: 319ms\n",
      "788:\tlearn: 0.1345395\ttotal: 1.19s\tremaining: 318ms\n",
      "789:\tlearn: 0.1344147\ttotal: 1.19s\tremaining: 316ms\n",
      "790:\tlearn: 0.1342791\ttotal: 1.19s\tremaining: 315ms\n",
      "791:\tlearn: 0.1341896\ttotal: 1.19s\tremaining: 313ms\n",
      "792:\tlearn: 0.1340659\ttotal: 1.19s\tremaining: 311ms\n",
      "793:\tlearn: 0.1339301\ttotal: 1.19s\tremaining: 310ms\n",
      "794:\tlearn: 0.1337165\ttotal: 1.2s\tremaining: 308ms\n",
      "795:\tlearn: 0.1336322\ttotal: 1.2s\tremaining: 307ms\n",
      "796:\tlearn: 0.1334556\ttotal: 1.2s\tremaining: 305ms\n",
      "797:\tlearn: 0.1332550\ttotal: 1.2s\tremaining: 304ms\n",
      "798:\tlearn: 0.1330375\ttotal: 1.2s\tremaining: 302ms\n",
      "799:\tlearn: 0.1329078\ttotal: 1.2s\tremaining: 301ms\n",
      "800:\tlearn: 0.1327460\ttotal: 1.2s\tremaining: 299ms\n",
      "801:\tlearn: 0.1326160\ttotal: 1.2s\tremaining: 297ms\n",
      "802:\tlearn: 0.1324963\ttotal: 1.21s\tremaining: 296ms\n",
      "803:\tlearn: 0.1322169\ttotal: 1.21s\tremaining: 294ms\n",
      "804:\tlearn: 0.1320703\ttotal: 1.21s\tremaining: 293ms\n",
      "805:\tlearn: 0.1319126\ttotal: 1.21s\tremaining: 291ms\n",
      "806:\tlearn: 0.1316860\ttotal: 1.21s\tremaining: 290ms\n",
      "807:\tlearn: 0.1315914\ttotal: 1.21s\tremaining: 288ms\n",
      "808:\tlearn: 0.1314595\ttotal: 1.21s\tremaining: 287ms\n",
      "809:\tlearn: 0.1313921\ttotal: 1.22s\tremaining: 285ms\n",
      "810:\tlearn: 0.1312429\ttotal: 1.22s\tremaining: 284ms\n",
      "811:\tlearn: 0.1310889\ttotal: 1.22s\tremaining: 282ms\n",
      "812:\tlearn: 0.1308891\ttotal: 1.22s\tremaining: 281ms\n",
      "813:\tlearn: 0.1308240\ttotal: 1.22s\tremaining: 279ms\n",
      "814:\tlearn: 0.1306140\ttotal: 1.22s\tremaining: 278ms\n",
      "815:\tlearn: 0.1304747\ttotal: 1.22s\tremaining: 276ms\n",
      "816:\tlearn: 0.1303288\ttotal: 1.23s\tremaining: 274ms\n",
      "817:\tlearn: 0.1302676\ttotal: 1.23s\tremaining: 273ms\n",
      "818:\tlearn: 0.1301082\ttotal: 1.23s\tremaining: 271ms\n",
      "819:\tlearn: 0.1299501\ttotal: 1.23s\tremaining: 270ms\n",
      "820:\tlearn: 0.1297018\ttotal: 1.23s\tremaining: 268ms\n",
      "821:\tlearn: 0.1295799\ttotal: 1.23s\tremaining: 267ms\n",
      "822:\tlearn: 0.1294786\ttotal: 1.23s\tremaining: 265ms\n",
      "823:\tlearn: 0.1291687\ttotal: 1.23s\tremaining: 264ms\n",
      "824:\tlearn: 0.1289933\ttotal: 1.24s\tremaining: 262ms\n",
      "825:\tlearn: 0.1288743\ttotal: 1.24s\tremaining: 261ms\n",
      "826:\tlearn: 0.1287744\ttotal: 1.24s\tremaining: 259ms\n",
      "827:\tlearn: 0.1287104\ttotal: 1.24s\tremaining: 257ms\n",
      "828:\tlearn: 0.1285398\ttotal: 1.24s\tremaining: 256ms\n",
      "829:\tlearn: 0.1283956\ttotal: 1.24s\tremaining: 254ms\n",
      "830:\tlearn: 0.1283173\ttotal: 1.24s\tremaining: 253ms\n",
      "831:\tlearn: 0.1281398\ttotal: 1.24s\tremaining: 251ms\n",
      "832:\tlearn: 0.1279183\ttotal: 1.25s\tremaining: 250ms\n",
      "833:\tlearn: 0.1277190\ttotal: 1.25s\tremaining: 248ms\n",
      "834:\tlearn: 0.1275274\ttotal: 1.25s\tremaining: 247ms\n",
      "835:\tlearn: 0.1274047\ttotal: 1.25s\tremaining: 245ms\n",
      "836:\tlearn: 0.1273229\ttotal: 1.25s\tremaining: 244ms\n",
      "837:\tlearn: 0.1270773\ttotal: 1.25s\tremaining: 242ms\n",
      "838:\tlearn: 0.1269880\ttotal: 1.25s\tremaining: 241ms\n",
      "839:\tlearn: 0.1268490\ttotal: 1.25s\tremaining: 239ms\n",
      "840:\tlearn: 0.1267795\ttotal: 1.26s\tremaining: 238ms\n",
      "841:\tlearn: 0.1266015\ttotal: 1.26s\tremaining: 236ms\n"
     ]
    },
    {
     "name": "stdout",
     "output_type": "stream",
     "text": [
      "842:\tlearn: 0.1263748\ttotal: 1.26s\tremaining: 235ms\n",
      "843:\tlearn: 0.1262461\ttotal: 1.26s\tremaining: 233ms\n",
      "844:\tlearn: 0.1260461\ttotal: 1.26s\tremaining: 231ms\n",
      "845:\tlearn: 0.1258716\ttotal: 1.26s\tremaining: 230ms\n",
      "846:\tlearn: 0.1257180\ttotal: 1.26s\tremaining: 228ms\n",
      "847:\tlearn: 0.1254682\ttotal: 1.26s\tremaining: 227ms\n",
      "848:\tlearn: 0.1253213\ttotal: 1.27s\tremaining: 225ms\n",
      "849:\tlearn: 0.1251052\ttotal: 1.27s\tremaining: 224ms\n",
      "850:\tlearn: 0.1249508\ttotal: 1.27s\tremaining: 223ms\n",
      "851:\tlearn: 0.1247602\ttotal: 1.27s\tremaining: 221ms\n",
      "852:\tlearn: 0.1246495\ttotal: 1.27s\tremaining: 220ms\n",
      "853:\tlearn: 0.1245380\ttotal: 1.27s\tremaining: 218ms\n",
      "854:\tlearn: 0.1242942\ttotal: 1.28s\tremaining: 217ms\n",
      "855:\tlearn: 0.1242096\ttotal: 1.28s\tremaining: 215ms\n",
      "856:\tlearn: 0.1240640\ttotal: 1.28s\tremaining: 213ms\n",
      "857:\tlearn: 0.1238950\ttotal: 1.28s\tremaining: 212ms\n",
      "858:\tlearn: 0.1237673\ttotal: 1.28s\tremaining: 210ms\n",
      "859:\tlearn: 0.1236049\ttotal: 1.28s\tremaining: 209ms\n",
      "860:\tlearn: 0.1234278\ttotal: 1.28s\tremaining: 207ms\n",
      "861:\tlearn: 0.1231940\ttotal: 1.28s\tremaining: 206ms\n",
      "862:\tlearn: 0.1229599\ttotal: 1.29s\tremaining: 204ms\n",
      "863:\tlearn: 0.1227599\ttotal: 1.29s\tremaining: 203ms\n",
      "864:\tlearn: 0.1226383\ttotal: 1.29s\tremaining: 201ms\n",
      "865:\tlearn: 0.1223825\ttotal: 1.29s\tremaining: 200ms\n",
      "866:\tlearn: 0.1222308\ttotal: 1.29s\tremaining: 198ms\n",
      "867:\tlearn: 0.1220650\ttotal: 1.29s\tremaining: 197ms\n",
      "868:\tlearn: 0.1219437\ttotal: 1.29s\tremaining: 195ms\n",
      "869:\tlearn: 0.1217743\ttotal: 1.3s\tremaining: 194ms\n",
      "870:\tlearn: 0.1215581\ttotal: 1.3s\tremaining: 192ms\n",
      "871:\tlearn: 0.1214852\ttotal: 1.3s\tremaining: 191ms\n",
      "872:\tlearn: 0.1213211\ttotal: 1.3s\tremaining: 189ms\n",
      "873:\tlearn: 0.1211584\ttotal: 1.3s\tremaining: 188ms\n",
      "874:\tlearn: 0.1210047\ttotal: 1.3s\tremaining: 186ms\n",
      "875:\tlearn: 0.1209480\ttotal: 1.3s\tremaining: 185ms\n",
      "876:\tlearn: 0.1208898\ttotal: 1.31s\tremaining: 183ms\n",
      "877:\tlearn: 0.1207458\ttotal: 1.31s\tremaining: 182ms\n",
      "878:\tlearn: 0.1205595\ttotal: 1.31s\tremaining: 180ms\n",
      "879:\tlearn: 0.1204994\ttotal: 1.31s\tremaining: 179ms\n",
      "880:\tlearn: 0.1204301\ttotal: 1.31s\tremaining: 177ms\n",
      "881:\tlearn: 0.1203293\ttotal: 1.31s\tremaining: 176ms\n",
      "882:\tlearn: 0.1201804\ttotal: 1.31s\tremaining: 174ms\n",
      "883:\tlearn: 0.1200810\ttotal: 1.31s\tremaining: 173ms\n",
      "884:\tlearn: 0.1199251\ttotal: 1.32s\tremaining: 171ms\n",
      "885:\tlearn: 0.1197290\ttotal: 1.32s\tremaining: 170ms\n",
      "886:\tlearn: 0.1195540\ttotal: 1.32s\tremaining: 168ms\n",
      "887:\tlearn: 0.1193345\ttotal: 1.32s\tremaining: 167ms\n",
      "888:\tlearn: 0.1192222\ttotal: 1.32s\tremaining: 165ms\n",
      "889:\tlearn: 0.1190736\ttotal: 1.32s\tremaining: 164ms\n",
      "890:\tlearn: 0.1189057\ttotal: 1.32s\tremaining: 162ms\n",
      "891:\tlearn: 0.1187541\ttotal: 1.33s\tremaining: 161ms\n",
      "892:\tlearn: 0.1185442\ttotal: 1.33s\tremaining: 159ms\n",
      "893:\tlearn: 0.1183261\ttotal: 1.33s\tremaining: 158ms\n",
      "894:\tlearn: 0.1181665\ttotal: 1.33s\tremaining: 156ms\n",
      "895:\tlearn: 0.1179984\ttotal: 1.33s\tremaining: 155ms\n",
      "896:\tlearn: 0.1178642\ttotal: 1.33s\tremaining: 153ms\n",
      "897:\tlearn: 0.1176469\ttotal: 1.33s\tremaining: 152ms\n",
      "898:\tlearn: 0.1175570\ttotal: 1.33s\tremaining: 150ms\n",
      "899:\tlearn: 0.1173799\ttotal: 1.34s\tremaining: 149ms\n",
      "900:\tlearn: 0.1172541\ttotal: 1.34s\tremaining: 147ms\n",
      "901:\tlearn: 0.1171054\ttotal: 1.34s\tremaining: 146ms\n",
      "902:\tlearn: 0.1169362\ttotal: 1.34s\tremaining: 144ms\n",
      "903:\tlearn: 0.1169104\ttotal: 1.34s\tremaining: 142ms\n",
      "904:\tlearn: 0.1167620\ttotal: 1.34s\tremaining: 141ms\n",
      "905:\tlearn: 0.1166340\ttotal: 1.34s\tremaining: 139ms\n",
      "906:\tlearn: 0.1164922\ttotal: 1.34s\tremaining: 138ms\n",
      "907:\tlearn: 0.1163724\ttotal: 1.35s\tremaining: 136ms\n",
      "908:\tlearn: 0.1161237\ttotal: 1.35s\tremaining: 135ms\n",
      "909:\tlearn: 0.1159513\ttotal: 1.35s\tremaining: 133ms\n",
      "910:\tlearn: 0.1158308\ttotal: 1.35s\tremaining: 132ms\n",
      "911:\tlearn: 0.1157402\ttotal: 1.35s\tremaining: 130ms\n",
      "912:\tlearn: 0.1155383\ttotal: 1.35s\tremaining: 129ms\n",
      "913:\tlearn: 0.1153368\ttotal: 1.35s\tremaining: 127ms\n",
      "914:\tlearn: 0.1151231\ttotal: 1.35s\tremaining: 126ms\n",
      "915:\tlearn: 0.1149028\ttotal: 1.36s\tremaining: 124ms\n",
      "916:\tlearn: 0.1147922\ttotal: 1.36s\tremaining: 123ms\n",
      "917:\tlearn: 0.1147332\ttotal: 1.36s\tremaining: 121ms\n",
      "918:\tlearn: 0.1145390\ttotal: 1.36s\tremaining: 120ms\n",
      "919:\tlearn: 0.1144419\ttotal: 1.36s\tremaining: 118ms\n",
      "920:\tlearn: 0.1143226\ttotal: 1.36s\tremaining: 117ms\n",
      "921:\tlearn: 0.1141744\ttotal: 1.36s\tremaining: 115ms\n",
      "922:\tlearn: 0.1140943\ttotal: 1.36s\tremaining: 114ms\n",
      "923:\tlearn: 0.1139256\ttotal: 1.37s\tremaining: 112ms\n",
      "924:\tlearn: 0.1138057\ttotal: 1.37s\tremaining: 111ms\n",
      "925:\tlearn: 0.1136555\ttotal: 1.37s\tremaining: 109ms\n",
      "926:\tlearn: 0.1135080\ttotal: 1.37s\tremaining: 108ms\n",
      "927:\tlearn: 0.1133170\ttotal: 1.37s\tremaining: 106ms\n",
      "928:\tlearn: 0.1131790\ttotal: 1.37s\tremaining: 105ms\n",
      "929:\tlearn: 0.1130606\ttotal: 1.37s\tremaining: 103ms\n",
      "930:\tlearn: 0.1129714\ttotal: 1.37s\tremaining: 102ms\n",
      "931:\tlearn: 0.1127850\ttotal: 1.38s\tremaining: 100ms\n",
      "932:\tlearn: 0.1125986\ttotal: 1.38s\tremaining: 98.9ms\n",
      "933:\tlearn: 0.1124275\ttotal: 1.38s\tremaining: 97.4ms\n",
      "934:\tlearn: 0.1123912\ttotal: 1.38s\tremaining: 95.9ms\n",
      "935:\tlearn: 0.1121810\ttotal: 1.38s\tremaining: 94.4ms\n",
      "936:\tlearn: 0.1121126\ttotal: 1.38s\tremaining: 92.9ms\n",
      "937:\tlearn: 0.1120159\ttotal: 1.38s\tremaining: 91.4ms\n",
      "938:\tlearn: 0.1119259\ttotal: 1.38s\tremaining: 89.9ms\n",
      "939:\tlearn: 0.1117579\ttotal: 1.39s\tremaining: 88.4ms\n",
      "940:\tlearn: 0.1115587\ttotal: 1.39s\tremaining: 86.9ms\n",
      "941:\tlearn: 0.1114770\ttotal: 1.39s\tremaining: 85.5ms\n",
      "942:\tlearn: 0.1113020\ttotal: 1.39s\tremaining: 84ms\n",
      "943:\tlearn: 0.1111500\ttotal: 1.39s\tremaining: 82.5ms\n",
      "944:\tlearn: 0.1110252\ttotal: 1.39s\tremaining: 81ms\n",
      "945:\tlearn: 0.1109290\ttotal: 1.39s\tremaining: 79.5ms\n",
      "946:\tlearn: 0.1107359\ttotal: 1.39s\tremaining: 78ms\n",
      "947:\tlearn: 0.1105984\ttotal: 1.4s\tremaining: 76.5ms\n",
      "948:\tlearn: 0.1104845\ttotal: 1.4s\tremaining: 75ms\n",
      "949:\tlearn: 0.1104052\ttotal: 1.4s\tremaining: 73.6ms\n",
      "950:\tlearn: 0.1102559\ttotal: 1.4s\tremaining: 72.1ms\n",
      "951:\tlearn: 0.1100873\ttotal: 1.4s\tremaining: 70.6ms\n",
      "952:\tlearn: 0.1099286\ttotal: 1.4s\tremaining: 69.1ms\n",
      "953:\tlearn: 0.1098215\ttotal: 1.4s\tremaining: 67.6ms\n",
      "954:\tlearn: 0.1097239\ttotal: 1.4s\tremaining: 66.2ms\n",
      "955:\tlearn: 0.1096042\ttotal: 1.41s\tremaining: 64.7ms\n",
      "956:\tlearn: 0.1095729\ttotal: 1.41s\tremaining: 63.2ms\n",
      "957:\tlearn: 0.1094597\ttotal: 1.41s\tremaining: 61.7ms\n",
      "958:\tlearn: 0.1093292\ttotal: 1.41s\tremaining: 60.2ms\n",
      "959:\tlearn: 0.1092463\ttotal: 1.41s\tremaining: 58.8ms\n",
      "960:\tlearn: 0.1090862\ttotal: 1.41s\tremaining: 57.3ms\n",
      "961:\tlearn: 0.1089447\ttotal: 1.41s\tremaining: 55.8ms\n",
      "962:\tlearn: 0.1088204\ttotal: 1.41s\tremaining: 54.3ms\n",
      "963:\tlearn: 0.1087206\ttotal: 1.42s\tremaining: 52.9ms\n",
      "964:\tlearn: 0.1085813\ttotal: 1.42s\tremaining: 51.4ms\n",
      "965:\tlearn: 0.1083611\ttotal: 1.42s\tremaining: 49.9ms\n",
      "966:\tlearn: 0.1081917\ttotal: 1.42s\tremaining: 48.5ms\n",
      "967:\tlearn: 0.1081236\ttotal: 1.42s\tremaining: 47ms\n",
      "968:\tlearn: 0.1080439\ttotal: 1.42s\tremaining: 45.5ms\n",
      "969:\tlearn: 0.1079747\ttotal: 1.42s\tremaining: 44ms\n",
      "970:\tlearn: 0.1078484\ttotal: 1.42s\tremaining: 42.6ms\n",
      "971:\tlearn: 0.1077310\ttotal: 1.43s\tremaining: 41.1ms\n",
      "972:\tlearn: 0.1075846\ttotal: 1.43s\tremaining: 39.6ms\n",
      "973:\tlearn: 0.1073711\ttotal: 1.43s\tremaining: 38.1ms\n",
      "974:\tlearn: 0.1071966\ttotal: 1.43s\tremaining: 36.7ms\n",
      "975:\tlearn: 0.1070002\ttotal: 1.43s\tremaining: 35.2ms\n",
      "976:\tlearn: 0.1067958\ttotal: 1.43s\tremaining: 33.7ms\n",
      "977:\tlearn: 0.1067609\ttotal: 1.43s\tremaining: 32.3ms\n",
      "978:\tlearn: 0.1065958\ttotal: 1.43s\tremaining: 30.8ms\n",
      "979:\tlearn: 0.1065210\ttotal: 1.44s\tremaining: 29.3ms\n",
      "980:\tlearn: 0.1063216\ttotal: 1.44s\tremaining: 27.8ms\n",
      "981:\tlearn: 0.1061674\ttotal: 1.44s\tremaining: 26.4ms\n",
      "982:\tlearn: 0.1061302\ttotal: 1.44s\tremaining: 24.9ms\n",
      "983:\tlearn: 0.1059789\ttotal: 1.44s\tremaining: 23.4ms\n",
      "984:\tlearn: 0.1058928\ttotal: 1.44s\tremaining: 22ms\n",
      "985:\tlearn: 0.1057357\ttotal: 1.44s\tremaining: 20.5ms\n",
      "986:\tlearn: 0.1055889\ttotal: 1.45s\tremaining: 19.1ms\n",
      "987:\tlearn: 0.1054212\ttotal: 1.45s\tremaining: 17.6ms\n",
      "988:\tlearn: 0.1051880\ttotal: 1.45s\tremaining: 16.1ms\n",
      "989:\tlearn: 0.1050839\ttotal: 1.45s\tremaining: 14.7ms\n",
      "990:\tlearn: 0.1049724\ttotal: 1.45s\tremaining: 13.2ms\n",
      "991:\tlearn: 0.1049319\ttotal: 1.45s\tremaining: 11.7ms\n",
      "992:\tlearn: 0.1047727\ttotal: 1.46s\tremaining: 10.3ms\n",
      "993:\tlearn: 0.1046847\ttotal: 1.46s\tremaining: 8.8ms\n",
      "994:\tlearn: 0.1045725\ttotal: 1.46s\tremaining: 7.33ms\n",
      "995:\tlearn: 0.1045055\ttotal: 1.46s\tremaining: 5.86ms\n",
      "996:\tlearn: 0.1043058\ttotal: 1.46s\tremaining: 4.4ms\n",
      "997:\tlearn: 0.1041941\ttotal: 1.46s\tremaining: 2.93ms\n",
      "998:\tlearn: 0.1040775\ttotal: 1.46s\tremaining: 1.47ms\n",
      "999:\tlearn: 0.1040427\ttotal: 1.47s\tremaining: 0us\n"
     ]
    },
    {
     "data": {
      "text/plain": [
       "{'LinearSVC': 0.7049180327868853,\n",
       " 'KNN': 0.6885245901639344,\n",
       " 'Random Forest': 0.8360655737704918,\n",
       " 'Logistic Regression': 0.8852459016393442,\n",
       " 'CatBoost': 0.8360655737704918}"
      ]
     },
     "execution_count": 29,
     "metadata": {},
     "output_type": "execute_result"
    }
   ],
   "source": [
    "model_scores = fit_and_score(models, x_train, x_test, y_train, y_test)\n",
    "model_scores"
   ]
  },
  {
   "cell_type": "markdown",
   "metadata": {},
   "source": [
    "### Model Comparison"
   ]
  },
  {
   "cell_type": "code",
   "execution_count": 30,
   "metadata": {},
   "outputs": [
    {
     "data": {
      "image/png": "[encoded data removed]",
      "text/plain": [
       "<Figure size 432x288 with 1 Axes>"
      ]
     },
     "metadata": {
      "needs_background": "light"
     },
     "output_type": "display_data"
    }
   ],
   "source": [
    "model_compare = pd.DataFrame(model_scores, index=['accuracy'])\n",
    "model_compare.T.plot.bar();"
   ]
  },
  {
   "cell_type": "markdown",
   "metadata": {},
   "source": [
    "It is now clear numerically and visually that the base Logistic Regression model is the most accurate model tested"
   ]
  },
  {
   "cell_type": "markdown",
   "metadata": {},
   "source": [
    "## Hyperparameter Tuning and Cross-Validation\n",
    "As this data set is relatively small, cross-validation will be used as opposed to creating a validation set."
   ]
  },
  {
   "cell_type": "markdown",
   "metadata": {},
   "source": [
    "### Manual Tuning\n",
    "The model below was manually tuned."
   ]
  },
  {
   "cell_type": "code",
   "execution_count": 31,
   "metadata": {},
   "outputs": [
    {
     "name": "stdout",
     "output_type": "stream",
     "text": [
      "0:\tlearn: 0.6269279\ttotal: 530us\tremaining: 9.02ms\n",
      "1:\tlearn: 0.5703643\ttotal: 924us\tremaining: 7.4ms\n",
      "2:\tlearn: 0.5176107\ttotal: 1.34ms\tremaining: 6.69ms\n",
      "3:\tlearn: 0.4948025\ttotal: 1.71ms\tremaining: 5.99ms\n",
      "4:\tlearn: 0.4654465\ttotal: 2.1ms\tremaining: 5.46ms\n",
      "5:\tlearn: 0.4414038\ttotal: 2.49ms\tremaining: 4.98ms\n",
      "6:\tlearn: 0.4284521\ttotal: 2.86ms\tremaining: 4.5ms\n",
      "7:\tlearn: 0.4188544\ttotal: 3.25ms\tremaining: 4.06ms\n",
      "8:\tlearn: 0.4072071\ttotal: 3.63ms\tremaining: 3.63ms\n",
      "9:\tlearn: 0.3929328\ttotal: 4.06ms\tremaining: 3.25ms\n",
      "10:\tlearn: 0.3845510\ttotal: 4.43ms\tremaining: 2.82ms\n",
      "11:\tlearn: 0.3801280\ttotal: 4.8ms\tremaining: 2.4ms\n",
      "12:\tlearn: 0.3735994\ttotal: 5.18ms\tremaining: 1.99ms\n",
      "13:\tlearn: 0.3658657\ttotal: 5.57ms\tremaining: 1.59ms\n",
      "14:\tlearn: 0.3600211\ttotal: 5.96ms\tremaining: 1.19ms\n",
      "15:\tlearn: 0.3556379\ttotal: 6.44ms\tremaining: 804us\n",
      "16:\tlearn: 0.3549254\ttotal: 7.12ms\tremaining: 418us\n",
      "17:\tlearn: 0.3510596\ttotal: 7.5ms\tremaining: 0us\n"
     ]
    },
    {
     "data": {
      "text/plain": [
       "0.8852459016393442"
      ]
     },
     "execution_count": 31,
     "metadata": {},
     "output_type": "execute_result"
    }
   ],
   "source": [
    "np.random.seed(42)\n",
    "# Score model after being refitted with best parameters\n",
    "cb = CatBoostClassifier(depth=1, learning_rate=0.4, iterations=18)\n",
    "cb.fit(x_train, y_train)\n",
    "cb.score(x_test, y_test)"
   ]
  },
  {
   "cell_type": "markdown",
   "metadata": {},
   "source": [
    "### Tuning with `RandomSearchCV`"
   ]
  },
  {
   "cell_type": "code",
   "execution_count": 32,
   "metadata": {},
   "outputs": [],
   "source": [
    "# Different LinearSVC hyperparameters\n",
    "svc_grid = {'C': np.arange(1, 10, 1)}\n",
    "\n",
    "# Different KNN hyperparameters\n",
    "knn_grid = {'n_neighbors': np.arange(1, 21, 1)}\n",
    "\n",
    "# Different LogisticRegression hyperparameters\n",
    "log_reg_grid = {'C': np.logspace(-4, 4, 20),\n",
    "                'solver': ['liblinear'],\n",
    "                'penalty' : ['l1', 'l2']}\n",
    "\n",
    "# Different RandomForestClassifier hyperparameters\n",
    "rf_grid = {'n_estimators': np.arange(10, 1000, 50),\n",
    "           'max_depth': [None, 3, 5, 10],\n",
    "           'min_samples_split': np.arange(2, 20, 2),\n",
    "           'min_samples_leaf': np.arange(1, 20, 2)}"
   ]
  },
  {
   "cell_type": "markdown",
   "metadata": {},
   "source": [
    "#### LinearSVC"
   ]
  },
  {
   "cell_type": "code",
   "execution_count": 33,
   "metadata": {},
   "outputs": [
    {
     "name": "stdout",
     "output_type": "stream",
     "text": [
      "Fitting 5 folds for each of 9 candidates, totalling 45 fits\n"
     ]
    },
    {
     "name": "stderr",
     "output_type": "stream",
     "text": [
      "[Parallel(n_jobs=1)]: Using backend SequentialBackend with 1 concurrent workers.\n",
      "[Parallel(n_jobs=1)]: Done  45 out of  45 | elapsed:    0.2s finished\n"
     ]
    }
   ],
   "source": [
    "np.random.seed(42)\n",
    "\n",
    "# Setup random hyperparameter search for LinearSVC\n",
    "rs_svc = RandomizedSearchCV(svm.SVC(),\n",
    "                                param_distributions=svc_grid,\n",
    "                                cv=5,\n",
    "                                n_iter=9,\n",
    "                                verbose=True)\n",
    "\n",
    "# Fit random hyperparameter search model\n",
    "rs_svc.fit(x_train, y_train);"
   ]
  },
  {
   "cell_type": "code",
   "execution_count": 34,
   "metadata": {},
   "outputs": [
    {
     "data": {
      "text/plain": [
       "{'C': 2}"
      ]
     },
     "execution_count": 34,
     "metadata": {},
     "output_type": "execute_result"
    }
   ],
   "source": [
    "rs_svc.best_params_"
   ]
  },
  {
   "cell_type": "code",
   "execution_count": 35,
   "metadata": {},
   "outputs": [
    {
     "data": {
      "text/plain": [
       "0.7049180327868853"
      ]
     },
     "execution_count": 35,
     "metadata": {},
     "output_type": "execute_result"
    }
   ],
   "source": [
    "rs_svc.score(x_test, y_test)"
   ]
  },
  {
   "cell_type": "markdown",
   "metadata": {},
   "source": [
    "#### KNN"
   ]
  },
  {
   "cell_type": "code",
   "execution_count": 36,
   "metadata": {},
   "outputs": [
    {
     "name": "stderr",
     "output_type": "stream",
     "text": [
      "[Parallel(n_jobs=1)]: Using backend SequentialBackend with 1 concurrent workers.\n"
     ]
    },
    {
     "name": "stdout",
     "output_type": "stream",
     "text": [
      "Fitting 5 folds for each of 20 candidates, totalling 100 fits\n"
     ]
    },
    {
     "name": "stderr",
     "output_type": "stream",
     "text": [
      "[Parallel(n_jobs=1)]: Done 100 out of 100 | elapsed:    0.5s finished\n"
     ]
    }
   ],
   "source": [
    "np.random.seed(42)\n",
    "\n",
    "# Setup random hyperparameter search for KNN\n",
    "rs_knn = RandomizedSearchCV(KNeighborsClassifier(),\n",
    "                                param_distributions=knn_grid,\n",
    "                                cv=5,\n",
    "                                n_iter=20,\n",
    "                                verbose=True)\n",
    "\n",
    "# Fit random hyperparameter search model\n",
    "rs_knn.fit(x_train, y_train);"
   ]
  },
  {
   "cell_type": "code",
   "execution_count": 37,
   "metadata": {},
   "outputs": [
    {
     "data": {
      "text/plain": [
       "{'n_neighbors': 3}"
      ]
     },
     "execution_count": 37,
     "metadata": {},
     "output_type": "execute_result"
    }
   ],
   "source": [
    "rs_knn.best_params_"
   ]
  },
  {
   "cell_type": "code",
   "execution_count": 38,
   "metadata": {
    "scrolled": true
   },
   "outputs": [
    {
     "data": {
      "text/plain": [
       "0.6557377049180327"
      ]
     },
     "execution_count": 38,
     "metadata": {},
     "output_type": "execute_result"
    }
   ],
   "source": [
    "rs_knn.score(x_test, y_test)"
   ]
  },
  {
   "cell_type": "markdown",
   "metadata": {},
   "source": [
    "#### Logistic Regression"
   ]
  },
  {
   "cell_type": "code",
   "execution_count": 39,
   "metadata": {},
   "outputs": [
    {
     "name": "stderr",
     "output_type": "stream",
     "text": [
      "[Parallel(n_jobs=1)]: Using backend SequentialBackend with 1 concurrent workers.\n"
     ]
    },
    {
     "name": "stdout",
     "output_type": "stream",
     "text": [
      "Fitting 5 folds for each of 40 candidates, totalling 200 fits\n"
     ]
    },
    {
     "name": "stderr",
     "output_type": "stream",
     "text": [
      "[Parallel(n_jobs=1)]: Done 200 out of 200 | elapsed:    1.0s finished\n"
     ]
    }
   ],
   "source": [
    "np.random.seed(42)\n",
    "\n",
    "# Setup random hyperparameter search for Logistic Regression\n",
    "rs_log_reg = RandomizedSearchCV(LogisticRegression(),\n",
    "                                param_distributions=log_reg_grid,\n",
    "                                cv=5,\n",
    "                                n_iter=40,\n",
    "                                verbose=True)\n",
    "\n",
    "# Fit random hyperparameter search model\n",
    "rs_log_reg.fit(x_train, y_train);"
   ]
  },
  {
   "cell_type": "code",
   "execution_count": 40,
   "metadata": {},
   "outputs": [
    {
     "data": {
      "text/plain": [
       "{'solver': 'liblinear', 'penalty': 'l2', 'C': 0.23357214690901212}"
      ]
     },
     "execution_count": 40,
     "metadata": {},
     "output_type": "execute_result"
    }
   ],
   "source": [
    "rs_log_reg.best_params_"
   ]
  },
  {
   "cell_type": "code",
   "execution_count": 41,
   "metadata": {},
   "outputs": [
    {
     "data": {
      "text/plain": [
       "0.8852459016393442"
      ]
     },
     "execution_count": 41,
     "metadata": {},
     "output_type": "execute_result"
    }
   ],
   "source": [
    "rs_log_reg.score(x_test, y_test)"
   ]
  },
  {
   "cell_type": "markdown",
   "metadata": {},
   "source": [
    "#### Random Forest"
   ]
  },
  {
   "cell_type": "code",
   "execution_count": 42,
   "metadata": {},
   "outputs": [
    {
     "name": "stderr",
     "output_type": "stream",
     "text": [
      "[Parallel(n_jobs=1)]: Using backend SequentialBackend with 1 concurrent workers.\n"
     ]
    },
    {
     "name": "stdout",
     "output_type": "stream",
     "text": [
      "Fitting 5 folds for each of 20 candidates, totalling 100 fits\n"
     ]
    },
    {
     "name": "stderr",
     "output_type": "stream",
     "text": [
      "[Parallel(n_jobs=1)]: Done 100 out of 100 | elapsed:  1.2min finished\n"
     ]
    }
   ],
   "source": [
    "np.random.seed(42)\n",
    "\n",
    "# Setup random hyperparameter search for Random Forest\n",
    "rs_rf = RandomizedSearchCV(RandomForestClassifier(),\n",
    "                           param_distributions=rf_grid,\n",
    "                           cv=5,\n",
    "                        n_iter=20,\n",
    "                           verbose=True)\n",
    "\n",
    "# Fit random hyperparameter search model\n",
    "rs_rf.fit(x_train, y_train);"
   ]
  },
  {
   "cell_type": "code",
   "execution_count": 43,
   "metadata": {},
   "outputs": [
    {
     "data": {
      "text/plain": [
       "{'n_estimators': 210,\n",
       " 'min_samples_split': 4,\n",
       " 'min_samples_leaf': 19,\n",
       " 'max_depth': 3}"
      ]
     },
     "execution_count": 43,
     "metadata": {},
     "output_type": "execute_result"
    }
   ],
   "source": [
    "rs_rf.best_params_"
   ]
  },
  {
   "cell_type": "code",
   "execution_count": 44,
   "metadata": {},
   "outputs": [
    {
     "data": {
      "text/plain": [
       "0.8688524590163934"
      ]
     },
     "execution_count": 44,
     "metadata": {},
     "output_type": "execute_result"
    }
   ],
   "source": [
    "rs_rf.score(x_test, y_test)"
   ]
  },
  {
   "cell_type": "markdown",
   "metadata": {},
   "source": [
    "As the both the CatBoost and Logistic Regression model were the most accurate after hyperparameter tuning, let's try tuning it further with `GridSearchCV`."
   ]
  },
  {
   "cell_type": "markdown",
   "metadata": {},
   "source": [
    "### Tuning with `GridSearchCV`"
   ]
  },
  {
   "cell_type": "markdown",
   "metadata": {},
   "source": [
    "#### CatBoost"
   ]
  },
  {
   "cell_type": "code",
   "execution_count": 45,
   "metadata": {},
   "outputs": [
    {
     "name": "stdout",
     "output_type": "stream",
     "text": [
      "0:\tloss: 0.4195441\tbest: 0.4195441 (0)\ttotal: 29.3ms\tremaining: 1m 10s\n",
      "1:\tloss: 0.4314252\tbest: 0.4195441 (0)\ttotal: 42.1ms\tremaining: 50.5s\n",
      "2:\tloss: 0.4293381\tbest: 0.4195441 (0)\ttotal: 55ms\tremaining: 43.9s\n",
      "3:\tloss: 0.4311213\tbest: 0.4195441 (0)\ttotal: 67.4ms\tremaining: 40.4s\n",
      "4:\tloss: 0.4199943\tbest: 0.4195441 (0)\ttotal: 81.5ms\tremaining: 39s\n",
      "5:\tloss: 0.4136966\tbest: 0.4136966 (5)\ttotal: 94.1ms\tremaining: 37.6s\n",
      "6:\tloss: 0.4413375\tbest: 0.4136966 (5)\ttotal: 107ms\tremaining: 36.5s\n",
      "7:\tloss: 0.4174065\tbest: 0.4136966 (5)\ttotal: 119ms\tremaining: 35.7s\n",
      "8:\tloss: 0.3924123\tbest: 0.3924123 (8)\ttotal: 132ms\tremaining: 35.1s\n",
      "9:\tloss: 0.4424598\tbest: 0.3924123 (8)\ttotal: 151ms\tremaining: 36.1s\n",
      "10:\tloss: 0.4123689\tbest: 0.3924123 (8)\ttotal: 168ms\tremaining: 36.4s\n",
      "11:\tloss: 0.3974229\tbest: 0.3924123 (8)\ttotal: 180ms\tremaining: 35.9s\n",
      "12:\tloss: 0.4369006\tbest: 0.3924123 (8)\ttotal: 193ms\tremaining: 35.5s\n",
      "13:\tloss: 0.4569082\tbest: 0.3924123 (8)\ttotal: 206ms\tremaining: 35.1s\n",
      "14:\tloss: 0.4616847\tbest: 0.3924123 (8)\ttotal: 219ms\tremaining: 34.8s\n",
      "15:\tloss: 0.4066443\tbest: 0.3924123 (8)\ttotal: 242ms\tremaining: 36s\n",
      "16:\tloss: 0.4029607\tbest: 0.3924123 (8)\ttotal: 256ms\tremaining: 35.9s\n",
      "17:\tloss: 0.4247278\tbest: 0.3924123 (8)\ttotal: 280ms\tremaining: 37.1s\n",
      "18:\tloss: 0.4111634\tbest: 0.3924123 (8)\ttotal: 297ms\tremaining: 37.2s\n",
      "19:\tloss: 0.4089766\tbest: 0.3924123 (8)\ttotal: 312ms\tremaining: 37.1s\n",
      "20:\tloss: 0.4195441\tbest: 0.3924123 (8)\ttotal: 329ms\tremaining: 37.3s\n",
      "21:\tloss: 0.4283197\tbest: 0.3924123 (8)\ttotal: 353ms\tremaining: 38.2s\n",
      "22:\tloss: 0.4293381\tbest: 0.3924123 (8)\ttotal: 375ms\tremaining: 38.7s\n",
      "23:\tloss: 0.4311213\tbest: 0.3924123 (8)\ttotal: 397ms\tremaining: 39.3s\n",
      "24:\tloss: 0.4199943\tbest: 0.3924123 (8)\ttotal: 415ms\tremaining: 39.4s\n",
      "25:\tloss: 0.4136966\tbest: 0.3924123 (8)\ttotal: 435ms\tremaining: 39.7s\n",
      "26:\tloss: 0.4403052\tbest: 0.3924123 (8)\ttotal: 459ms\tremaining: 40.3s\n",
      "27:\tloss: 0.4174065\tbest: 0.3924123 (8)\ttotal: 477ms\tremaining: 40.4s\n",
      "28:\tloss: 0.3924123\tbest: 0.3924123 (8)\ttotal: 502ms\tremaining: 41s\n",
      "29:\tloss: 0.4424598\tbest: 0.3924123 (8)\ttotal: 521ms\tremaining: 41.1s\n",
      "30:\tloss: 0.4123689\tbest: 0.3924123 (8)\ttotal: 536ms\tremaining: 41s\n",
      "31:\tloss: 0.3974229\tbest: 0.3924123 (8)\ttotal: 552ms\tremaining: 40.8s\n",
      "32:\tloss: 0.4326480\tbest: 0.3924123 (8)\ttotal: 568ms\tremaining: 40.7s\n",
      "33:\tloss: 0.4557707\tbest: 0.3924123 (8)\ttotal: 585ms\tremaining: 40.7s\n",
      "34:\tloss: 0.4616847\tbest: 0.3924123 (8)\ttotal: 602ms\tremaining: 40.7s\n",
      "35:\tloss: 0.4066443\tbest: 0.3924123 (8)\ttotal: 622ms\tremaining: 40.8s\n",
      "36:\tloss: 0.4029607\tbest: 0.3924123 (8)\ttotal: 640ms\tremaining: 40.9s\n",
      "37:\tloss: 0.4247278\tbest: 0.3924123 (8)\ttotal: 662ms\tremaining: 41.2s\n",
      "38:\tloss: 0.4111634\tbest: 0.3924123 (8)\ttotal: 680ms\tremaining: 41.1s\n",
      "39:\tloss: 0.4089766\tbest: 0.3924123 (8)\ttotal: 700ms\tremaining: 41.3s\n",
      "40:\tloss: 0.4195441\tbest: 0.3924123 (8)\ttotal: 715ms\tremaining: 41.1s\n",
      "41:\tloss: 0.4246520\tbest: 0.3924123 (8)\ttotal: 736ms\tremaining: 41.3s\n",
      "42:\tloss: 0.4293381\tbest: 0.3924123 (8)\ttotal: 751ms\tremaining: 41.1s\n",
      "43:\tloss: 0.4311213\tbest: 0.3924123 (8)\ttotal: 772ms\tremaining: 41.4s\n",
      "44:\tloss: 0.4199943\tbest: 0.3924123 (8)\ttotal: 789ms\tremaining: 41.3s\n",
      "45:\tloss: 0.4026804\tbest: 0.3924123 (8)\ttotal: 814ms\tremaining: 41.6s\n",
      "46:\tloss: 0.4403052\tbest: 0.3924123 (8)\ttotal: 835ms\tremaining: 41.8s\n",
      "47:\tloss: 0.4174065\tbest: 0.3924123 (8)\ttotal: 857ms\tremaining: 42s\n",
      "48:\tloss: 0.3924123\tbest: 0.3924123 (8)\ttotal: 887ms\tremaining: 42.6s\n",
      "49:\tloss: 0.4424598\tbest: 0.3924123 (8)\ttotal: 904ms\tremaining: 42.5s\n",
      "50:\tloss: 0.4123689\tbest: 0.3924123 (8)\ttotal: 931ms\tremaining: 42.9s\n",
      "51:\tloss: 0.3974229\tbest: 0.3924123 (8)\ttotal: 950ms\tremaining: 42.9s\n",
      "52:\tloss: 0.4309959\tbest: 0.3924123 (8)\ttotal: 968ms\tremaining: 42.9s\n",
      "53:\tloss: 0.4518850\tbest: 0.3924123 (8)\ttotal: 986ms\tremaining: 42.8s\n",
      "54:\tloss: 0.4616847\tbest: 0.3924123 (8)\ttotal: 1.02s\tremaining: 43.4s\n",
      "55:\tloss: 0.4066443\tbest: 0.3924123 (8)\ttotal: 1.05s\tremaining: 43.8s\n",
      "56:\tloss: 0.4029607\tbest: 0.3924123 (8)\ttotal: 1.07s\tremaining: 44s\n",
      "57:\tloss: 0.4247278\tbest: 0.3924123 (8)\ttotal: 1.09s\tremaining: 43.9s\n",
      "58:\tloss: 0.4111634\tbest: 0.3924123 (8)\ttotal: 1.11s\tremaining: 43.9s\n",
      "59:\tloss: 0.4089766\tbest: 0.3924123 (8)\ttotal: 1.12s\tremaining: 43.8s\n",
      "Estimating final quality...\n"
     ]
    },
    {
     "data": {
      "text/plain": [
       "0.8852459016393442"
      ]
     },
     "execution_count": 45,
     "metadata": {},
     "output_type": "execute_result"
    }
   ],
   "source": [
    "# Different CatBoost hyperparameters\n",
    "cb_grid = {'iterations': np.arange(17, 20, 1),\n",
    "           'learning_rate': np.arange(0.3, 0.5, 0.01),\n",
    "           'depth': np.arange(1, 2, 0.025)}\n",
    "\n",
    "cb = CatBoostClassifier()\n",
    "\n",
    "gs_cb = cb.grid_search(param_grid=cb_grid,\n",
    "                       X=x_train,\n",
    "                       y=y_train,\n",
    "                       cv=5,\n",
    "                       shuffle=True,\n",
    "                       refit=True,\n",
    "                       verbose=True)\n",
    "\n",
    "cb.score(x_test, y_test)"
   ]
  },
  {
   "cell_type": "markdown",
   "metadata": {},
   "source": [
    "#### Logistic Regression"
   ]
  },
  {
   "cell_type": "code",
   "execution_count": 46,
   "metadata": {},
   "outputs": [
    {
     "name": "stdout",
     "output_type": "stream",
     "text": [
      "Fitting 5 folds for each of 40 candidates, totalling 200 fits\n"
     ]
    },
    {
     "name": "stderr",
     "output_type": "stream",
     "text": [
      "[Parallel(n_jobs=1)]: Using backend SequentialBackend with 1 concurrent workers.\n",
      "[Parallel(n_jobs=1)]: Done 200 out of 200 | elapsed:    1.1s finished\n"
     ]
    }
   ],
   "source": [
    "# Different Logistic Regression hyperparameters\n",
    "log_reg_grid = {'C': np.logspace(-4, 4, 20),\n",
    "                'solver': ['liblinear'],\n",
    "                'penalty' : ['l1', 'l2'],\n",
    "                'C': np.logspace(-4, 4, 20)}\n",
    "\n",
    "# Setup grid hyperparameter search for LogisticRegression\n",
    "gs_log_reg = GridSearchCV(LogisticRegression(),\n",
    "                          param_grid=log_reg_grid,\n",
    "                          cv=5,\n",
    "                          verbose=True)\n",
    "\n",
    "# Fit grid hyperparameter search model\n",
    "gs_log_reg.fit(x_train, y_train);"
   ]
  },
  {
   "cell_type": "code",
   "execution_count": 47,
   "metadata": {},
   "outputs": [
    {
     "data": {
      "text/plain": [
       "{'C': 0.23357214690901212, 'penalty': 'l2', 'solver': 'liblinear'}"
      ]
     },
     "execution_count": 47,
     "metadata": {},
     "output_type": "execute_result"
    }
   ],
   "source": [
    "gs_log_reg.best_params_"
   ]
  },
  {
   "cell_type": "code",
   "execution_count": 48,
   "metadata": {},
   "outputs": [
    {
     "data": {
      "text/plain": [
       "0.8852459016393442"
      ]
     },
     "execution_count": 48,
     "metadata": {},
     "output_type": "execute_result"
    }
   ],
   "source": [
    "gs_log_reg.score(x_test, y_test)"
   ]
  },
  {
   "cell_type": "code",
   "execution_count": 49,
   "metadata": {},
   "outputs": [
    {
     "name": "stderr",
     "output_type": "stream",
     "text": [
      "[Parallel(n_jobs=1)]: Using backend SequentialBackend with 1 concurrent workers.\n"
     ]
    },
    {
     "name": "stdout",
     "output_type": "stream",
     "text": [
      "Fitting 5 folds for each of 72 candidates, totalling 360 fits\n"
     ]
    },
    {
     "name": "stderr",
     "output_type": "stream",
     "text": [
      "[Parallel(n_jobs=1)]: Done 360 out of 360 | elapsed:  1.7min finished\n"
     ]
    },
    {
     "data": {
      "text/plain": [
       "GridSearchCV(cv=5, error_score=nan,\n",
       "             estimator=RandomForestClassifier(bootstrap=True, ccp_alpha=0.0,\n",
       "                                              class_weight=None,\n",
       "                                              criterion='gini', max_depth=None,\n",
       "                                              max_features='auto',\n",
       "                                              max_leaf_nodes=None,\n",
       "                                              max_samples=None,\n",
       "                                              min_impurity_decrease=0.0,\n",
       "                                              min_impurity_split=None,\n",
       "                                              min_samples_leaf=1,\n",
       "                                              min_samples_split=2,\n",
       "                                              min_weight_fraction_leaf=0.0,\n",
       "                                              n_estimators=100, n_jobs=None,\n",
       "                                              oob_score=False,\n",
       "                                              random_state=None, verbose=0,\n",
       "                                              warm_start=False),\n",
       "             iid='deprecated', n_jobs=None,\n",
       "             param_grid={'max_depth': [3, 5],\n",
       "                         'min_samples_leaf': array([18, 19, 20]),\n",
       "                         'min_samples_split': array([3, 4, 5]),\n",
       "                         'n_estimators': array([100, 150, 200, 250])},\n",
       "             pre_dispatch='2*n_jobs', refit=True, return_train_score=False,\n",
       "             scoring=None, verbose=True)"
      ]
     },
     "execution_count": 49,
     "metadata": {},
     "output_type": "execute_result"
    }
   ],
   "source": [
    "rf_grid = {'n_estimators': np.arange(100, 300, 50),\n",
    "           'max_depth': [3, 5],\n",
    "           'min_samples_split': np.arange(3, 6, 1),\n",
    "           'min_samples_leaf': np.arange(18, 21, 1)}\n",
    "\n",
    "# Setup grid hyperparameter search for Random Forest\n",
    "gs_rf = GridSearchCV(RandomForestClassifier(),\n",
    "                     param_grid=rf_grid,\n",
    "                     cv=5,\n",
    "                     verbose=True)\n",
    "\n",
    "gs_rf.fit(x_train, y_train)"
   ]
  },
  {
   "cell_type": "code",
   "execution_count": 50,
   "metadata": {},
   "outputs": [
    {
     "data": {
      "text/plain": [
       "{'max_depth': 3,\n",
       " 'min_samples_leaf': 20,\n",
       " 'min_samples_split': 5,\n",
       " 'n_estimators': 150}"
      ]
     },
     "execution_count": 50,
     "metadata": {},
     "output_type": "execute_result"
    }
   ],
   "source": [
    "gs_rf.best_params_"
   ]
  },
  {
   "cell_type": "code",
   "execution_count": 51,
   "metadata": {},
   "outputs": [
    {
     "data": {
      "text/plain": [
       "0.8688524590163934"
      ]
     },
     "execution_count": 51,
     "metadata": {},
     "output_type": "execute_result"
    }
   ],
   "source": [
    "gs_rf.score(x_test, y_test)"
   ]
  },
  {
   "cell_type": "markdown",
   "metadata": {},
   "source": [
    "It is clear that after hyperparameter tuning, both the Catboost and Logistic Regression model scored the best with over 88.5% accuracy."
   ]
  },
  {
   "cell_type": "markdown",
   "metadata": {},
   "source": [
    "## Evaluating a classification model beyond accuracy"
   ]
  },
  {
   "cell_type": "markdown",
   "metadata": {},
   "source": [
    "Although the accuracy has been evaluated, the metrics and visualizations below also play a role in determining the effectiveness of the model\\:\n",
    "* ROC curve and AUC score \n",
    "* Confusion matrix \n",
    "* Classification report \n",
    "* Precision \n",
    "* Recall \n",
    "* F1-score"
   ]
  },
  {
   "cell_type": "code",
   "execution_count": 52,
   "metadata": {},
   "outputs": [
    {
     "data": {
      "text/plain": [
       "array([0, 1, 1, 0, 1, 1, 1, 0, 0, 1, 1, 0, 1, 0, 1, 1, 1, 0, 0, 0, 1, 0,\n",
       "       0, 1, 1, 1, 1, 1, 0, 1, 0, 0, 0, 0, 1, 0, 1, 1, 1, 1, 1, 1, 1, 1,\n",
       "       1, 0, 1, 1, 0, 0, 0, 0, 1, 1, 0, 0, 0, 1, 0, 0, 0], dtype=int64)"
      ]
     },
     "execution_count": 52,
     "metadata": {},
     "output_type": "execute_result"
    }
   ],
   "source": [
    "# Make predictions on test data\n",
    "y_preds = gs_log_reg.predict(x_test)\n",
    "y_preds"
   ]
  },
  {
   "cell_type": "code",
   "execution_count": 53,
   "metadata": {},
   "outputs": [
    {
     "data": {
      "text/plain": [
       "array([0, 0, 1, 0, 1, 1, 1, 0, 0, 1, 1, 1, 1, 0, 1, 1, 1, 0, 0, 0, 1, 0,\n",
       "       0, 1, 1, 0, 0, 1, 0, 1, 1, 0, 0, 1, 1, 0, 1, 1, 1, 1, 1, 1, 1, 1,\n",
       "       1, 0, 0, 1, 0, 0, 0, 0, 1, 1, 0, 0, 0, 1, 0, 0, 0], dtype=int64)"
      ]
     },
     "execution_count": 53,
     "metadata": {},
     "output_type": "execute_result"
    }
   ],
   "source": [
    "y_test"
   ]
  },
  {
   "cell_type": "code",
   "execution_count": 54,
   "metadata": {},
   "outputs": [
    {
     "data": {
      "text/plain": [
       "<sklearn.metrics._plot.roc_curve.RocCurveDisplay at 0x22b92e10e20>"
      ]
     },
     "execution_count": 54,
     "metadata": {},
     "output_type": "execute_result"
    },
    {
     "data": {
      "image/png": "[encoded data removed]",
      "text/plain": [
       "<Figure size 432x288 with 1 Axes>"
      ]
     },
     "metadata": {
      "needs_background": "light"
     },
     "output_type": "display_data"
    }
   ],
   "source": [
    "# Plot ROC curve and calculate AUC\n",
    "plot_roc_curve(gs_log_reg, x_test, y_test)"
   ]
  },
  {
   "cell_type": "code",
   "execution_count": 55,
   "metadata": {},
   "outputs": [
    {
     "data": {
      "image/png": "[encoded data removed]",
      "text/plain": [
       "<Figure size 288x288 with 1 Axes>"
      ]
     },
     "metadata": {
      "needs_background": "light"
     },
     "output_type": "display_data"
    }
   ],
   "source": [
    "# Create confusion matrix\n",
    "def plot_conf_mat(y_test, y_preds):\n",
    "    \"\"\"\n",
    "    This function plots a confusion matrix\n",
    "    \"\"\"\n",
    "    fig, ax = plt.subplots(figsize=(4, 4))\n",
    "    ax = sns.heatmap(confusion_matrix(y_test, y_preds),\n",
    "                     annot=True, # Annotate the boxes\n",
    "                     cbar=False)\n",
    "    plt.xlabel(\"True Label\")\n",
    "    plt.ylabel(\"Predicted Label\")\n",
    "    \n",
    "plot_conf_mat(y_test, y_preds)"
   ]
  },
  {
   "cell_type": "code",
   "execution_count": 56,
   "metadata": {},
   "outputs": [
    {
     "name": "stdout",
     "output_type": "stream",
     "text": [
      "              precision    recall  f1-score   support\n",
      "\n",
      "           0       0.89      0.86      0.88        29\n",
      "           1       0.88      0.91      0.89        32\n",
      "\n",
      "    accuracy                           0.89        61\n",
      "   macro avg       0.89      0.88      0.88        61\n",
      "weighted avg       0.89      0.89      0.89        61\n",
      "\n"
     ]
    }
   ],
   "source": [
    "# Generate classification report\n",
    "print(classification_report(y_test, y_preds))"
   ]
  },
  {
   "cell_type": "markdown",
   "metadata": {},
   "source": [
    "### Calculate evaluation metrics using cross-validation"
   ]
  },
  {
   "cell_type": "code",
   "execution_count": 57,
   "metadata": {},
   "outputs": [
    {
     "data": {
      "text/plain": [
       "{'C': 0.23357214690901212, 'penalty': 'l2', 'solver': 'liblinear'}"
      ]
     },
     "execution_count": 57,
     "metadata": {},
     "output_type": "execute_result"
    }
   ],
   "source": [
    "# Recreate Logistic Regression model with best parameters\n",
    "gs_log_reg.best_params_"
   ]
  },
  {
   "cell_type": "code",
   "execution_count": 58,
   "metadata": {},
   "outputs": [],
   "source": [
    "clf = LogisticRegression(C=0.23357214690901212,\n",
    "                         solver='liblinear',\n",
    "                         penalty='l2')\n",
    "def cv_score(clf, x, y, cv, metric):\n",
    "    \"\"\"\n",
    "    This function provides an averaged cross-validated score for the metric passed in\n",
    "    \"\"\"\n",
    "    score = np.mean(cross_val_score(clf,\n",
    "                         x,\n",
    "                         y,\n",
    "                         cv=cv, \n",
    "                         scoring=metric))\n",
    "    return score"
   ]
  },
  {
   "cell_type": "code",
   "execution_count": 59,
   "metadata": {},
   "outputs": [
    {
     "data": {
      "text/html": [
       "<div>\n",
       "<style scoped>\n",
       "    .dataframe tbody tr th:only-of-type {\n",
       "        vertical-align: middle;\n",
       "    }\n",
       "\n",
       "    .dataframe tbody tr th {\n",
       "        vertical-align: top;\n",
       "    }\n",
       "\n",
       "    .dataframe thead th {\n",
       "        text-align: right;\n",
       "    }\n",
       "</style>\n",
       "<table border=\"1\" class=\"dataframe\">\n",
       "  <thead>\n",
       "    <tr style=\"text-align: right;\">\n",
       "      <th></th>\n",
       "      <th>Accuracy</th>\n",
       "      <th>Precision</th>\n",
       "      <th>Recall</th>\n",
       "      <th>f1</th>\n",
       "    </tr>\n",
       "  </thead>\n",
       "  <tbody>\n",
       "    <tr>\n",
       "      <th>0</th>\n",
       "      <td>0.847978</td>\n",
       "      <td>0.821587</td>\n",
       "      <td>0.927273</td>\n",
       "      <td>0.87054</td>\n",
       "    </tr>\n",
       "  </tbody>\n",
       "</table>\n",
       "</div>"
      ],
      "text/plain": [
       "   Accuracy  Precision    Recall       f1\n",
       "0  0.847978   0.821587  0.927273  0.87054"
      ]
     },
     "execution_count": 59,
     "metadata": {},
     "output_type": "execute_result"
    }
   ],
   "source": [
    "# Cross-validated scores\n",
    "cv_score(clf, x, y, 5, 'accuracy')\n",
    "\n",
    "cv_metrics = pd.DataFrame({'Accuracy': cv_score(clf, x, y, 5, 'accuracy'),\n",
    "                            'Precision': cv_score(clf, x, y, 5, 'precision'),\n",
    "                            'Recall': cv_score(clf, x, y, 5, 'recall'),\n",
    "                            'f1': cv_score(clf, x, y, 5, 'f1')},\n",
    "                            index=[0])\n",
    "cv_metrics"
   ]
  },
  {
   "cell_type": "code",
   "execution_count": 60,
   "metadata": {},
   "outputs": [
    {
     "data": {
      "text/plain": [
       "<matplotlib.axes._subplots.AxesSubplot at 0x22b92fb4100>"
      ]
     },
     "execution_count": 60,
     "metadata": {},
     "output_type": "execute_result"
    },
    {
     "data": {
      "image/png": "[encoded data removed]",
      "text/plain": [
       "<Figure size 432x288 with 1 Axes>"
      ]
     },
     "metadata": {
      "needs_background": "light"
     },
     "output_type": "display_data"
    }
   ],
   "source": [
    "# Plot metrics\n",
    "cv_metrics.T.plot.bar(title='Cross-Validated Metrics', legend=False)"
   ]
  },
  {
   "cell_type": "markdown",
   "metadata": {},
   "source": [
    "## Feature Importance"
   ]
  },
  {
   "cell_type": "code",
   "execution_count": 61,
   "metadata": {},
   "outputs": [],
   "source": [
    "# Fit an instance of Logistic Regression\n",
    "clf.fit(x_train, y_train);"
   ]
  },
  {
   "cell_type": "code",
   "execution_count": 62,
   "metadata": {},
   "outputs": [
    {
     "data": {
      "text/plain": [
       "array([[ 0.00369922, -0.90424087,  0.67472828, -0.0116134 , -0.00170364,\n",
       "         0.04787689,  0.33490186,  0.02472938, -0.63120403, -0.57590919,\n",
       "         0.4709512 , -0.6516535 , -0.69984202]])"
      ]
     },
     "execution_count": 62,
     "metadata": {},
     "output_type": "execute_result"
    }
   ],
   "source": [
    "# Check coef_\n",
    "clf.coef_"
   ]
  },
  {
   "cell_type": "code",
   "execution_count": 63,
   "metadata": {},
   "outputs": [
    {
     "data": {
      "text/plain": [
       "{'age': 0.003699219011760782,\n",
       " 'sex': -0.9042408714480176,\n",
       " 'cp': 0.6747282766540338,\n",
       " 'trestbps': -0.01161340334265323,\n",
       " 'chol': -0.0017036446360052262,\n",
       " 'fbs': 0.04787688669240361,\n",
       " 'restecg': 0.3349018562558094,\n",
       " 'thalach': 0.024729384743360134,\n",
       " 'exang': -0.631204028843173,\n",
       " 'oldpeak': -0.575909185434028,\n",
       " 'slope': 0.47095119664446533,\n",
       " 'ca': -0.6516535002884537,\n",
       " 'thal': -0.6998420233395882}"
      ]
     },
     "execution_count": 63,
     "metadata": {},
     "output_type": "execute_result"
    }
   ],
   "source": [
    "# Match features to columns\n",
    "features = dict(zip(df.columns, list(clf.coef_[0])))\n",
    "features"
   ]
  },
  {
   "cell_type": "code",
   "execution_count": 65,
   "metadata": {},
   "outputs": [
    {
     "data": {
      "image/png": "[encoded data removed]",
      "text/plain": [
       "<Figure size 432x288 with 1 Axes>"
      ]
     },
     "metadata": {
      "needs_background": "light"
     },
     "output_type": "display_data"
    }
   ],
   "source": [
    "# Graph feature importance\n",
    "features_df = pd.DataFrame(features, index=[0])\n",
    "features_df.T.plot.bar(title=\"Feature Importance\", legend=False);"
   ]
  },
  {
   "cell_type": "markdown",
   "metadata": {},
   "source": [
    "It is strange to see chol (cholesterol level) plays a minimal role in determining whether or not an individual has heart disease. Furthermore, although sex being highly negatively correlated is unorthodox, it simply indicates that females are more likely to suffer from heart disease in this dataset due to the nature of the sample size."
   ]
  }
 ],
 "metadata": {
  "kernelspec": {
   "display_name": "Python 3",
   "language": "python",
   "name": "python3"
  },
  "language_info": {
   "codemirror_mode": {
    "name": "ipython",
    "version": 3
   },
   "file_extension": ".py",
   "mimetype": "text/x-python",
   "name": "python",
   "nbconvert_exporter": "python",
   "pygments_lexer": "ipython3",
   "version": "3.8.2"
  }
 },
 "nbformat": 4,
 "nbformat_minor": 4
}
